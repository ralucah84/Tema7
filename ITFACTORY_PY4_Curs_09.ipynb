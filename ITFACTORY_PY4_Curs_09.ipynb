{
 "cells": [
  {
   "cell_type": "code",
   "execution_count": null,
   "id": "11653b2f",
   "metadata": {},
   "outputs": [],
   "source": []
  },
  {
   "cell_type": "code",
   "execution_count": 2,
   "id": "a95c2ef2",
   "metadata": {},
   "outputs": [],
   "source": []
  },
  {
   "cell_type": "code",
   "execution_count": null,
   "id": "5f67484b",
   "metadata": {},
   "outputs": [],
   "source": []
  },
  {
   "cell_type": "code",
   "execution_count": 5,
   "id": "1a24d0b3",
   "metadata": {},
   "outputs": [],
   "source": [
    "country = {\n",
    "    \"name\": \"Romania\",\n",
    "    \"population\": 19500000,\n",
    "    \"capital\": \"Bucharest\"\n",
    "}"
   ]
  },
  {
   "cell_type": "code",
   "execution_count": 6,
   "id": "05a20da4",
   "metadata": {},
   "outputs": [],
   "source": [
    "import json"
   ]
  },
  {
   "cell_type": "code",
   "execution_count": 8,
   "id": "8148e649",
   "metadata": {},
   "outputs": [],
   "source": [
    "as_str = json.dumps(country)"
   ]
  },
  {
   "cell_type": "code",
   "execution_count": 9,
   "id": "4ad53fed",
   "metadata": {},
   "outputs": [],
   "source": [
    "as_dict = json.loads(as_str)"
   ]
  },
  {
   "cell_type": "code",
   "execution_count": 10,
   "id": "e2566a7a",
   "metadata": {},
   "outputs": [],
   "source": [
    "json.dump?"
   ]
  },
  {
   "cell_type": "code",
   "execution_count": 11,
   "id": "558d17b2",
   "metadata": {},
   "outputs": [
    {
     "data": {
      "text/plain": [
       "{'name': 'Romania', 'population': 19500000, 'capital': 'Bucharest'}"
      ]
     },
     "execution_count": 11,
     "metadata": {},
     "output_type": "execute_result"
    }
   ],
   "source": [
    "as_dict"
   ]
  },
  {
   "cell_type": "code",
   "execution_count": 12,
   "id": "113677f3",
   "metadata": {},
   "outputs": [
    {
     "data": {
      "text/plain": [
       "{'people': {'aeec8c5e-f513-4dfd-8435-1d49eb90877c': {'first_name': 'Mike',\n",
       "   'last_name': 'McMan',\n",
       "   'sex': 'M',\n",
       "   'age': 52,\n",
       "   'partner': 'd48da772-fdb0-4b14-9ff5-aafe29c15dc9',\n",
       "   'children': ['dd69e184-ee18-491c-ba36-db625ba35d8b',\n",
       "    'b14031ee-bec5-4902-8e78-95508bd89b64',\n",
       "    '9fc00e67-5d00-4830-8679-4e2e66f7fe64']},\n",
       "  'd48da772-fdb0-4b14-9ff5-aafe29c15dc9': {'first_name': 'Mary',\n",
       "   'last_name': 'McMan',\n",
       "   'sex': 'F',\n",
       "   'age': 50,\n",
       "   'partner': 'aeec8c5e-f513-4dfd-8435-1d49eb90877c',\n",
       "   'children': ['dd69e184-ee18-491c-ba36-db625ba35d8b',\n",
       "    'b14031ee-bec5-4902-8e78-95508bd89b64']},\n",
       "  'dd69e184-ee18-491c-ba36-db625ba35d8b': {'first_name': 'Anna',\n",
       "   'last_name': 'McMan',\n",
       "   'sex': 'F',\n",
       "   'age': 28,\n",
       "   'partner': '',\n",
       "   'children': []},\n",
       "  'b14031ee-bec5-4902-8e78-95508bd89b64': {'first_name': 'Adrian',\n",
       "   'last_name': 'McMan',\n",
       "   'sex': 'M',\n",
       "   'age': 26,\n",
       "   'partner': '',\n",
       "   'children': []},\n",
       "  '9fc00e67-5d00-4830-8679-4e2e66f7fe64': {'first_name': 'Danna',\n",
       "   'last_name': 'McMan',\n",
       "   'sex': 'F',\n",
       "   'age': 30,\n",
       "   'partner': '',\n",
       "   'children': []},\n",
       "  '711f79a9-8ec8-45d4-8de6-76ae06c7b7cd': {'first_name': 'John',\n",
       "   'last_name': 'Doe',\n",
       "   'sex': 'M',\n",
       "   'age': 32,\n",
       "   'partner': '',\n",
       "   'children': []}}}"
      ]
     },
     "execution_count": 12,
     "metadata": {},
     "output_type": "execute_result"
    }
   ],
   "source": [
    "with open('people.json', 'r') as f:\n",
    "#     data = f.read()\n",
    "    people = json.load(f)\n",
    "\n",
    "people"
   ]
  },
  {
   "cell_type": "code",
   "execution_count": 17,
   "id": "31b41798",
   "metadata": {},
   "outputs": [
    {
     "data": {
      "text/plain": [
       "dict"
      ]
     },
     "execution_count": 17,
     "metadata": {},
     "output_type": "execute_result"
    }
   ],
   "source": [
    "type(people)"
   ]
  },
  {
   "cell_type": "code",
   "execution_count": 13,
   "id": "403e1b83",
   "metadata": {},
   "outputs": [],
   "source": [
    "with open('alt_fisier.json', 'w') as f:\n",
    "    json.dump(people, f, indent=4)"
   ]
  },
  {
   "cell_type": "code",
   "execution_count": 21,
   "id": "752b0ce4",
   "metadata": {},
   "outputs": [],
   "source": [
    "# (TEMA_08): Given the json file people.json:\n",
    "# 1. Write a function that will print all the details of a person. The function will receive first_name and last_name.\n",
    "# 2. List the details of the oldest person\n",
    "# 3. List the details for of all the girls Mike has\n",
    "# 4. List the details of the children 'Mike' and 'Mary' have together.\n",
    "# 5. Marry Anna to John and do the required changes!\n",
    "# 6. Add a new person to the file that is going to be Adrian`s partner called 'Adriana' thats 25 years old and has no children.\n",
    "# TIP: for generating an id, import uuid and use the function uuid.uuid4()\n",
    "# 7. List the final version of data and save it to the file\n",
    "# 8. Write a function that let`s you add a new person to the file using keyboard inputs for every trait. (you can choose how to handle children and partner: at creating or later?)\n"
   ]
  },
  {
   "cell_type": "code",
   "execution_count": 1,
   "id": "902236fe",
   "metadata": {},
   "outputs": [
    {
     "ename": "NameError",
     "evalue": "name 'json' is not defined",
     "output_type": "error",
     "traceback": [
      "\u001b[1;31m---------------------------------------------------------------------------\u001b[0m",
      "\u001b[1;31mNameError\u001b[0m                                 Traceback (most recent call last)",
      "Input \u001b[1;32mIn [1]\u001b[0m, in \u001b[0;36m<module>\u001b[1;34m\u001b[0m\n\u001b[0;32m      1\u001b[0m \u001b[38;5;28;01mwith\u001b[39;00m \u001b[38;5;28mopen\u001b[39m(\u001b[38;5;124m'\u001b[39m\u001b[38;5;124m./people.json\u001b[39m\u001b[38;5;124m'\u001b[39m) \u001b[38;5;28;01mas\u001b[39;00m f:\n\u001b[1;32m----> 2\u001b[0m     people \u001b[38;5;241m=\u001b[39m \u001b[43mjson\u001b[49m\u001b[38;5;241m.\u001b[39mload(f)\n\u001b[0;32m      3\u001b[0m people \u001b[38;5;241m=\u001b[39m people[\u001b[38;5;124m'\u001b[39m\u001b[38;5;124mpeople\u001b[39m\u001b[38;5;124m'\u001b[39m]\n\u001b[0;32m      4\u001b[0m \u001b[38;5;28mprint\u001b[39m(json\u001b[38;5;241m.\u001b[39mdumps(people, indent\u001b[38;5;241m=\u001b[39m\u001b[38;5;241m4\u001b[39m))\n",
      "\u001b[1;31mNameError\u001b[0m: name 'json' is not defined"
     ]
    }
   ],
   "source": [
    "with open('./people.json') as f:\n",
    "    people = json.load(f)\n",
    "people = people['people']\n",
    "print(json.dumps(people, indent=4))"
   ]
  },
  {
   "cell_type": "code",
   "execution_count": 77,
   "id": "10fe4097",
   "metadata": {},
   "outputs": [
    {
     "name": "stdout",
     "output_type": "stream",
     "text": [
      "First name: Adrian\n",
      "Last name McMan\n",
      "Age: 26\n",
      "Sex: M\n",
      "Partner:  \n",
      "Children: \n"
     ]
    }
   ],
   "source": [
    "# 1. Write a function that will print all the details of a person. The function will receive first_name and last_name.\n",
    "# Bonus: Let`s try to return first_name last_name for partner and first_name for children\n",
    "def print_person_details(people_dict, first_name, last_name):\n",
    "    for person_id, person in people_dict.items():\n",
    "        if person['last_name'] == last_name and person['first_name'] == first_name:\n",
    "            partner_first_name = people_dict.get(person.get('partner'), {}).get('first_name', '')\n",
    "            partner_last_name = people_dict.get(person.get('partner'), {}).get('last_name', '')\n",
    "            \n",
    "#             children = [\"Anna\", \"Adrian\", \"Danna\"]\n",
    "            children = []\n",
    "            for child in person['children']:\n",
    "                children.append(people_dict[child]['first_name'])\n",
    "            print(f\"\"\"First name: {person['first_name']}\\nLast name {person['last_name']}\\nAge: {person['age']}\"\"\"\n",
    "                  f\"\"\"\\nSex: {person['sex']}\\nPartner: {partner_first_name} {partner_last_name}\\nChildren: {children}\"\"\")\n",
    "\n",
    "def print_person_details_v2(people_dict, first_name, last_name):\n",
    "    for person_id, person in people_dict.items():\n",
    "        if person['last_name'] == last_name and person['first_name'] == first_name:\n",
    "            partner_first_name = people_dict.get(person.get('partner'), {}).get('first_name', '')\n",
    "            partner_last_name = people_dict.get(person.get('partner'), {}).get('last_name', '')\n",
    "            children = ''\n",
    "            for child in person['children']:\n",
    "                children += people_dict[child]['first_name'] + ', '\n",
    "            if children:\n",
    "                children = children[:-2]\n",
    "            print(f\"\"\"First name: {person['first_name']}\\nLast name {person['last_name']}\\nAge: {person['age']}\"\"\"\n",
    "                  f\"\"\"\\nSex: {person['sex']}\\nPartner: {partner_first_name} {partner_last_name}\\nChildren: {children}\"\"\")\n",
    "        \n",
    "\n",
    "def print_person_details_v3(people_dict, first_name, last_name):\n",
    "    for person_id, person in people_dict.items():\n",
    "        if person['last_name'] == last_name and person['first_name'] == first_name:\n",
    "            partner_first_name = people_dict.get(person.get('partner'), {}).get('first_name', '')\n",
    "            partner_last_name = people_dict.get(person.get('partner'), {}).get('last_name', '')\n",
    "            children = ', '.join(people_dict[child]['first_name'] for child in person['children'])\n",
    "            print(f\"\"\"First name: {person['first_name']}\\nLast name {person['last_name']}\\nAge: {person['age']}\"\"\"\n",
    "                  f\"\"\"\\nSex: {person['sex']}\\nPartner: {partner_first_name} {partner_last_name}\\nChildren: {children}\"\"\")\n",
    "        \n",
    "# vreau sa printez detaliile lui Mike McMan\n",
    "print_person_details_v3(people, 'Mike', 'McMan')\n",
    "# print_person_details_v3(people, 'Adrian', 'McMan')"
   ]
  },
  {
   "cell_type": "code",
   "execution_count": 85,
   "id": "f0215722",
   "metadata": {},
   "outputs": [
    {
     "name": "stdout",
     "output_type": "stream",
     "text": [
      "First name: Mike\n",
      "Last name McMan\n",
      "Age: 52\n",
      "Sex: M\n",
      "Partner: Mary McMan\n",
      "Children: ['Anna', 'Adrian', 'Danna']\n"
     ]
    }
   ],
   "source": [
    "# 2. List the details of the oldest person\n",
    "def print_details_of_oldest_person(people_dict):\n",
    "    max_age = 0\n",
    "    for person_id, person in people_dict.items():\n",
    "        if person['age'] > max_age:\n",
    "            max_age = person['age']\n",
    "            first_name = person['first_name']\n",
    "            last_name = person['last_name']\n",
    "\n",
    "    print_person_details(people_dict, first_name, last_name)\n",
    "    \n",
    "    \n",
    "print_details_of_oldest_person(people)"
   ]
  },
  {
   "cell_type": "code",
   "execution_count": 87,
   "id": "9f56dda7",
   "metadata": {},
   "outputs": [
    {
     "name": "stdout",
     "output_type": "stream",
     "text": [
      "First name: Anna\n",
      "Last name McMan\n",
      "Age: 28\n",
      "Sex: F\n",
      "Partner:  \n",
      "Children: []\n",
      "\n",
      "First name: Danna\n",
      "Last name McMan\n",
      "Age: 30\n",
      "Sex: F\n",
      "Partner:  \n",
      "Children: []\n",
      "\n"
     ]
    }
   ],
   "source": [
    "# 3. List the details for of all the girls Mike McMan has\n",
    "def print_details_of_mike_daughters(people_dict):\n",
    "    for person_id, person in people_dict.items():\n",
    "        if person['first_name'] == 'Mike' and person['last_name'] == 'McMan':\n",
    "            for child_id in person[\"children\"]:\n",
    "                if people_dict[child_id]['sex'] == 'F':\n",
    "                    print_person_details(people_dict, people_dict[child_id]['first_name'], people_dict[child_id]['last_name'])\n",
    "                    print()\n",
    "#print(people_dict[child_id]['first_name'][-1] == 'a')\n",
    "\n",
    "print_details_of_mike_daughters(people)"
   ]
  },
  {
   "cell_type": "code",
   "execution_count": 92,
   "id": "214e7c45",
   "metadata": {},
   "outputs": [
    {
     "name": "stdout",
     "output_type": "stream",
     "text": [
      "First name: Anna\n",
      "Last name McMan\n",
      "Age: 28\n",
      "Sex: F\n",
      "Partner:  \n",
      "Children: []\n",
      "\n",
      "First name: Adrian\n",
      "Last name McMan\n",
      "Age: 26\n",
      "Sex: M\n",
      "Partner:  \n",
      "Children: []\n",
      "\n"
     ]
    }
   ],
   "source": [
    "# 4. List the details of the children 'Mike' and 'Mary' have together.\n",
    "def print_details_of_mike_and_mary_children(people_dict):\n",
    "    for person_id, person in people_dict.items():\n",
    "        if person['first_name'] == 'Mike':\n",
    "            for child_id in person['children']:\n",
    "                if child_id in people_dict[person['partner']]['children']:\n",
    "                    # afisam detaliile copilului....\n",
    "                    print_person_details(people_dict, people_dict[child_id]['first_name'], people_dict[child_id]['last_name'])\n",
    "                    print()\n",
    "print_details_of_mike_and_mary_children(people)"
   ]
  },
  {
   "cell_type": "code",
   "execution_count": 93,
   "id": "003a5845",
   "metadata": {},
   "outputs": [
    {
     "name": "stdout",
     "output_type": "stream",
     "text": [
      "{'aeec8c5e-f513-4dfd-8435-1d49eb90877c': {'first_name': 'Mike', 'last_name': 'McMan', 'sex': 'M', 'age': 52, 'partner': 'd48da772-fdb0-4b14-9ff5-aafe29c15dc9', 'children': ['dd69e184-ee18-491c-ba36-db625ba35d8b', 'b14031ee-bec5-4902-8e78-95508bd89b64', '9fc00e67-5d00-4830-8679-4e2e66f7fe64']}, 'd48da772-fdb0-4b14-9ff5-aafe29c15dc9': {'first_name': 'Mary', 'last_name': 'McMan', 'sex': 'F', 'age': 50, 'partner': 'aeec8c5e-f513-4dfd-8435-1d49eb90877c', 'children': ['dd69e184-ee18-491c-ba36-db625ba35d8b', 'b14031ee-bec5-4902-8e78-95508bd89b64']}, 'dd69e184-ee18-491c-ba36-db625ba35d8b': {'first_name': 'Anna', 'last_name': 'Doe', 'sex': 'F', 'age': 28, 'partner': '711f79a9-8ec8-45d4-8de6-76ae06c7b7cd', 'children': []}, 'b14031ee-bec5-4902-8e78-95508bd89b64': {'first_name': 'Adrian', 'last_name': 'McMan', 'sex': 'M', 'age': 26, 'partner': '', 'children': []}, '9fc00e67-5d00-4830-8679-4e2e66f7fe64': {'first_name': 'Danna', 'last_name': 'McMan', 'sex': 'F', 'age': 30, 'partner': '', 'children': []}, '711f79a9-8ec8-45d4-8de6-76ae06c7b7cd': {'first_name': 'John', 'last_name': 'Doe', 'sex': 'M', 'age': 32, 'partner': 'dd69e184-ee18-491c-ba36-db625ba35d8b', 'children': []}}\n"
     ]
    }
   ],
   "source": [
    "# 5. Marry Anna to John and do the required changes (update people dict)!\n",
    "def marry_anna_to_john(people_dict):\n",
    "    for person_id, person in people_dict.items():\n",
    "        if person['first_name'] == 'Anna':\n",
    "            anna_id = person_id\n",
    "        if person['first_name'] == 'John':\n",
    "            john_id = person_id\n",
    "    \n",
    "    people_dict[anna_id]['last_name'] = people_dict[john_id]['last_name']\n",
    "    people_dict[anna_id]['partner'] = john_id\n",
    "    people_dict[john_id]['partner'] = anna_id\n",
    "    \n",
    "    return people_dict\n",
    "\n",
    "print(marry_anna_to_john(people))"
   ]
  },
  {
   "cell_type": "code",
   "execution_count": 36,
   "id": "c62351d7",
   "metadata": {},
   "outputs": [
    {
     "name": "stdout",
     "output_type": "stream",
     "text": [
      "a\n",
      "b\n"
     ]
    }
   ],
   "source": [
    "d = {'a': 1, 'b': 2}\n",
    "for key, value in d.items():\n",
    "    print(f'key is: {key}')\n",
    "    print(f'value is: {value}')  \n",
    "    \n"
   ]
  },
  {
   "cell_type": "code",
   "execution_count": 37,
   "id": "6cb970ad",
   "metadata": {},
   "outputs": [],
   "source": [
    "person = {'first_name': 'Mike', 'last_name': 'McMan', 'sex': 'M', 'age': 52, 'partner': 'd48da772-fdb0-4b14-9ff5-aafe29c15dc9', 'children': ['dd69e184-ee18-491c-ba36-db625ba35d8b', 'b14031ee-bec5-4902-8e78-95508bd89b64', '9fc00e67-5d00-4830-8679-4e2e66f7fe64']}"
   ]
  },
  {
   "cell_type": "code",
   "execution_count": 38,
   "id": "9bb9374d",
   "metadata": {},
   "outputs": [
    {
     "data": {
      "text/plain": [
       "{'first_name': 'Mike',\n",
       " 'last_name': 'McMan',\n",
       " 'sex': 'M',\n",
       " 'age': 52,\n",
       " 'partner': 'd48da772-fdb0-4b14-9ff5-aafe29c15dc9',\n",
       " 'children': ['dd69e184-ee18-491c-ba36-db625ba35d8b',\n",
       "  'b14031ee-bec5-4902-8e78-95508bd89b64',\n",
       "  '9fc00e67-5d00-4830-8679-4e2e66f7fe64']}"
      ]
     },
     "execution_count": 38,
     "metadata": {},
     "output_type": "execute_result"
    }
   ],
   "source": [
    "person"
   ]
  },
  {
   "cell_type": "code",
   "execution_count": 39,
   "id": "06c51397",
   "metadata": {},
   "outputs": [
    {
     "data": {
      "text/plain": [
       "'McMan'"
      ]
     },
     "execution_count": 39,
     "metadata": {},
     "output_type": "execute_result"
    }
   ],
   "source": [
    "person['last_name']"
   ]
  },
  {
   "cell_type": "code",
   "execution_count": 65,
   "id": "3a681955",
   "metadata": {},
   "outputs": [
    {
     "data": {
      "text/plain": [
       "''"
      ]
     },
     "execution_count": 65,
     "metadata": {},
     "output_type": "execute_result"
    }
   ],
   "source": [
    "person = {'first_name': 'Adrian',\n",
    " 'last_name': 'McMan',\n",
    " 'sex': 'M',\n",
    " 'age': 26,\n",
    " 'partner': '',\n",
    " 'children': []\n",
    "}\n",
    "people.get(person.get('partner'), {}).get('first_name', '')"
   ]
  },
  {
   "cell_type": "code",
   "execution_count": 62,
   "id": "b02d0c7d",
   "metadata": {},
   "outputs": [
    {
     "data": {
      "text/plain": [
       "'Nu exista'"
      ]
     },
     "execution_count": 62,
     "metadata": {},
     "output_type": "execute_result"
    }
   ],
   "source": [
    "d = {'a': 1, 'c': 3}\n",
    "# vreau sa returnez b, iar daca nu exista, vreau sa afisez 'Nu exista'\n",
    "# try:\n",
    "#     d['b']\n",
    "# except:\n",
    "#     print('Nu exista')\n",
    "    \n",
    "d.get('b', 'Nu exista')\n",
    "d = {'a': {'z': 100, 'x': 1000}, 'c': 3}\n",
    "# vreau cheia y din interiorul cheii a, daca nu exista, mesajul 'Nu exista'\n",
    "d.get('a').get('y', 'Nu exista')dd\n",
    "# vreau cheia 'w' din interiorul cheii 'd'\n",
    "d.get('d', {}).get('w', 'Nu exista')\n"
   ]
  },
  {
   "cell_type": "code",
   "execution_count": 96,
   "id": "a7bd5f10",
   "metadata": {},
   "outputs": [
    {
     "data": {
      "text/plain": [
       "UUID('417f7f02-10fd-40e7-820b-5088f20b540d')"
      ]
     },
     "execution_count": 96,
     "metadata": {},
     "output_type": "execute_result"
    }
   ],
   "source": [
    "import uuid\n",
    "uuid.uuid4()"
   ]
  },
  {
   "cell_type": "code",
   "execution_count": 97,
   "id": "caad75d1",
   "metadata": {},
   "outputs": [],
   "source": [
    "# (TEMA_08) Marketplace app:\n",
    "# Requirements:\n",
    "# - every function should have keyboard inputs\n",
    "# - design a db (tip: use json)\n",
    "# - be able to create, read, update, delete users (atribute: name,email,register_date)\n",
    "# - be able to create, read, update, delete products (atribute: product_name,category,price)\n",
    "# - be able to create, read, update, delete orders (user_id,product_id,register_date)\n",
    "\n",
    "# \n",
    "# - add a new module utils (and if needed a subpackages as well) to extend the app with some functionalities such as:\n",
    "#   - be able to list all products in a category\n",
    "#   - be able to list list all orders of a user\n",
    "#   Bonus:\n",
    "#   - be able to hold a cash balance for products sold on the market\n",
    "#   - be able to hold the stock for products that will decrease after and order, not executing the order if stock = 0, also \n",
    "# be able to restock some products"
   ]
  },
  {
   "cell_type": "code",
   "execution_count": 100,
   "id": "a21a688f",
   "metadata": {},
   "outputs": [],
   "source": [
    "import os\n",
    "os.path.abspath('.')"
   ]
  },
  {
   "cell_type": "code",
   "execution_count": 104,
   "id": "73739638",
   "metadata": {},
   "outputs": [
    {
     "name": "stdout",
     "output_type": "stream",
     "text": [
      "<class 'uuid.UUID'>\n",
      "<class 'str'>\n",
      "97728356-cdf6-4259-b630-cff559793fdf\n"
     ]
    }
   ],
   "source": [
    "new_uuid = uuid.uuid4()\n",
    "print(type(new_uuid))\n",
    "new_uuid = str(new_uuid)\n",
    "print(type(new_uuid))\n",
    "print(new_uuid)"
   ]
  },
  {
   "cell_type": "code",
   "execution_count": null,
   "id": "f7666594",
   "metadata": {},
   "outputs": [],
   "source": []
  }
 ],
 "metadata": {
  "kernelspec": {
   "display_name": "Python 3 (ipykernel)",
   "language": "python",
   "name": "python3"
  },
  "language_info": {
   "codemirror_mode": {
    "name": "ipython",
    "version": 3
   },
   "file_extension": ".py",
   "mimetype": "text/x-python",
   "name": "python",
   "nbconvert_exporter": "python",
   "pygments_lexer": "ipython3",
   "version": "3.8.10"
  }
 },
 "nbformat": 4,
 "nbformat_minor": 5
}
