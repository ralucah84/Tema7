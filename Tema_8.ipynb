{
 "cells": [
  {
   "cell_type": "code",
   "execution_count": null,
   "id": "03b2eb3d",
   "metadata": {},
   "outputs": [],
   "source": [
    "# 1). Given the json file people.json:\n",
    "# a. Write a function that will print all the details of a person. The function will receive first_name and last_name.\n",
    "# b. List the details of the oldest person\n",
    "# c. List the details for of all the girls Mike has\n",
    "# d. List the details of the children 'Mike' and 'Mary' have together.\n",
    "# e. Marry Anna to John and do the required changes!\n",
    "# f. Add a new person to the file that is going to be Adrian`s partner called 'Adriana' thats 25 years old and \n",
    "# has no children. TIP: for generating an id, import uuid and use the function uuid.uuid4()\n",
    "# g. List the final version of data and save it to the file\n",
    "# h. Write a function that let`s you add a new person to the file using keyboard inputs for every trait. \n",
    "# (you can choose how to handle children and partner: at creating? later?)\n",
    "\n",
    "# 2). You can start thinking how to design & implement Marketplace project from ppt :). \n",
    "# We`ll discuss it together at class anyway.\n",
    "\n",
    "\n",
    "import json\n"
   ]
  }
 ],
 "metadata": {
  "kernelspec": {
   "display_name": "Python 3 (ipykernel)",
   "language": "python",
   "name": "python3"
  },
  "language_info": {
   "codemirror_mode": {
    "name": "ipython",
    "version": 3
   },
   "file_extension": ".py",
   "mimetype": "text/x-python",
   "name": "python",
   "nbconvert_exporter": "python",
   "pygments_lexer": "ipython3",
   "version": "3.8.10"
  }
 },
 "nbformat": 4,
 "nbformat_minor": 5
}
