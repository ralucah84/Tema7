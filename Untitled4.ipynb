{
 "cells": [
  {
   "cell_type": "code",
   "execution_count": 6,
   "id": "368fe2a7",
   "metadata": {},
   "outputs": [
    {
     "name": "stdout",
     "output_type": "stream",
     "text": [
      "1\n",
      "2\n",
      "3\n",
      "4\n",
      "5\n"
     ]
    }
   ],
   "source": [
    "# Write a function that takes as argument a natural number and prints all numbers between 0 and itself\n",
    "\n",
    "def nr_natural(numar):\n",
    "    for i in range (1,numar+1):\n",
    "        print (i)\n",
    "nr_natural(5)"
   ]
  },
  {
   "cell_type": "code",
   "execution_count": 11,
   "id": "fd8f6fea",
   "metadata": {},
   "outputs": [
    {
     "name": "stdout",
     "output_type": "stream",
     "text": [
      "The result of x=5 to the power of y=3 is: 125\n"
     ]
    }
   ],
   "source": [
    "# Write a function that takes as argument a natural number x and an optional argument natural number y  \n",
    "#(that if not passed, takes as default value 2). The function which will print the result of x to the power y \n",
    "# as a verbose f-string: \"The result of x={} to the power of y={} is:{} \"\n",
    "\n",
    "def func(x,y=2):\n",
    "    res = x**y\n",
    "    print (f'The result of x={x} to the power of y={y} is: {res}')\n",
    "    \n",
    "func(5,3)"
   ]
  },
  {
   "cell_type": "code",
   "execution_count": 18,
   "id": "ab5e560a",
   "metadata": {},
   "outputs": [],
   "source": [
    "# Write a function that has one string argument and creates a substring made of the first, \n",
    "# middle and last character of the string\n",
    "# e.g.:  substring('Michael') => 'Mhl'\n",
    "#        substring('Adrian')  => 'Arn' / 'Ain' (either one works)\n",
    "\n",
    "def character(string):\n",
    "    middle_char = int(len(string)/2)\n",
    "    substring = string[0] + string[middle_char] + string [-1]\n",
    "    \n",
    "character('Adrian')"
   ]
  },
  {
   "cell_type": "code",
   "execution_count": null,
   "id": "3e6c121a",
   "metadata": {},
   "outputs": [],
   "source": []
  },
  {
   "cell_type": "code",
   "execution_count": null,
   "id": "e7ed7626",
   "metadata": {},
   "outputs": [],
   "source": []
  }
 ],
 "metadata": {
  "kernelspec": {
   "display_name": "Python 3 (ipykernel)",
   "language": "python",
   "name": "python3"
  },
  "language_info": {
   "codemirror_mode": {
    "name": "ipython",
    "version": 3
   },
   "file_extension": ".py",
   "mimetype": "text/x-python",
   "name": "python",
   "nbconvert_exporter": "python",
   "pygments_lexer": "ipython3",
   "version": "3.8.10"
  }
 },
 "nbformat": 4,
 "nbformat_minor": 5
}
