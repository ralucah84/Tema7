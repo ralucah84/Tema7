{
 "cells": [
  {
   "cell_type": "code",
   "execution_count": 10,
   "id": "d7a22ccf",
   "metadata": {},
   "outputs": [
    {
     "name": "stdout",
     "output_type": "stream",
     "text": [
      "8\n"
     ]
    }
   ],
   "source": [
    "# Creati o clasa Rectangle, care are 2 atribute width si length, instantiate in cadrul constructorului cu 2 valori integer.\n",
    "# a) Pentru clasa respectiva creati o functie get_area care returneaza aria dreptunghiului.\n",
    "# b) Creati si o functie display care afiseaza dreptunghiul folosind un parametru optional pentru a desena, in cazul in care\n",
    "# parametrul nu este dat, se foloseste ca default caracterul *.\n",
    "# Exemplu de rulare:\n",
    "# new_rectangle = Rectange(2, 4)\n",
    "# print(new_rectangle.get_area()) => 8\n",
    "# new_rectangle.display() => ****     sau: new_rectangle('#') => ####\n",
    "#                            ****                                ####\n",
    "\n",
    "class Rectangle:\n",
    "    def __init__(self, width, length):\n",
    "        self.width = width\n",
    "        self.length = length\n",
    "        \n",
    "    def get_area(self):\n",
    "        return self.width * self.length\n",
    "\n",
    "new_rectangle = Rectangle(2,4)\n",
    "print(new_rectangle.get_area())"
   ]
  },
  {
   "cell_type": "code",
   "execution_count": null,
   "id": "5be91fc3",
   "metadata": {},
   "outputs": [],
   "source": []
  }
 ],
 "metadata": {
  "kernelspec": {
   "display_name": "Python 3 (ipykernel)",
   "language": "python",
   "name": "python3"
  },
  "language_info": {
   "codemirror_mode": {
    "name": "ipython",
    "version": 3
   },
   "file_extension": ".py",
   "mimetype": "text/x-python",
   "name": "python",
   "nbconvert_exporter": "python",
   "pygments_lexer": "ipython3",
   "version": "3.8.10"
  }
 },
 "nbformat": 4,
 "nbformat_minor": 5
}
