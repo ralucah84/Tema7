{
 "cells": [
  {
   "cell_type": "code",
   "execution_count": 2,
   "id": "9e8e65d9",
   "metadata": {},
   "outputs": [
    {
     "name": "stdout",
     "output_type": "stream",
     "text": [
      "Ain\n"
     ]
    }
   ],
   "source": [
    "# Write a function that has one string argument and creates a substring made of the first, \n",
    "# middle and last character of the string\n",
    "# e.g.:  substring('Michael') => 'Mhl'\n",
    "#        substring('Adrian')  => 'Arn' / 'Ain' (either one works)\n",
    "\n",
    "def character(string):\n",
    "    middle_char = len(string)//2\n",
    "    substring = string[0] + string[middle_char] + string [-1]\n",
    "    print (substring)\n",
    "character('Adrian')"
   ]
  },
  {
   "cell_type": "code",
   "execution_count": 6,
   "id": "31b3bf21",
   "metadata": {},
   "outputs": [
    {
     "name": "stdout",
     "output_type": "stream",
     "text": [
      "maMIAma\n",
      "Legewaitndary\n"
     ]
    }
   ],
   "source": [
    "# Given 2 strings as arguments s1 and s2, write a function that appends s2 in the middle of s1\n",
    "# e.g.:  append_midd# le('Legendary', 'wait')  => 'Legewaitndary'\n",
    "#        append_middle('mama', 'MIA')  =>  'maMIAma'\n",
    "\n",
    "def append_middle(s1, s2):\n",
    "    middle = len(s1)//2\n",
    "    result_string = s1[0: middle] + s2 + s1[middle:]\n",
    "    print (result_string)\n",
    "append_middle('mama', 'MIA')\n",
    "append_middle('Legendary', 'wait')"
   ]
  },
  {
   "cell_type": "code",
   "execution_count": 32,
   "id": "20b2fd4e",
   "metadata": {},
   "outputs": [
    {
     "name": "stdout",
     "output_type": "stream",
     "text": [
      " one-\n",
      " one-\n"
     ]
    }
   ],
   "source": [
    "# Write a function that takes any number of string arguments and will return the string formed \n",
    "# from the arguments separated by -\n",
    "# e.g.: coma_separated('one', 'two', 'three') => 'one-two-three'\n",
    "# coma_separated('one', 'two', 'three', 'four', 'five') => 'one-two-three-four-five'\n",
    "\n",
    "def coma_separated(*args):\n",
    "    string = ' '\n",
    "    for elem in args:\n",
    "        string =+ string + elem + '-'\n",
    "        return string\n",
    "print(coma_separated('one', 'two', 'three'))\n",
    "print(coma_separated('one', 'two', 'three', 'four', 'five'))"
   ]
  },
  {
   "cell_type": "code",
   "execution_count": null,
   "id": "93708d01",
   "metadata": {},
   "outputs": [],
   "source": []
  }
 ],
 "metadata": {
  "kernelspec": {
   "display_name": "Python 3 (ipykernel)",
   "language": "python",
   "name": "python3"
  },
  "language_info": {
   "codemirror_mode": {
    "name": "ipython",
    "version": 3
   },
   "file_extension": ".py",
   "mimetype": "text/x-python",
   "name": "python",
   "nbconvert_exporter": "python",
   "pygments_lexer": "ipython3",
   "version": "3.8.10"
  }
 },
 "nbformat": 4,
 "nbformat_minor": 5
}
