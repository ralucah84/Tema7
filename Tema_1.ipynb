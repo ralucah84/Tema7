{
 "cells": [
  {
   "cell_type": "code",
   "execution_count": 1,
   "id": "7d5fd7a0",
   "metadata": {},
   "outputs": [],
   "source": [
    "#Am reusit sa rezolv tema, mai putin ultimele 2 exercitii, la care inca ma mai gandesc :) O sa reincarc fisierul cand reusesc sa le dau de capat, dar am zis sa pun si eu cat am facut pana acum... merci\n",
    "\n",
    "# o variabila este o \"cutiuta\" in memoria calculatorului, care are un nume, si careia i se atribuie o valoare\n"
   ]
  },
  {
   "cell_type": "code",
   "execution_count": 21,
   "id": "7741d2e0",
   "metadata": {},
   "outputs": [],
   "source": [
    "var_string = 'Raluca Han'\n",
    "var_int = 1984\n",
    "var_float = 37.50\n",
    "var_bool = True"
   ]
  },
  {
   "cell_type": "code",
   "execution_count": 22,
   "id": "3921c207",
   "metadata": {},
   "outputs": [
    {
     "name": "stdout",
     "output_type": "stream",
     "text": [
      "<class 'str'>\n",
      "<class 'int'>\n",
      "<class 'float'>\n",
      "<class 'bool'>\n"
     ]
    }
   ],
   "source": [
    "print(type(var_string))\n",
    "print(type(var_int))\n",
    "print(type(var_float))\n",
    "print(type(var_bool))"
   ]
  },
  {
   "cell_type": "code",
   "execution_count": 23,
   "id": "5e50eee2",
   "metadata": {},
   "outputs": [
    {
     "name": "stdout",
     "output_type": "stream",
     "text": [
      "38\n",
      "<class 'int'>\n"
     ]
    }
   ],
   "source": [
    "var_float = round(var_float)\n",
    "print(var_float)\n",
    "print(type(var_float))"
   ]
  },
  {
   "cell_type": "code",
   "execution_count": 32,
   "id": "8325a18e",
   "metadata": {},
   "outputs": [
    {
     "name": "stdout",
     "output_type": "stream",
     "text": [
      "Ma numesc Raluca Han\n",
      "Anul in care m-am nascut este 1984\n",
      "Anul acesta voi implini 37.5 ani\n",
      "Sunt foarte entuziasmata de acest curs True\n"
     ]
    }
   ],
   "source": [
    "print('Ma numesc ' + var_string)\n",
    "print(f'Anul in care m-am nascut este {var_int}')\n",
    "print(f'Anul acesta voi implini {var_float} ani')\n",
    "print(f'Sunt foarte entuziasmata de acest curs {var_bool}')"
   ]
  },
  {
   "cell_type": "code",
   "execution_count": 36,
   "id": "cf02eabc",
   "metadata": {},
   "outputs": [
    {
     "name": "stdout",
     "output_type": "stream",
     "text": [
      "Numele este: Han\n",
      "Prenumele este: Raluca\n",
      "Numele complet are  9  caractere\n"
     ]
    }
   ],
   "source": [
    "nume = input('Numele este: ')\n",
    "prenume = input('Prenumele este: ') \n",
    "print(f'Numele complet are ', len(nume)+len(prenume), ' caractere')\n"
   ]
  },
  {
   "cell_type": "code",
   "execution_count": 46,
   "id": "e2d4e754",
   "metadata": {},
   "outputs": [
    {
     "name": "stdout",
     "output_type": "stream",
     "text": [
      "lungimea este: 10\n",
      "latimea este: 15\n",
      "Aria dreptunghiului este:  150\n"
     ]
    }
   ],
   "source": [
    "lungime = int(input('lungimea este: '))\n",
    "latime = int(input('latimea este: '))\n",
    "print(f'Aria dreptunghiului este: ', lungime*latime)"
   ]
  },
  {
   "cell_type": "code",
   "execution_count": 1,
   "id": "fda8cdf6",
   "metadata": {},
   "outputs": [
    {
     "name": "stdout",
     "output_type": "stream",
     "text": [
      "caracter: 2\n",
      "Coral is either the stupidest animal or the smartest ro\n"
     ]
    }
   ],
   "source": [
    "str_1='Coral is either the stupidest animal or the smartest rock'\n",
    "caracter=int(input('caracter: '))\n",
    "print(str_1[:-caracter]) "
   ]
  },
  {
   "cell_type": "code",
   "execution_count": 5,
   "id": "e82b715f",
   "metadata": {},
   "outputs": [
    {
     "name": "stdout",
     "output_type": "stream",
     "text": [
      "Coral rock\n"
     ]
    }
   ],
   "source": [
    "str_1='Coral is either the stupidest animal or the smartest rock'\n",
    "str_2 = str_1[:5]+str_1[-5:]\n",
    "print(str_2)"
   ]
  },
  {
   "cell_type": "code",
   "execution_count": 8,
   "id": "04f06d11",
   "metadata": {},
   "outputs": [
    {
     "name": "stdout",
     "output_type": "stream",
     "text": [
      "2\n"
     ]
    }
   ],
   "source": [
    "str_1='Coral is either the stupidest animal or the smartest rock'\n",
    "str_3=str_1.count('the')\n",
    "print(str_3)"
   ]
  },
  {
   "cell_type": "code",
   "execution_count": 2,
   "id": "b0efed06",
   "metadata": {},
   "outputs": [
    {
     "name": "stdout",
     "output_type": "stream",
     "text": [
      "Coral is eiTHEr THE stupidest animal or THE smartest rock\n"
     ]
    }
   ],
   "source": [
    "str_1='Coral is either the stupidest animal or the smartest rock'\n",
    "str_4=str_1.replace('the','THE')\n",
    "print(str_4)"
   ]
  },
  {
   "cell_type": "code",
   "execution_count": 3,
   "id": "c29333eb",
   "metadata": {},
   "outputs": [
    {
     "name": "stdout",
     "output_type": "stream",
     "text": [
      "53\n",
      "Coral is either the stupidest animal or the smartest \n"
     ]
    }
   ],
   "source": [
    "str_1='Coral is either the stupidest animal or the smartest rock'\n",
    "str_5=str_1.index('rock')\n",
    "print(str_5)\n",
    "str_6=str_1[: str_5]\n",
    "print(str_6)"
   ]
  },
  {
   "cell_type": "code",
   "execution_count": 31,
   "id": "73cacac2",
   "metadata": {},
   "outputs": [
    {
     "name": "stdout",
     "output_type": "stream",
     "text": [
      "Ma numesc Raluca Han, m-am nascut in anul  1984, am 37.5 ani si sunt foarte entuziasmata de acest curs True\n"
     ]
    }
   ],
   "source": [
    "var_string = 'Raluca Han'\n",
    "var_int = 1984\n",
    "var_float = 37.50\n",
    "var_bool = True\n",
    "my_var=(f'Ma numesc {var_string}, m-am nascut in anul  {var_int}, am {var_float} ani si sunt foarte entuziasmata de acest curs {var_bool}')\n",
    "print(my_var)"
   ]
  },
  {
   "cell_type": "code",
   "execution_count": 44,
   "id": "83751bc6",
   "metadata": {},
   "outputs": [
    {
     "name": "stdout",
     "output_type": "stream",
     "text": [
      "Numerele pare sunt: 02468\n",
      "Numere impare sunt: 13579\n"
     ]
    }
   ],
   "source": [
    "str_7='0123456789'\n",
    "par=str_7[::2]\n",
    "impar=str_7[1::2]\n",
    "print(f'Numerele pare sunt: {par}')\n",
    "print(f'Numere impare sunt: {impar}')"
   ]
  },
  {
   "cell_type": "code",
   "execution_count": 45,
   "id": "5c98475c",
   "metadata": {},
   "outputs": [
    {
     "name": "stdout",
     "output_type": "stream",
     "text": [
      "lungimea este: 16\n",
      "latimea este: 20\n",
      "Aria dreptunghiului este:  320\n"
     ]
    }
   ],
   "source": [
    "lungime = int(input('lungimea este: '))\n",
    "latime = int(input('latimea este: '))\n",
    "print(f'Aria dreptunghiului este: ', lungime*latime)"
   ]
  },
  {
   "cell_type": "code",
   "execution_count": 7,
   "id": "a35a0398",
   "metadata": {},
   "outputs": [
    {
     "name": "stdout",
     "output_type": "stream",
     "text": [
      "Scrie un sir de caractere de dimensiune impara:1234567890123\n",
      "7\n"
     ]
    }
   ],
   "source": [
    "str_8=input('Scrie un sir de caractere de dimensiune impara:')\n",
    "lungime = len(str_8)\n",
    "mijloc=int(lungime/2)\n",
    "print (str_8[mijloc])"
   ]
  },
  {
   "cell_type": "code",
   "execution_count": 14,
   "id": "d9f67bd2",
   "metadata": {},
   "outputs": [
    {
     "name": "stdout",
     "output_type": "stream",
     "text": [
      "scrie 2 cuvinte: alabala portocala\n",
      "alabala\n",
      "portocala\n"
     ]
    }
   ],
   "source": [
    "str_9, str_10 = input('scrie 2 cuvinte: ').split(' ')\n",
    "print (str_9)\n",
    "print (str_10)"
   ]
  },
  {
   "cell_type": "code",
   "execution_count": 73,
   "id": "52ffe693",
   "metadata": {},
   "outputs": [
    {
     "name": "stdout",
     "output_type": "stream",
     "text": [
      "te rog scrie un text: blablabla\n",
      "b\n",
      "blaBlaBla\n"
     ]
    }
   ],
   "source": [
    "str_11 = input('te rog scrie un text: ')\n",
    "var_a = str_11[0]\n",
    "print(var_a)\n",
    "print (str_11[0] + str_11[1:-1].replace(var_a, var_a.upper()) + str_11[-1])\n"
   ]
  },
  {
   "cell_type": "code",
   "execution_count": 5,
   "id": "5100b8cf",
   "metadata": {},
   "outputs": [
    {
     "name": "stdout",
     "output_type": "stream",
     "text": [
      "3.14\n"
     ]
    }
   ],
   "source": [
    "# TODO_1: Cum fac sa afisez pi doar cu 2 zecimale??? \n",
    "# practic vreau sa afisez 3.14\n",
    "pi = 3.1415926535\n",
    "pi_1 = round (pi, 2)\n",
    "print (pi_1)\n",
    "# aici am mai gasit o varianta, cu o functie, insa ambele ambele variante imi rotunjesc catre cea mai apropiata valoare, so, mi se pare mai simpla sintaxa asta, avand in vedere ca ambele fac acelasi lucru..."
   ]
  },
  {
   "cell_type": "code",
   "execution_count": 25,
   "id": "83144706",
   "metadata": {},
   "outputs": [
    {
     "name": "stdout",
     "output_type": "stream",
     "text": [
      "Introduceti o parola:12345\n",
      "Introduceti o parola:12345\n",
      "Introduceti o parola:12345\n",
      "Introduceti o parola:12345\n",
      "Introduceti o parola:12345mypass\n"
     ]
    }
   ],
   "source": [
    "# TODO_2: Se da variabila pass='12345mypass'. \n",
    "# Creati o bucla care sa accepte parole pana cand ati introdus`o pe cea corecta (salvata dinainte intr`o variabila pass)\n",
    "# Tip: Va puteti folosi de assert si de mecanismul de exception handling ca sa va asigurati ca parola e cea corecta\n",
    "\n",
    "try:   \n",
    "    passw = '12345mypass'\n",
    "    parola = input('Introduceti o parola:')\n",
    "    assert passw == parola       \n",
    "except:\n",
    "    while parola != passw:\n",
    "        parola = input('Introduceti o parola:')\n",
    "\n",
    "    "
   ]
  },
  {
   "cell_type": "code",
   "execution_count": 28,
   "id": "fb522412",
   "metadata": {},
   "outputs": [
    {
     "name": "stdout",
     "output_type": "stream",
     "text": [
      "20000000\n",
      "7000000000\n",
      "200000\n"
     ]
    }
   ],
   "source": [
    "# TODO_3: indiferent ce valoare primim sa returnam integerul corect\n",
    "# testati cu populatie = '20mil' sau populatie = '7bil' sau populatie = '200000'\n",
    "populatie_1 = '20mil'\n",
    "populatie_int_1 = int(populatie_1[:2])*1000000\n",
    "\n",
    "populatie_2 = '7bil'\n",
    "populatie_int_2 = int(populatie_2[0])*1000000000\n",
    "\n",
    "populatie_3 = '200000'\n",
    "populatie_int_3 = int(populatie_3)\n",
    "\n",
    "print (populatie_int_1)\n",
    "print (populatie_int_2)\n",
    "print (populatie_int_3)"
   ]
  },
  {
   "cell_type": "code",
   "execution_count": 7,
   "id": "d05086e7",
   "metadata": {},
   "outputs": [
    {
     "name": "stdout",
     "output_type": "stream",
     "text": [
      "User:abc\n",
      "Password:123456789\n",
      "Parola pentru userul abc este ********* si are 9 caractere\n"
     ]
    }
   ],
   "source": [
    "user = input('User:')\n",
    "passw = input ('Password:')\n",
    "code_passw = '*' * len(passw)\n",
    "print(f'Parola pentru userul {user} este {code_passw} si are {len(passw)} caractere')"
   ]
  },
  {
   "cell_type": "code",
   "execution_count": null,
   "id": "e855da98",
   "metadata": {},
   "outputs": [],
   "source": []
  }
 ],
 "metadata": {
  "kernelspec": {
   "display_name": "Python 3 (ipykernel)",
   "language": "python",
   "name": "python3"
  },
  "language_info": {
   "codemirror_mode": {
    "name": "ipython",
    "version": 3
   },
   "file_extension": ".py",
   "mimetype": "text/x-python",
   "name": "python",
   "nbconvert_exporter": "python",
   "pygments_lexer": "ipython3",
   "version": "3.8.10"
  }
 },
 "nbformat": 4,
 "nbformat_minor": 5
}
