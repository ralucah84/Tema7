{
 "cells": [
  {
   "cell_type": "code",
   "execution_count": 2,
   "id": "c928683b",
   "metadata": {},
   "outputs": [
    {
     "name": "stdout",
     "output_type": "stream",
     "text": [
      "Acesta este textul scris din python\n",
      "Ma astept sa apara pe rand nou, oare apare??\n"
     ]
    }
   ],
   "source": [
    "with open ('my_first_file.txt', 'r') as f:\n",
    "    file_content = f.read()\n",
    "    \n",
    "print(file_content)"
   ]
  },
  {
   "cell_type": "code",
   "execution_count": 13,
   "id": "d7a43e1f",
   "metadata": {},
   "outputs": [
    {
     "name": "stdout",
     "output_type": "stream",
     "text": [
      "['r1_col1', ' r1_col2', ' r1_col3']\n",
      "['r2_col1', ' r2_col2', ' r2_col3']\n"
     ]
    }
   ],
   "source": [
    "import csv\n",
    "rows = []\n",
    "with open('new_csv.csv', 'r') as csv_file:\n",
    "    csv_reader = csv.reader(csv_file)\n",
    "    for row in csv_reader:\n",
    "        print(row)\n",
    "        rows.append(row[:-1])\n",
    "#        print(', '.join(row))\n"
   ]
  },
  {
   "cell_type": "code",
   "execution_count": 14,
   "id": "959df836",
   "metadata": {},
   "outputs": [
    {
     "name": "stdout",
     "output_type": "stream",
     "text": [
      "r1_col1,  r1_col2\n",
      "r2_col1,  r2_col2\n"
     ]
    }
   ],
   "source": [
    "with open('new_csv.csv', 'w', newline='') as csv_file:\n",
    "    csv_writer = csv.writer(csv_file)\n",
    "    for row in rows:\n",
    "        csv_writer.writerow(row)\n",
    "        print(', '.join(row))       "
   ]
  },
  {
   "cell_type": "code",
   "execution_count": 34,
   "id": "ca4e66a7",
   "metadata": {},
   "outputs": [
    {
     "name": "stdout",
     "output_type": "stream",
     "text": [
      "[['Andrew', 'physics', '6'], ['Celine', 'chemistry', '6'], ['Celine', 'english', '10'], ['Celine', 'music', '10'], ['Eveline', 'math', '9'], ['Matthew', 'english', '10'], ['Matthew', 'math', '7']]\n",
      "{'Andrew': 1, 'Celine': 3, 'Eveline': 1, 'Matthew': 2}\n",
      "Celine 3\n",
      "{'Andrew': ['6'], 'Celine': ['6', '10', '10'], 'Eveline': ['9'], 'Matthew': ['10', '7']}\n",
      "{'Andrew': 6.0, 'Celine': 8.666666666666666, 'Eveline': 9.0, 'Matthew': 8.5}\n"
     ]
    }
   ],
   "source": [
    "# Given the csv file student_grades.csv:\n",
    "# 1. List the contents of the file as a list of dicts, a row being a dict of form:\n",
    "# {\"student_name\": <name_of_student>, \"subject\": <name_of_subject>, \"grade\": <grade>}\n",
    "# 2. Sort the contents of the file based on student`s name and saved it back like that\n",
    "# 3. List the student that has the most grades and how many it has\n",
    "# 4. Write a function that returns the overall grade average for every student in a dict of form \n",
    "#{student_name1: grade_avg1,..} \n",
    "\n",
    "\n",
    "##student_grades.csv:\n",
    "#Eveline,math,9\n",
    "#Andrew,physics,6\n",
    "#Celine,music,10\n",
    "#Matthew,math,7\n",
    "#Celine,english,10\n",
    "#Matthew,english,10\n",
    "#Celine,chemistry,6\n",
    "\n",
    "# student_dict = {}\n",
    "# list_of_stud = []\n",
    "# with open ('student_grades.csv', 'r') as csv_file:\n",
    "#     csv_reader = csv.reader(csv_file)\n",
    "#     for row in csv_reader:\n",
    "#         student_dict['student_name'] = row [0] \n",
    "#         student_dict['subject'] = row [1]\n",
    "#         student_dict['grade'] = row [2]\n",
    "#         list_of_stud.append(student_dict)\n",
    "# print(list_of_stud)\n",
    "\n",
    "rows = []\n",
    "with open ('student_grades.csv', 'r') as csv_file:\n",
    "    reader = csv.reader(csv_file)\n",
    "    for row in reader:\n",
    "        rows.append(row)\n",
    "print(sorted(rows))\n",
    "sorted_rows = sorted(rows)\n",
    "\n",
    "with open(\"student_grades_sorted.csv\",'w',newline='') as csv_file:\n",
    "    writer=csv.writer(csv_file)\n",
    "    writer.writerows(sorted_rows)\n",
    "    \n",
    "dict_count = {}\n",
    "for elem in sorted_rows:\n",
    "    if elem[0] in dict_count:\n",
    "        dict_count[elem[0]]+=1\n",
    "    else:\n",
    "        dict_count[elem[0]]=1\n",
    "print(dict_count)\n",
    "\n",
    "max=-1\n",
    "max_key=''\n",
    "for key in dict_count:\n",
    "    if dict_count[key]>max:\n",
    "        max=dict_count[key]\n",
    "        max_key=key\n",
    "print(max_key,dict_count[max_key])\n",
    "\n",
    "dict_medie = {}\n",
    "for elem in sorted_rows:\n",
    "    if elem[0] in dict_medie:\n",
    "        dict_medie[elem[0]].extend([elem[2]])\n",
    "    else:\n",
    "        dict_medie[elem[0]]=[elem[2]]\n",
    "print(dict_medie)\n",
    "\n",
    "for key in dict_medie:\n",
    "    medie=0\n",
    "    for elem in dict_medie[key]:\n",
    "        medie+=int(elem)\n",
    "\n",
    "    medie=medie/len(dict_medie[key])\n",
    "\n",
    "    dict_medie[key]=medie\n",
    "print(dict_medie)"
   ]
  },
  {
   "cell_type": "code",
   "execution_count": null,
   "id": "002e893c",
   "metadata": {},
   "outputs": [],
   "source": []
  }
 ],
 "metadata": {
  "kernelspec": {
   "display_name": "Python 3 (ipykernel)",
   "language": "python",
   "name": "python3"
  },
  "language_info": {
   "codemirror_mode": {
    "name": "ipython",
    "version": 3
   },
   "file_extension": ".py",
   "mimetype": "text/x-python",
   "name": "python",
   "nbconvert_exporter": "python",
   "pygments_lexer": "ipython3",
   "version": "3.8.10"
  }
 },
 "nbformat": 4,
 "nbformat_minor": 5
}
