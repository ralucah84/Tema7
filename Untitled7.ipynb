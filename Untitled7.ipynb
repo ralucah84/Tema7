{
 "cells": [
  {
   "cell_type": "code",
   "execution_count": 9,
   "id": "1efe6e5b",
   "metadata": {},
   "outputs": [
    {
     "data": {
      "text/plain": [
       "9"
      ]
     },
     "execution_count": 9,
     "metadata": {},
     "output_type": "execute_result"
    }
   ],
   "source": [
    "# Creati o clasa Student cu 2 atribute, un nume si o nota. \n",
    "# Instantiati cele 2 fielduri prin intermediul constructorului.\n",
    "# a) Scrieti 2 functii pentru nota: get_grade care sa returneze nota studentului si set_grade care sa ii modifice nota.\n",
    "# Asigurativa ca e si logic, nu doar ca functioneaza:)!\n",
    "# b) Scrieti o functie care sa descrie elevul: \"The student`s name is .... and has the grade ...\"\n",
    "# c) Creati o lista de studenti primita ca input de la tastatura; dupa ce ati construit-o, afisati \n",
    "# descrierea fiecarui student\n",
    "# d) Filtrati lista de studenti (sau construiti una noua) astfel incat sa ramana doar acei studenti care \n",
    "# au o nota de trecere:\n",
    "# de preferat determinati daca studentul are nota de trecere sau nu folosindu`va de o alta functie a clasei Student \n",
    "\n",
    "class Student:\n",
    "    def __init__(self, name, grade):\n",
    "        self.name = name\n",
    "        self.grade = grade\n",
    "        \n",
    "    def get_grade(self):\n",
    "        return self.grade\n",
    "    \n",
    "    def set_grade(self, grade):\n",
    "        self.grade = grade\n",
    "        \n",
    "    def descriere(self, name, grade):\n",
    "        print(f\"The student's name is: )\n",
    "        \n",
    "student = Student('Raluca', 8)\n",
    "student.get_grade()\n",
    "student.set_grade(9)\n",
    "student.get_grade()\n"
   ]
  },
  {
   "cell_type": "code",
   "execution_count": null,
   "id": "4e72593e",
   "metadata": {},
   "outputs": [],
   "source": []
  }
 ],
 "metadata": {
  "kernelspec": {
   "display_name": "Python 3 (ipykernel)",
   "language": "python",
   "name": "python3"
  },
  "language_info": {
   "codemirror_mode": {
    "name": "ipython",
    "version": 3
   },
   "file_extension": ".py",
   "mimetype": "text/x-python",
   "name": "python",
   "nbconvert_exporter": "python",
   "pygments_lexer": "ipython3",
   "version": "3.8.10"
  }
 },
 "nbformat": 4,
 "nbformat_minor": 5
}
