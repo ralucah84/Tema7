{
 "cells": [
  {
   "cell_type": "code",
   "execution_count": 7,
   "id": "dd84388b",
   "metadata": {},
   "outputs": [
    {
     "name": "stdout",
     "output_type": "stream",
     "text": [
      "{'Black', 'White'}\n"
     ]
    }
   ],
   "source": [
    "# Given the lists: lst1 = [\"Black\", \"White\", \"Red\"] and lst2 = [\"Red\", \"Green\"]. \n",
    "# What do I write to get: \"Black\", \"White\" ?\n",
    "\n",
    "lst1 = [\"Black\", \"White\", \"Red\"] \n",
    "lst2 = [\"Red\", \"Green\"]\n",
    "print (set(lst1) - set (lst2))\n"
   ]
  },
  {
   "cell_type": "code",
   "execution_count": 11,
   "id": "c309c3cb",
   "metadata": {},
   "outputs": [
    {
     "name": "stdout",
     "output_type": "stream",
     "text": [
      "[1, 2, 3, 4, 5]\n",
      "{1, 2, 3, 4}\n",
      "[1, 2, 3, 4, 5]\n"
     ]
    }
   ],
   "source": [
    "# Remove the duplicates from this list please! lst = [1,2,3,3,1,1,4,5,5] => [1,2,3,4,5]\n",
    "\n",
    "#V1\n",
    "lst = [1,2,3,3,1,1,4,5,5]\n",
    "lst_n = []\n",
    "for n in lst:\n",
    "    if n not in lst_n:\n",
    "        lst_n.append(n)\n",
    "print(lst_n)\n",
    "\n",
    "#V2\n",
    "s = {1,2,3,1,2,3,4}\n",
    "print(s)\n",
    "print(list(set(lst)))\n"
   ]
  },
  {
   "cell_type": "code",
   "execution_count": 17,
   "id": "924f0915",
   "metadata": {},
   "outputs": [
    {
     "name": "stdout",
     "output_type": "stream",
     "text": [
      "Raluca 1\n",
      "Cristian 2\n",
      "Arthur 3\n",
      "Florina 5\n",
      "Dan 6\n",
      "Tudor 7\n",
      "Gabi 8\n",
      "Raluca 1\n",
      "Cristian 2\n",
      "Arthur 3\n",
      "Florina 5\n",
      "Dan 6\n",
      "Tudor 7\n",
      "Gabi 8\n"
     ]
    }
   ],
   "source": [
    "# Sa da o lista cu nume names_list = [\"Valentina\", \"Raluca\", Cristian\", \"Arthur\", \"Vlad\", \"Florina\", \"Dan\", \"Tudor\", \"Gabi\"].\n",
    "# Iterati lista, verificati daca numele incepe cu litera 'V', in caz afirmativ, sariti peste numele respectiv.\n",
    "# In caz contrar afisati o structura de date formata din nume si indexul din lista unde a fost intalnit.\n",
    "\n",
    "names_list = [\"Valentina\", \"Raluca\", \"Cristian\", \"Arthur\", \"Vlad\", \"Florina\", \"Dan\", \"Tudor\", \"Gabi\"]\n",
    "# V1\n",
    "for nume in names_list:\n",
    "    if nume[0] == \"V\":\n",
    "        continue\n",
    "    print(nume, names_list.index(nume))\n",
    "    \n",
    "#V2\n",
    "for idx_nume, nume in enumerate(names_list):\n",
    "    if nume[0] == \"V\":\n",
    "        continue\n",
    "    print(nume, idx_nume)"
   ]
  },
  {
   "cell_type": "code",
   "execution_count": 29,
   "id": "86d3b3fc",
   "metadata": {},
   "outputs": [
    {
     "name": "stdout",
     "output_type": "stream",
     "text": [
      "Introduceti inceputul intervalului20\n",
      "Introduceti sfarsitul intervalului60\n",
      "[21, 24, 27, 30, 33, 34, 36, 39, 42, 45, 48]\n"
     ]
    }
   ],
   "source": [
    "# Se dau 2 numere naturale a si b introduse de la tastatura, cu proprietatea ca a<b.\n",
    "# Sa se construiasca lista formata din numerele din intervalul [a,b] care sunt divizibile fie cu 3 fie cu 17.\n",
    "# Daca se gaseste un numar care este divizibil cu ambele, se intrerupe executia programului.\n",
    "# Daca se ajunge la capatul intervalului se afiseaza mesajul \"Ati ajuns la finalul intervalului\" \n",
    "#(folositi`va de conditia invatata adineaori)\n",
    "\n",
    "a = int(input('Introduceti inceputul intervalului'))\n",
    "b = int(input('Introduceti sfarsitul intervalului'))\n",
    "lst_nr = []\n",
    "for nr in range(a,b):\n",
    "    if (nr % 3 == 0) and (nr % 17 == 0):\n",
    "        break\n",
    "    elif (nr % 3 == 0) or (nr % 17 == 0):\n",
    "        lst_nr.append(nr)\n",
    "else:\n",
    "    print('Ati ajuns la finalul intervalului')\n",
    "print (lst_nr)\n",
    "\n",
    "    "
   ]
  },
  {
   "cell_type": "code",
   "execution_count": 33,
   "id": "3131448e",
   "metadata": {},
   "outputs": [
    {
     "name": "stdout",
     "output_type": "stream",
     "text": [
      "15\n",
      "13\n",
      "12\n",
      "9\n",
      "8\n",
      "5\n",
      "3\n",
      "2\n"
     ]
    }
   ],
   "source": [
    "# Se da un numar n=15, scrieti o bucla care printeaza numarul si il decrementeaza\n",
    "# pana cand acesta atinge 0. Decrementarea se face astfel:\n",
    "# - cu 2 daca numarul e divizibil cu 5;\n",
    "# - cu 3 daca e numar par;\n",
    "# - cu 1 daca e numar impar.\n",
    "\n",
    "n = 15\n",
    "\n",
    "while n > 0:\n",
    "    print(n)\n",
    "    if n % 5 == 0:\n",
    "        n -= 2\n",
    "    elif n % 2 == 0:\n",
    "        n -= 3\n",
    "    else:\n",
    "        n -= 1"
   ]
  },
  {
   "cell_type": "code",
   "execution_count": 54,
   "id": "9642bf53",
   "metadata": {},
   "outputs": [
    {
     "name": "stdout",
     "output_type": "stream",
     "text": [
      "Introduceti un nr: jkbhj\n",
      "Nu ati introdus un nr\n"
     ]
    }
   ],
   "source": [
    "# Print all the natural numbers lower than a keyboard inputed one. If the number is not natural, raise an exception!\n",
    "# Test with 15 then test with 'qwe'\n",
    "\n",
    "try:\n",
    "    nr = int(input('Introduceti un nr: '))\n",
    "except:\n",
    "    print ('Nu ati introdus un nr') \n",
    "else:    \n",
    "    for i in range (nr):\n",
    "        print (i)\n",
    "\n"
   ]
  },
  {
   "cell_type": "code",
   "execution_count": 55,
   "id": "c0376bdd",
   "metadata": {},
   "outputs": [
    {
     "name": "stdout",
     "output_type": "stream",
     "text": [
      "Introduceti un nr: 5\n",
      "0\n",
      "1\n",
      "2\n",
      "3\n",
      "4\n",
      "Introduceti un nr: stop\n"
     ]
    }
   ],
   "source": [
    "\n",
    "while True:\n",
    "    nr = (input('Introduceti un nr: '))\n",
    "    if nr == 'stop':\n",
    "        break\n",
    "    try:\n",
    "        nr = int (nr)\n",
    "    except:\n",
    "        print ('Nu ati introdus un nr') \n",
    "    else:    \n",
    "        for i in range (nr):\n",
    "            print (i)"
   ]
  },
  {
   "cell_type": "code",
   "execution_count": null,
   "id": "7249f205",
   "metadata": {},
   "outputs": [],
   "source": []
  }
 ],
 "metadata": {
  "kernelspec": {
   "display_name": "Python 3 (ipykernel)",
   "language": "python",
   "name": "python3"
  },
  "language_info": {
   "codemirror_mode": {
    "name": "ipython",
    "version": 3
   },
   "file_extension": ".py",
   "mimetype": "text/x-python",
   "name": "python",
   "nbconvert_exporter": "python",
   "pygments_lexer": "ipython3",
   "version": "3.8.10"
  }
 },
 "nbformat": 4,
 "nbformat_minor": 5
}
