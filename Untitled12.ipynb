{
 "cells": [
  {
   "cell_type": "code",
   "execution_count": 3,
   "id": "377d330c",
   "metadata": {},
   "outputs": [],
   "source": [
    "# (TEMA_08): Given the json file people.json:\n",
    "# 1. Write a function that will print all the details of a person. The function will receive first_name and last_name.\n",
    "# 2. List the details of the oldest person\n",
    "# 3. List the details for of all the girls Mike has\n",
    "# 4. List the details of the children 'Mike' and 'Mary' have together.\n",
    "# 5. Marry Anna to John and do the required changes!\n",
    "# 6. Add a new person to the file that is going to be Adrian`s partner called 'Adriana' thats 25 years old \n",
    "# and has no children.\n",
    "# TIP: for generating an id, import uuid and use the function uuid.uuid4()\n",
    "# 7. List the final version of data and save it to the file\n",
    "# 8. Write a function that let`s you add a new person to the file using keyboard inputs for every trait. \n",
    "# (you can choose how to handle children and partner: at creating or later?)\n",
    "\n",
    "\n"
   ]
  },
  {
   "cell_type": "code",
   "execution_count": 6,
   "id": "d1b84081",
   "metadata": {},
   "outputs": [],
   "source": [
    "import json"
   ]
  },
  {
   "cell_type": "code",
   "execution_count": 7,
   "id": "cbc5370d",
   "metadata": {},
   "outputs": [
    {
     "name": "stdout",
     "output_type": "stream",
     "text": [
      "{'aeec8c5e-f513-4dfd-8435-1d49eb90877c': {'first_name': 'Mike', 'last_name': 'McMan', 'sex': 'M', 'age': 52, 'partner': 'd48da772-fdb0-4b14-9ff5-aafe29c15dc9', 'children': ['dd69e184-ee18-491c-ba36-db625ba35d8b', 'b14031ee-bec5-4902-8e78-95508bd89b64', '9fc00e67-5d00-4830-8679-4e2e66f7fe64']}, 'd48da772-fdb0-4b14-9ff5-aafe29c15dc9': {'first_name': 'Mary', 'last_name': 'McMan', 'sex': 'F', 'age': 50, 'partner': 'aeec8c5e-f513-4dfd-8435-1d49eb90877c', 'children': ['dd69e184-ee18-491c-ba36-db625ba35d8b', 'b14031ee-bec5-4902-8e78-95508bd89b64']}, 'dd69e184-ee18-491c-ba36-db625ba35d8b': {'first_name': 'Anna', 'last_name': 'McMan', 'sex': 'F', 'age': 28, 'partner': '', 'children': []}, 'b14031ee-bec5-4902-8e78-95508bd89b64': {'first_name': 'Adrian', 'last_name': 'McMan', 'sex': 'M', 'age': 26, 'partner': '', 'children': []}, '9fc00e67-5d00-4830-8679-4e2e66f7fe64': {'first_name': 'Danna', 'last_name': 'McMan', 'sex': 'F', 'age': 30, 'partner': '', 'children': []}, '711f79a9-8ec8-45d4-8de6-76ae06c7b7cd': {'first_name': 'John', 'last_name': 'Doe', 'sex': 'M', 'age': 32, 'partner': '', 'children': []}}\n"
     ]
    }
   ],
   "source": [
    "with open('./people.json') as f:\n",
    "    people = json.load(f)\n",
    "people = people['people']\n",
    "print(people)"
   ]
  },
  {
   "cell_type": "code",
   "execution_count": null,
   "id": "dca14a39",
   "metadata": {},
   "outputs": [],
   "source": [
    "# 1. Write a function that will print all the details of a person. The function will receive first_name and last_name.\n",
    "\n",
    "def print_person_details(people_dict, first_name, last_name):\n",
    "    for person_id, person in people_dict.items():\n",
    "        if person['last_name'] == last_name and person['first_name'] == first_name:\n",
    "            \n",
    "    "
   ]
  }
 ],
 "metadata": {
  "kernelspec": {
   "display_name": "Python 3 (ipykernel)",
   "language": "python",
   "name": "python3"
  },
  "language_info": {
   "codemirror_mode": {
    "name": "ipython",
    "version": 3
   },
   "file_extension": ".py",
   "mimetype": "text/x-python",
   "name": "python",
   "nbconvert_exporter": "python",
   "pygments_lexer": "ipython3",
   "version": "3.8.10"
  }
 },
 "nbformat": 4,
 "nbformat_minor": 5
}
