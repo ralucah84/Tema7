{
 "cells": [
  {
   "cell_type": "code",
   "execution_count": 1,
   "id": "391b075b",
   "metadata": {},
   "outputs": [
    {
     "ename": "NameError",
     "evalue": "name 'student_grades' is not defined",
     "output_type": "error",
     "traceback": [
      "\u001b[1;31m---------------------------------------------------------------------------\u001b[0m",
      "\u001b[1;31mNameError\u001b[0m                                 Traceback (most recent call last)",
      "Input \u001b[1;32mIn [1]\u001b[0m, in \u001b[0;36m<module>\u001b[1;34m\u001b[0m\n\u001b[0;32m      9\u001b[0m \u001b[38;5;28;01mimport\u001b[39;00m \u001b[38;5;21;01mcsv\u001b[39;00m\n\u001b[0;32m     10\u001b[0m my_dict \u001b[38;5;241m=\u001b[39m {}\n\u001b[1;32m---> 11\u001b[0m \u001b[38;5;28;01mwith\u001b[39;00m \u001b[38;5;28mopen\u001b[39m (\u001b[43mstudent_grades\u001b[49m\u001b[38;5;241m.\u001b[39mcsv, r) \u001b[38;5;28;01mas\u001b[39;00m student_grades:\n\u001b[0;32m     12\u001b[0m     csv_reader \u001b[38;5;241m=\u001b[39m csv\u001b[38;5;241m.\u001b[39mreader(student_grades)\n\u001b[0;32m     13\u001b[0m     \u001b[38;5;28;01mfor\u001b[39;00m row \u001b[38;5;129;01min\u001b[39;00m student_grades:\n",
      "\u001b[1;31mNameError\u001b[0m: name 'student_grades' is not defined"
     ]
    }
   ],
   "source": [
    "# Given the csv file student_grades.csv:\n",
    "# 1. List the contents of the file as a list of dicts, a row being a dict of form:\n",
    "# {\"student_name\": <name_of_student>, \"subject\": <name_of_subject>, \"grade\": <grade>}\n",
    "# 2. Sort the contents of the file based on student`s name and saved it back like that\n",
    "# 3. List the student that has the most grades and how many it has\n",
    "# 4. Write a function that returns the overall grade average for every student in a dict of form\n",
    "# {student_name1: grade_avg1,..} \n",
    "\n",
    "import csv\n",
    "my_dict = {}\n",
    "with open (student_grades.csv, r) as csv_file:\n",
    "    csv_reader = csv.reader(student_grades)\n",
    "    for row in student_grades:\n",
    "        my_dict[student_name] = row[0]\n",
    "        my_dict[subject] = row[1]\n",
    "        my_dict[grade] = row[2]\n",
    "        print (my_dict)"
   ]
  },
  {
   "cell_type": "code",
   "execution_count": null,
   "id": "29858c60",
   "metadata": {},
   "outputs": [],
   "source": []
  }
 ],
 "metadata": {
  "kernelspec": {
   "display_name": "Python 3 (ipykernel)",
   "language": "python",
   "name": "python3"
  },
  "language_info": {
   "codemirror_mode": {
    "name": "ipython",
    "version": 3
   },
   "file_extension": ".py",
   "mimetype": "text/x-python",
   "name": "python",
   "nbconvert_exporter": "python",
   "pygments_lexer": "ipython3",
   "version": "3.8.10"
  }
 },
 "nbformat": 4,
 "nbformat_minor": 5
}
