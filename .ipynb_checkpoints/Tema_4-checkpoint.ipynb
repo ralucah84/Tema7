{
 "cells": [
  {
   "cell_type": "code",
   "execution_count": 7,
   "id": "baad292d",
   "metadata": {},
   "outputs": [
    {
     "name": "stdout",
     "output_type": "stream",
     "text": [
      "Masina mea preferata este Audi\n",
      "Masina mea preferata este Volvo\n",
      "Masina mea preferata este BMW\n",
      "Masina mea preferata este Mercedes\n",
      "Masina mea preferata este Aston Martin\n",
      "Masina mea preferata este Lastun\n",
      "Masina mea preferata este Fiat\n",
      "Masina mea preferata este Trabant\n",
      "Masina mea preferata este Opel\n",
      "Masina mea preferata este Audi\n",
      "Masina mea preferata este Volvo\n",
      "Masina mea preferata este BMW\n",
      "Masina mea preferata este Mercedes\n",
      "Masina mea preferata este Aston Martin\n",
      "Masina mea preferata este Lastun\n",
      "Masina mea preferata este Fiat\n",
      "Masina mea preferata este Trabant\n",
      "Masina mea preferata este Opel\n",
      "Masina mea preferata este Audi\n",
      "Masina mea preferata este Volvo\n",
      "Masina mea preferata este BMW\n",
      "Masina mea preferata este Mercedes\n",
      "Masina mea preferata este Aston Martin\n",
      "Masina mea preferata este Lastun\n",
      "Masina mea preferata este Fiat\n",
      "Masina mea preferata este Trabant\n",
      "Masina mea preferata este Opel\n"
     ]
    }
   ],
   "source": [
    "#(Aici nu sunt sigura ca am inteles cerinta cu range-ul listei)\n",
    "\n",
    "# 1.\n",
    "# Avand lista \n",
    "# masini = ['Audi', 'Volvo', 'BMW', 'Mercedes', 'Aston Martin', 'Lastun', 'Fiat', 'Trabant', 'Opel'] \n",
    "\n",
    "# Folositi un for ca sa iterati prin toata lista si sa afisati\n",
    "# ‘Masina mea preferata este x’\n",
    "# Faceti acelasi lucru cu range-ul listei\n",
    "# Faceti acelasi lucru cu un while\n",
    "\n",
    "\n",
    "masini = ['Audi', 'Volvo', 'BMW', 'Mercedes', 'Aston Martin', 'Lastun', 'Fiat', 'Trabant', 'Opel'] \n",
    "\n",
    "for elem in masini:\n",
    "    print (f'Masina mea preferata este {elem}')\n",
    "    \n",
    "for idx in range(len(masini)):\n",
    "    elem = masini[idx]\n",
    "    print (f'Masina mea preferata este {elem}')\n",
    "\n",
    "index = 0    \n",
    "while index < len(masini):\n",
    "    print (f'Masina mea preferata este {masini[index]}')\n",
    "    index += 1\n"
   ]
  },
  {
   "cell_type": "code",
   "execution_count": null,
   "id": "477085cc",
   "metadata": {},
   "outputs": [],
   "source": [
    "# 2.\n",
    "# Aceeasi lista\n",
    "# Folositi un for else\n",
    "# In for\n",
    "#    Modificati elementele din lista astfel incat sa fie scrie cu majuscule, exceptand primul si ultimul\n",
    "# In else \n",
    "#    Printati lista\n",
    "\n",
    "masini = ['Audi', 'Volvo', 'BMW', 'Mercedes', 'Aston Martin', 'Lastun', 'Fiat', 'Trabant', 'Opel'] \n",
    "masini_1 = []\n",
    "for elem in masini[1:-1]:\n",
    "    masini_1.append(elem.upper())\n",
    "else:\n",
    "    print(masini[0] + ' ' + ' '.join(masini_1) + ' ' + masini[-1])\n"
   ]
  },
  {
   "cell_type": "code",
   "execution_count": 101,
   "id": "9df7e748",
   "metadata": {},
   "outputs": [
    {
     "name": "stdout",
     "output_type": "stream",
     "text": [
      "Am gasit masina Audi. Mai cautam.\n",
      "Am gasit masina Volvo. Mai cautam.\n",
      "Am gasit masina BMW. Mai cautam.\n",
      "Am gasit masina dorita de dvs.\n"
     ]
    }
   ],
   "source": [
    "# 3. \n",
    "# Aceeasi lista, \n",
    "# Vine un cumparator care doreste sa cumpere un Mercedes\n",
    "# Iterati prin ea prin for each\n",
    "# Daca masina e mercedes (if)\n",
    "#    Printam ‘am gasit masina dorita de dvs’\n",
    "#    Iesim din ciclu folosind un cuvant cheie care face acest lucru\n",
    "# Altfel (else apartine de if, nu de for)\n",
    "#    Printam Am gasit masina X. Mai cautam\n",
    "\n",
    "masini = ['Audi', 'Volvo', 'BMW', 'Mercedes', 'Aston Martin', 'Lastun', 'Fiat', 'Trabant', 'Opel'] \n",
    "for elem in masini:\n",
    "    if elem == 'Mercedes':\n",
    "        print ('Am gasit masina dorita de dvs.')\n",
    "        break\n",
    "    else:\n",
    "        print (f'Am gasit masina {elem}. Mai cautam.')\n"
   ]
  },
  {
   "cell_type": "code",
   "execution_count": 105,
   "id": "a23204fb",
   "metadata": {},
   "outputs": [
    {
     "name": "stdout",
     "output_type": "stream",
     "text": [
      "S-ar putea sa va placa masina Audi\n",
      "S-ar putea sa va placa masina Volvo\n",
      "S-ar putea sa va placa masina BMW\n",
      "S-ar putea sa va placa masina Mercedes\n",
      "S-ar putea sa va placa masina Aston Martin\n",
      "S-ar putea sa va placa masina Fiat\n",
      "S-ar putea sa va placa masina Opel\n"
     ]
    }
   ],
   "source": [
    "# 4.\n",
    "# Aceasi lista\n",
    "# Vine un cumparator bogat dar indecis. Ii vom prezenta toate masinile cu exceptia Trabant si Lastun. \n",
    "# Daca masina e Trabant sau Lastun\n",
    "#    Folositi un cuvant cheie care sa dea skip la ce urmeaza\n",
    "# (nu trebuie else)\n",
    "# Printati S-ar putea sa va placa masina x\n",
    "\n",
    "masini = ['Audi', 'Volvo', 'BMW', 'Mercedes', 'Aston Martin', 'Lastun', 'Fiat', 'Trabant', 'Opel']\n",
    "for elem in masini:\n",
    "    if (elem == 'Trabant' or elem == 'Lastun'):\n",
    "        continue\n",
    "    print (f'S-ar putea sa va placa masina {elem}')"
   ]
  },
  {
   "cell_type": "code",
   "execution_count": 113,
   "id": "36c72d2d",
   "metadata": {},
   "outputs": [
    {
     "name": "stdout",
     "output_type": "stream",
     "text": [
      "Modele vechi: str['Lastun', 'Trabant']\n",
      "Modele noi: ['Audi', 'Volvo', 'BMW', 'Mercedes', 'Aston Martin', 'Fiat', 'Opel', 'Tesla']\n"
     ]
    }
   ],
   "source": [
    "# 5. \n",
    "# Modernizati parcul de masini\n",
    "# Creati o lista goala, masini_vechi\n",
    "# Iterati prin masini\n",
    "# Cand gasiti Lastun sau Trabant:\n",
    "# Salvati aceste masini in masini_vechi\n",
    "# Suprascrieti-le cu ‘Tesla’ (in lista initiala de masini)\n",
    "# Printati Modele vechi: x\n",
    "# Modele noi: x\n",
    "\n",
    "masini = ['Audi', 'Volvo', 'BMW', 'Mercedes', 'Aston Martin', 'Lastun', 'Fiat', 'Trabant', 'Opel']\n",
    "masini_vechi = []\n",
    "for elem in masini:\n",
    "    if (elem == 'Lastun' or elem == 'Trabant'):\n",
    "        masini_vechi.append(elem)\n",
    "        masini.remove(elem)\n",
    "masini.append('Tesla')\n",
    "print (f'Modele vechi: {masini_vechi}')\n",
    "print (f'Modele noi: {masini}')\n"
   ]
  },
  {
   "cell_type": "code",
   "execution_count": 117,
   "id": "425d8a6f",
   "metadata": {},
   "outputs": [
    {
     "name": "stdout",
     "output_type": "stream",
     "text": [
      "Pentru un buget de sub 15000 euro puteti alege masina Dacia\n",
      "Pentru un buget de sub 15000 euro puteti alege masina Lastun\n",
      "Pentru un buget de sub 15000 euro puteti alege masina Opel\n"
     ]
    }
   ],
   "source": [
    "# 6. \n",
    "# Avand dict\n",
    "# pret_masini = {\n",
    "#     'Dacia': 6800,\n",
    "#     'Lastun': 500,\n",
    "#     'Opel': 1100,\n",
    "#     'Audi': 19000,\n",
    "#     'BMW': 23000\n",
    "# }\n",
    "# Vine un client cu un buget de 15000 euro\n",
    "# Prezentati doar masinile care se incadreaza in acest buget\n",
    "# Iterati prin dict.items() si accesati masina si pretul\n",
    "# Printati Pentru un buget de sub 15000 euro puteti alege masina xLastun\n",
    "# Iterati prin lista\n",
    "\n",
    "pret_masini = {\n",
    "    'Dacia': 6800,\n",
    "    'Lastun': 500,\n",
    "    'Opel': 1100,\n",
    "    'Audi': 19000,\n",
    "    'BMW': 23000\n",
    "}\n",
    "\n",
    "for item in pret_masini:\n",
    "    if pret_masini[item] < 15000:\n",
    "        print (f'Pentru un buget de sub 15000 euro puteti alege masina {item}')"
   ]
  },
  {
   "cell_type": "code",
   "execution_count": 118,
   "id": "1bf3701f",
   "metadata": {},
   "outputs": [
    {
     "name": "stdout",
     "output_type": "stream",
     "text": [
      "Numarul 3 apare de 4 ori\n"
     ]
    }
   ],
   "source": [
    "# 7.\n",
    "# Avand lista\n",
    "# numere = [5, 7, 3, 9, 3, 3, 1, 0, -4, 3]\n",
    "# Iterati prin ea\n",
    "# Afisati de cate ori apare 3\n",
    "# (nu aveti voie sa folositi count)\n",
    "\n",
    "numere = [5, 7, 3, 9, 3, 3, 1, 0, -4, 3]\n",
    "times = 0\n",
    "for i in numere:\n",
    "    if i == 3:\n",
    "        times +=1\n",
    "print(f'Numarul 3 apare de {times} ori')\n"
   ]
  },
  {
   "cell_type": "code",
   "execution_count": 119,
   "id": "3e40ded6",
   "metadata": {},
   "outputs": [
    {
     "name": "stdout",
     "output_type": "stream",
     "text": [
      "Suma numerelor din lista este 30\n"
     ]
    }
   ],
   "source": [
    "# 8. \n",
    "# Aceeasi lista\n",
    "# Iterati prin ea\n",
    "# Calculati si afisati suma numerelor\n",
    "# (nu aveti voie sa folositi sum)\n",
    "\n",
    "numere = [5, 7, 3, 9, 3, 3, 1, 0, -4, 3]\n",
    "suma = 0\n",
    "for i in numere:\n",
    "    suma = suma + i\n",
    "print(f'Suma numerelor din lista este {suma}')"
   ]
  },
  {
   "cell_type": "code",
   "execution_count": 19,
   "id": "eb17958d",
   "metadata": {},
   "outputs": [
    {
     "name": "stdout",
     "output_type": "stream",
     "text": [
      "Cel mai mare numar este -3\n"
     ]
    }
   ],
   "source": [
    "# 9. \n",
    "# Aceeasi lista\n",
    "# Iterati prin ea\n",
    "# Afisati cel mai mare numar\n",
    "# (nu aveti voie sa folositi max)\n",
    "\n",
    "numere = [-4, -5, -11, -3, -7]\n",
    "maxim = numere[0]\n",
    "for i in numere:\n",
    "    if maxim < i:\n",
    "        maxim = i\n",
    "print (f'Cel mai mare numar este {maxim}')\n",
    "    "
   ]
  },
  {
   "cell_type": "code",
   "execution_count": 121,
   "id": "5430bc31",
   "metadata": {},
   "outputs": [
    {
     "name": "stdout",
     "output_type": "stream",
     "text": [
      "-5\n",
      "-7\n",
      "-3\n",
      "-9\n",
      "-3\n",
      "-3\n",
      "-1\n",
      "0\n",
      "-4\n",
      "-3\n"
     ]
    }
   ],
   "source": [
    "# 10.\n",
    "# Aceeasi lista\n",
    "# Iterati prin ea\n",
    "# Daca numarul e pozitiv, inlocuiti-l cu valoarea lui negativa\n",
    "# Ex: daca e 3, sa devina -3\n",
    "# Afisati noua lista\n",
    "\n",
    "numere = [5, 7, 3, 9, 3, 3, 1, 0, -4, 3]\n",
    "for i in numere:\n",
    "    print(-abs(i))"
   ]
  },
  {
   "cell_type": "code",
   "execution_count": 122,
   "id": "b6a66cad",
   "metadata": {},
   "outputs": [
    {
     "name": "stdout",
     "output_type": "stream",
     "text": [
      "Numerele pare sunt: [2, 12, -6, -4]\n",
      "Numerele impare sunt: [-5, 7, 9, 3, 1, 3]\n",
      "Numerele pozitive sunt: [7, 2, 9, 12, 3, 1, 3]\n",
      "Numerele negative sunt: [-5, -6, -4]\n"
     ]
    }
   ],
   "source": [
    "# 11.\n",
    "# alte_numere = [-5, 7, 2, 9, 12, 3, 1, -6, -4, 3]\n",
    "# numere_pare = []\n",
    "# numere_impare = []\n",
    "# numere_pozitive = []\n",
    "# numere_negative = []\n",
    "# Iterati prin lista alte_numere \n",
    "# Populati corect celelalte liste\n",
    "# Afisati cele 4 liste la final\n",
    "\n",
    "alte_numere = [-5, 7, 2, 9, 12, 3, 1, -6, -4, 3]\n",
    "numere_pare = []\n",
    "numere_impare = []\n",
    "numere_pozitive = []\n",
    "numere_negative = []\n",
    "\n",
    "for i in alte_numere:\n",
    "    if i % 2 == 0:\n",
    "        numere_pare.append(i)\n",
    "    else:\n",
    "        numere_impare.append(i)\n",
    "    if i > 0:\n",
    "        numere_pozitive.append(i)\n",
    "    else:\n",
    "        numere_negative.append(i)\n",
    "print(f'Numerele pare sunt: {numere_pare}')\n",
    "print(f'Numerele impare sunt: {numere_impare}')\n",
    "print(f'Numerele pozitive sunt: {numere_pozitive}')\n",
    "print(f'Numerele negative sunt: {numere_negative}')"
   ]
  },
  {
   "cell_type": "code",
   "execution_count": 124,
   "id": "5b798719",
   "metadata": {},
   "outputs": [
    {
     "name": "stdout",
     "output_type": "stream",
     "text": [
      "[-6, -5, -4, 1, 2, 3, 3, 7, 9, 12]\n"
     ]
    }
   ],
   "source": [
    "# Nice video :)\n",
    "\n",
    "# 12.\n",
    "# Aceeasi lista\n",
    "# Ordonati crescator lista fara sa folositi sort\n",
    "# Va puteti inspira vizual de aici\n",
    "# https://www.youtube.com/watch?v=lyZQPjUT5B4\n",
    "\n",
    "alte_numere = [-5, 7, 2, 9, 12, 3, 1, -6, -4, 3]\n",
    "for i in range(len(alte_numere)):\n",
    "    for j in range(len(alte_numere)-1):\n",
    "        if alte_numere[j] > alte_numere[j+1]:\n",
    "            alte_numere[j], alte_numere[j+1] = alte_numere[j+1], alte_numere[j]\n",
    "print(alte_numere)\n"
   ]
  },
  {
   "cell_type": "code",
   "execution_count": 198,
   "id": "61455d67",
   "metadata": {},
   "outputs": [
    {
     "name": "stdout",
     "output_type": "stream",
     "text": [
      "Alege un numar intre 1 si 30: 15\n",
      "Nr secret e mai mic\n",
      "Alege un numar intre 1 si 30: 9\n",
      "Nr secret e mai mic\n",
      "Alege un numar intre 1 si 30: 5\n",
      "Nr secret e mai mare\n",
      "Alege un numar intre 1 si 30: 7\n",
      "Felicitari! Ai ghicit!\n"
     ]
    }
   ],
   "source": [
    "# 13.\n",
    "# Ghicitoare de numar\n",
    "# numar_secret = Generati un numar random intre 1 si 30\n",
    "# Numar_ghicit = None\n",
    "# Folosind un while\n",
    "#    User alege un numar\n",
    "#    Programul ii spune:\n",
    "# Nr secret e mai mare\n",
    "# Nr secret e mai mic\n",
    "# Felicitari! Ai ghicit!\n",
    "\n",
    "import random\n",
    "numar_secret = int(random.randint(1,30))\n",
    "numar_ghicit = 0\n",
    "while numar_ghicit < 30:\n",
    "    numar = int(input('Alege un numar intre 1 si 30: '))\n",
    "    if numar == numar_secret:\n",
    "        print('Felicitari! Ai ghicit!')\n",
    "        break\n",
    "    elif numar < numar_secret:\n",
    "        print('Nr secret e mai mare')\n",
    "    else:\n",
    "        print('Nr secret e mai mic')\n",
    "  "
   ]
  },
  {
   "cell_type": "code",
   "execution_count": 35,
   "id": "19ae1abb",
   "metadata": {},
   "outputs": [
    {
     "name": "stdout",
     "output_type": "stream",
     "text": [
      "Alegeti un numar: 7\n",
      "\n",
      "1\n",
      "22\n",
      "333\n",
      "4444\n",
      "55555\n",
      "666666\n",
      "7777777\n"
     ]
    }
   ],
   "source": [
    "#Aici am gasit solutia pe google, dar pot sa spun ca partial nu am inteles-o (partea cu \"end = '' \")\n",
    "\n",
    "# 14. \n",
    "# Alegeti un numar de la tastatura\n",
    "# Ex:7\n",
    "# Scrieti un program care sa genereze in consola urmatoarea piramida\n",
    "# 1\n",
    "# 22\n",
    "# 333\n",
    "# 4444\n",
    "# 55555\n",
    "# 666666\n",
    "# 7777777\n",
    "\n",
    "# Ex:3\n",
    "# 1\n",
    "# 22\n",
    "# 333\n",
    "\n",
    "numar = int(input('Alegeti un numar: '))\n",
    "# for i in range (numar+1):\n",
    "#     for j in range(i):\n",
    "#         print (i, end = '')\n",
    "#     print()\n",
    "\n",
    "for i in range (numar+1):\n",
    "    print (i*str(i))"
   ]
  },
  {
   "cell_type": "code",
   "execution_count": 129,
   "id": "c021ee00",
   "metadata": {},
   "outputs": [
    {
     "name": "stdout",
     "output_type": "stream",
     "text": [
      "Cifra curenta este 1\n",
      "Cifra curenta este 2\n",
      "Cifra curenta este 3\n",
      "Cifra curenta este 4\n",
      "Cifra curenta este 5\n",
      "Cifra curenta este 6\n",
      "Cifra curenta este 7\n",
      "Cifra curenta este 8\n",
      "Cifra curenta este 9\n",
      "Cifra curenta este 0\n"
     ]
    }
   ],
   "source": [
    "# 15.\n",
    "# tastatura_telefon = [\n",
    "#   [1, 2, 3],\n",
    "#   [4, 5, 6],\n",
    "#   [7, 8, 9],\n",
    "#   [0]\n",
    "# ]\n",
    "# Iterati prin lista 2d\n",
    "# Printati ‘Cifra curenta este x’\n",
    "# (hint: nested for - adica for in for)\n",
    "\n",
    "tastatura_telefon = [[1, 2, 3],[4, 5, 6],[7, 8, 9],[0]]\n",
    "for i in tastatura_telefon:\n",
    "    for j in i:\n",
    "        print (f'Cifra curenta este {j}')"
   ]
  },
  {
   "cell_type": "code",
   "execution_count": null,
   "id": "25df4cbe",
   "metadata": {},
   "outputs": [],
   "source": []
  }
 ],
 "metadata": {
  "kernelspec": {
   "display_name": "Python 3 (ipykernel)",
   "language": "python",
   "name": "python3"
  },
  "language_info": {
   "codemirror_mode": {
    "name": "ipython",
    "version": 3
   },
   "file_extension": ".py",
   "mimetype": "text/x-python",
   "name": "python",
   "nbconvert_exporter": "python",
   "pygments_lexer": "ipython3",
   "version": "3.8.10"
  }
 },
 "nbformat": 4,
 "nbformat_minor": 5
}
