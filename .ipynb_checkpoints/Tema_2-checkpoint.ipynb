{
 "cells": [
  {
   "cell_type": "code",
   "execution_count": 2,
   "id": "db09be62",
   "metadata": {},
   "outputs": [],
   "source": [
    "# EX_1. Explica cu cuvintele tale in cadrul unui comentari cum functioneaza un if else\n",
    "\n",
    "# if else se foloseste atunci cand avem 2 variante posibile:\n",
    "# se verifica daca se indeplineste conditia de pe ramura if, caz in care codul nu mai ruleaza mai departe\n",
    "# daca nu se indeplineste conditia de pe ramura if, codul ruleaza ramura else\n",
    "# ramura else nu mai are nevoie de conditie, pt ca aceasta este impusa la ramura if, iar daca se trece de ea,\n",
    "# inseamna ca pe ramura else ramane celalt caz, singurul posibil."
   ]
  },
  {
   "cell_type": "code",
   "execution_count": 8,
   "id": "71d413b9",
   "metadata": {},
   "outputs": [
    {
     "name": "stdout",
     "output_type": "stream",
     "text": [
      "Introduceti un numar: -3.5\n",
      "Numarul introdul nu este pozitiv\n"
     ]
    }
   ],
   "source": [
    "# EX_2. Verifica si afiseaza daca x este numar pozitiv sau nu\n",
    "\n",
    "try:\n",
    "    x = int(float(input(\"Introduceti un numar: \")))\n",
    "except:\n",
    "    print('Nu ati introdus un numar!')\n",
    "if x > 0:\n",
    "    print('Numarul introdus este pozitiv')\n",
    "else:\n",
    "    print ('Numarul introdul nu este pozitiv')"
   ]
  },
  {
   "cell_type": "code",
   "execution_count": 3,
   "id": "2bc1b870",
   "metadata": {},
   "outputs": [
    {
     "name": "stdout",
     "output_type": "stream",
     "text": [
      "Introduceti un numar: 12\n",
      "Numarul introdus este pozitiv\n"
     ]
    }
   ],
   "source": [
    "# EX_3. Verifica si afiseaza daca x este numar pozitiv, negativ sau neutru\n",
    "\n",
    "try:\n",
    "    x = int(input(\"Introduceti un numar: \"))\n",
    "except:\n",
    "    print('Nu ati introdus un numar!')\n",
    "if x > 0:\n",
    "    print ('Numarul introdus este pozitiv')\n",
    "elif x < 0:\n",
    "    print ('Numarul introdus este negativ')\n",
    "else:\n",
    "    print ('Numarul introdus este neutru')"
   ]
  },
  {
   "cell_type": "code",
   "execution_count": 3,
   "id": "51da0683",
   "metadata": {},
   "outputs": [
    {
     "name": "stdout",
     "output_type": "stream",
     "text": [
      "Introduceti un numar: 1\n",
      "Numarul introdus este intre -2 si 13\n",
      "Introduceti un numar: 14\n",
      "Numarul introdus nu este intre -2 si 13\n"
     ]
    }
   ],
   "source": [
    "# Ex_4. Verifica si afiseaza daca x este intre -2 si 13\n",
    "\n",
    "# Varianta_1:\n",
    "list_a = \"-2, -1, 0, 1, 2, 3, 4, 5, 6, 7, 8, 9, 10, 11, 12, 13\"\n",
    "x = input('Introduceti un numar: ')\n",
    "if x in list_a:\n",
    "    print ('Numarul introdus este intre -2 si 13')\n",
    "else:\n",
    "    print ('Numarul introdus nu este intre -2 si 13')\n",
    "\n",
    "# Varianta_2:    \n",
    "list_b = list (range (-2, 14))\n",
    "x = int(input('Introduceti un numar: '))\n",
    "if x in list_b:\n",
    "    print ('Numarul introdus este intre -2 si 13')\n",
    "else:\n",
    "    print ('Numarul introdus nu este intre -2 si 13')"
   ]
  },
  {
   "cell_type": "code",
   "execution_count": 25,
   "id": "9399b0cd",
   "metadata": {},
   "outputs": [
    {
     "name": "stdout",
     "output_type": "stream",
     "text": [
      "Introduceti numarul x: 1\n",
      "Introduceti numarul y: 3\n",
      "Diferenta dintre x si y este mai mica decat 5\n"
     ]
    }
   ],
   "source": [
    "# Ex_5. Verifica si afiseaza daca diferenta dintre x si y este mai mica de 5\n",
    "\n",
    "# Varianta_1: aici am luat in considerare 2 cazuri, primul cand x este mai mare, si al doilea, cand y este mai mare,\n",
    "# iar diferenta dintre ele sa fie numar pozitiv\n",
    "# x = int(input('Introduceti numarul x: '))\n",
    "# y = int(input('Introduceti numarul y: '))\n",
    "# if (x - y) < 5 and (x - y) > 0:\n",
    "#     print ('Diferenta dinte x si y este mai mica decat 5')\n",
    "# elif (y - x) < 5 and (y - x) > 0:\n",
    "#     print ('Diferenta dinte x si y este mai mica decat 5')\n",
    "# else:\n",
    "#     print ('Diferenta dintre x si y este mai mare decat 5')\n",
    "    \n",
    "# # Varianta_2: aici am mers pe varianta ca diferenta dintre ele poate fi si numar negativ (care implicit este < 5) \n",
    "# # dar cred ca prima varianta este cea care se doreste a fi analizata...\n",
    "# x = int(input('Introduceti numarul x: '))\n",
    "# y = int(input('Introduceti numarul y: '))\n",
    "# if (x - y) < 5:\n",
    "#     print ('Diferenta dinte x si y este mai mica decat 5')\n",
    "# else:\n",
    "#     print ('Diferenta dintre x si y este mai mare decat 5')\n",
    "    \n",
    "# Varianta_3: cea cu smecheria :)))\n",
    "x = int(input('Introduceti numarul x: '))\n",
    "y = int(input('Introduceti numarul y: '))\n",
    "if x >= y:\n",
    "    if x - y < 5:\n",
    "        print ('Diferenta dintre x si y este mai mica decat 5')\n",
    "    else:\n",
    "        print ('Diferenta dintre x si y este mai mare decat 5')\n",
    "else:\n",
    "    if y > x:\n",
    "        if y - x < 5:\n",
    "            print ('Diferenta dintre x si y este mai mica decat 5')\n",
    "        else:\n",
    "            print ('Diferenta dintre x si y este mai mare decat 5')\n"
   ]
  },
  {
   "cell_type": "code",
   "execution_count": 45,
   "id": "a6a9fc64",
   "metadata": {},
   "outputs": [
    {
     "name": "stdout",
     "output_type": "stream",
     "text": [
      "Introduceti un numar: 6\n",
      "Numarul introdus NU este intre 5 si 27: False\n"
     ]
    }
   ],
   "source": [
    "# Ex_6. Verifica daca x NU este intre 5 si 27. (a se folosi ‘not’)\n",
    "\n",
    "x = int(input('Introduceti un numar: '))\n",
    "list_x = list (range (5, 28))\n",
    "if x not in list_x:\n",
    "    print ('Numarul introdus NU este intre 5 si 27: True')\n",
    "else:\n",
    "    print ('Numarul introdus NU este intre 5 si 27: False')"
   ]
  },
  {
   "cell_type": "code",
   "execution_count": 48,
   "id": "54d72735",
   "metadata": {},
   "outputs": [
    {
     "name": "stdout",
     "output_type": "stream",
     "text": [
      "Introduceti numarul x: 5\n",
      "Introduceti numarul y: 2\n",
      "x este mai mare decat y\n"
     ]
    }
   ],
   "source": [
    "# Ex_7. x si y (int)\n",
    "# Verifica si afiseaza daca sunt egale, daca nu afiseaza care din ele este mai mare\n",
    "\n",
    "x = int(input('Introduceti numarul x: '))\n",
    "y = int(input('Introduceti numarul y: '))\n",
    "\n",
    "if x == y:\n",
    "    print('x este egal cu y')\n",
    "elif x > y:\n",
    "    print ('x este mai mare decat y')\n",
    "else:\n",
    "    print ('y este mai mare decat x')"
   ]
  },
  {
   "cell_type": "code",
   "execution_count": 55,
   "id": "d0d2566c",
   "metadata": {},
   "outputs": [
    {
     "name": "stdout",
     "output_type": "stream",
     "text": [
      "Introduceti lungimea laturii x: 6\n",
      "Introduceti lungimea laturii y: 9\n",
      "Introduceti lungimea laturii z: 10\n",
      "Tringhiul este oarecare\n"
     ]
    }
   ],
   "source": [
    "# Ex_8. X, y, z - laturile unui triunghi\n",
    "# Afiseaza daca triunghiul este isoscel, echilateral sau oarecare.\n",
    "\n",
    "x = int(input('Introduceti lungimea laturii x: '))\n",
    "y = int(input('Introduceti lungimea laturii y: '))\n",
    "z = int(input('Introduceti lungimea laturii z: '))\n",
    "if x == y and x == z:\n",
    "    print ('Triunghiul este echilateral')\n",
    "elif x != y and x!= z and y != z:\n",
    "    print ('Tringhiul este oarecare')\n",
    "else:\n",
    "    print ('Triunghiul este isoscel')"
   ]
  },
  {
   "cell_type": "code",
   "execution_count": 27,
   "id": "609f5f86",
   "metadata": {},
   "outputs": [
    {
     "name": "stdout",
     "output_type": "stream",
     "text": [
      "Introduceti o litera: p\n",
      "Litera introdusa nu este o vocala\n"
     ]
    }
   ],
   "source": [
    "# Ex_9. Citeste o litera de la tastatura\n",
    "# Verifica si afiseaza daca este vocala sau nu\n",
    "\n",
    "litera = input('Introduceti o litera: ')\n",
    "vocale_1 = ('a', 'e', 'i', 'o', 'u')\n",
    "vocale_2 = [x.upper()for x in vocale_1]\n",
    "if litera in vocale_1 or litera in vocale_2:\n",
    "    print ('Litera introdusa este o vocala')\n",
    "else:\n",
    "    print ('Litera introdusa nu este o vocala')"
   ]
  },
  {
   "cell_type": "code",
   "execution_count": 16,
   "id": "65c2c6b1",
   "metadata": {},
   "outputs": [
    {
     "name": "stdout",
     "output_type": "stream",
     "text": [
      "Introduceti nota: 7.5\n",
      "In sistem american, nota 7.5 reprezinta nota C\n"
     ]
    }
   ],
   "source": [
    "# Ex_10. Transforma si printeaza notele din sistem românesc in sistem american dupa cum urmeaza\n",
    "# Peste 9 => A\n",
    "# Peste 8 => B\n",
    "# Peste 7 => C\n",
    "# Peste 6 => D\n",
    "# Peste 4 => E\n",
    "# 4 sau sub => F\n",
    "\n",
    "nota = float(input('Introduceti nota: '))\n",
    "if nota > 9:\n",
    "    print(f'In sistem american, nota {nota} reprezinta nota A')\n",
    "elif nota > 8:\n",
    "    print(f'In sistem american, nota {nota} reprezinta nota B')\n",
    "elif nota > 7:\n",
    "    print(f'In sistem american, nota {nota} reprezinta nota C')\n",
    "elif nota > 6:\n",
    "    print(f'In sistem american, nota {nota} reprezinta nota D')\n",
    "elif nota > 4:\n",
    "    print(f'In sistem american, nota {nota} reprezinta nota E')\n",
    "else:\n",
    "    print(f'In sistem american, nota {nota} reprezinta nota F')\n",
    "    \n"
   ]
  },
  {
   "cell_type": "code",
   "execution_count": 106,
   "id": "a4c20a8d",
   "metadata": {},
   "outputs": [
    {
     "name": "stdout",
     "output_type": "stream",
     "text": [
      "Introduceti un numar: 1234\n",
      "Numarul are minim 4 cifre\n"
     ]
    }
   ],
   "source": [
    "# Ex_11. Verifica daca x are minim 4 cifre\n",
    "#(ex: 7895 are 4 cifre, 10 nu are minim 4 cifre)\n",
    "\n",
    "x = input('Introduceti un numar: ')\n",
    "if len(x) >= 4:\n",
    "        print ('Numarul are minim 4 cifre')\n",
    "else:\n",
    "        print('Numarul nu are minim 4 cifre')"
   ]
  },
  {
   "cell_type": "code",
   "execution_count": 109,
   "id": "e28c7b8b",
   "metadata": {},
   "outputs": [
    {
     "name": "stdout",
     "output_type": "stream",
     "text": [
      "Introduceti un numar: 12\n",
      "Numarul nu are exact 6 cifre\n"
     ]
    }
   ],
   "source": [
    "# Ex_12. Verifica daca x are exact 6 cifre \n",
    "\n",
    "x = input('Introduceti un numar: ')\n",
    "if len(x) == 6:\n",
    "        print ('Numarul are exact 6 cifre')\n",
    "else:\n",
    "        print('Numarul nu are exact 6 cifre')"
   ]
  },
  {
   "cell_type": "code",
   "execution_count": 111,
   "id": "860cca49",
   "metadata": {},
   "outputs": [
    {
     "name": "stdout",
     "output_type": "stream",
     "text": [
      "Introduceti un numar: 16\n",
      "Numarul introdus este par\n"
     ]
    }
   ],
   "source": [
    "# Ex_13. Verifica daca x este numar par sau impar\n",
    "\n",
    "x = int(input('Introduceti un numar: '))\n",
    "if x % 2 == 0:\n",
    "    print('Numarul introdus este par')\n",
    "else:\n",
    "    print('Numarul introdus este impar')"
   ]
  },
  {
   "cell_type": "code",
   "execution_count": 114,
   "id": "d5c55bf0",
   "metadata": {},
   "outputs": [
    {
     "name": "stdout",
     "output_type": "stream",
     "text": [
      "Introduceti numarul x: 4\n",
      "Introduceti numarul y: 6\n",
      "Introduceti numarul z: 1\n",
      "Cel mai mare numar este 6\n"
     ]
    }
   ],
   "source": [
    "# Ex_14. x, y, z (int)\n",
    "#Afiseaza care este cel mai mare dintre ele?\n",
    "\n",
    "x = int(input('Introduceti numarul x: '))\n",
    "y = int(input('Introduceti numarul y: '))\n",
    "z = int(input('Introduceti numarul z: '))\n",
    "if x > y and x > z:\n",
    "    print (f'Cel mai mare numar este {x}')\n",
    "elif y > x and y > z:\n",
    "    print (f'Cel mai mare numar este {y}')\n",
    "else:\n",
    "    print (f'Cel mai mare numar este {z}')"
   ]
  },
  {
   "cell_type": "code",
   "execution_count": 5,
   "id": "5caa9690",
   "metadata": {},
   "outputs": [
    {
     "name": "stdout",
     "output_type": "stream",
     "text": [
      "Introduceti unghiul x: 90\n",
      "Introduceti unghiul y: 60\n",
      "Introduceti unghiul z: 60\n",
      "Triunghiul este invalid\n"
     ]
    }
   ],
   "source": [
    "# 15. X, y, z - reprezinta unghiurile unui triunghi\n",
    "# Verifica si afiseaza daca triunghiul este valid sau nu\n",
    "\n",
    "x = int(input('Introduceti unghiul x: '))\n",
    "y = int(input('Introduceti unghiul y: '))\n",
    "z = int(input('Introduceti unghiul z: '))\n",
    "\n",
    "if x + y + z != 180:\n",
    "    print ('Triunghiul este invalid')\n",
    "else:\n",
    "    print('Triunghiul este valid')"
   ]
  },
  {
   "cell_type": "code",
   "execution_count": 2,
   "id": "d5965550",
   "metadata": {},
   "outputs": [
    {
     "name": "stdout",
     "output_type": "stream",
     "text": [
      "Introduceti varsta: 5\n",
      "Are pasaportul valid (DA/NU): DA\n",
      "Are ambii parinti? (DA/NU): NU\n",
      "Are permisiune? (DA/NU): NU\n",
      "Nu permite calatoria\n"
     ]
    }
   ],
   "source": [
    "# Nu stiu sigur daca am inteles corect ce trebuia sa fac, dar zic eu ca e destul de optim... :)))\n",
    "\n",
    "\n",
    "# 16. Pentru exercitiile cu biletele de avion incercati sa aplicati tehnicile de equivalence partitioning si \n",
    "#boundary value analysis astfel incat sa eficientizati testarea.\n",
    "\n",
    "# Sa tineti cont de urmatoarea chestie: tehnicile de testare vor fi aplicate nu pe faptul ca o persoana are pasaport \n",
    "#sau nu, ci pe varsta persoanei\n",
    "\n",
    "# pasaport = input('Are pasaportul valid : DA/NU ')\n",
    "# ambii_parinti = input('Are ambii parinti? DA/NU ')\n",
    "# permisiune = input('Are permisiune? DA/NU/NA ' )\n",
    "\n",
    "# if pasaport == 'DA' and (ambii_parinti == 'DA' or permisiune == 'DA') :\n",
    "#     print('Permite calatoria')\n",
    "# else :\n",
    "#     print('Nu permite calatoria')\n",
    "# Codul de mai sus va fi actualizat astfel incat sa țină cont și de varsta\n",
    "\n",
    "\n",
    "# Age = input(introduceti varsta)\n",
    "# pasaport = input('Are pasaportul valid : DA/NU ')\n",
    "# ambii_parinti = input('Are ambii parinti? DA/NU ')\n",
    "# permisiune = input('Are permisiune? DA/NU/NA ')\n",
    "\n",
    "# If age >=18 and pasaport == “DA”:\n",
    "#     print(permite calatoria)\n",
    "# elif pasaport == 'DA' and (ambii părinți == 'DA' or permisiune == 'DA') :\n",
    "#     print('Permite calatoria')\n",
    "# else :\n",
    "#     print('Nu permite calatoria')\n",
    "\n",
    "\n",
    "# Tehnicile de testare discutate vor fi aplicate pe condiția age>=18 și vor consta în crearea unor clase de echivalență \n",
    "# din care vom alege cate o singura valoare și respectiv valorile de graniță pentru a le folosi în testare\n",
    "\n",
    "age = float(input('Introduceti varsta: '))\n",
    "if age <=0: \n",
    "    print ('Nu ati introdus varsta corecta')\n",
    "elif age < 18: \n",
    "    pasaport = input('Are pasaportul valid (DA/NU): ')\n",
    "    if pasaport == 'NU':\n",
    "        print ('Nu permite calatoria')\n",
    "    else:\n",
    "        ambii_parinti = input('Are ambii parinti? (DA/NU): ')\n",
    "        if ambii_parinti == 'DA':\n",
    "            print('Permite calatoria')\n",
    "        else:\n",
    "            permisiune = input('Are permisiune? (DA/NU): ')\n",
    "            if permisiune == 'DA':\n",
    "                print ('Permite calatoria')\n",
    "            else:\n",
    "                print ('Nu permite calatoria')\n",
    "else: \n",
    "    pasaport = input('Are pasaportul valid (DA/NU): ')\n",
    "    if pasaport == 'DA':\n",
    "        print ('Permite calatoria')\n",
    "    else:\n",
    "        print ('Nu permite calatoria')\n",
    "    "
   ]
  },
  {
   "cell_type": "code",
   "execution_count": null,
   "id": "d03a5776",
   "metadata": {},
   "outputs": [],
   "source": []
  }
 ],
 "metadata": {
  "kernelspec": {
   "display_name": "Python 3 (ipykernel)",
   "language": "python",
   "name": "python3"
  },
  "language_info": {
   "codemirror_mode": {
    "name": "ipython",
    "version": 3
   },
   "file_extension": ".py",
   "mimetype": "text/x-python",
   "name": "python",
   "nbconvert_exporter": "python",
   "pygments_lexer": "ipython3",
   "version": "3.8.10"
  }
 },
 "nbformat": 4,
 "nbformat_minor": 5
}
