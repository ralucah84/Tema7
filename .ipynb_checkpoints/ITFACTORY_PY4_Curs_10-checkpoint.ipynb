{
 "cells": [
  {
   "cell_type": "markdown",
   "id": "4a484ed2",
   "metadata": {},
   "source": [
    "# List comprehension"
   ]
  },
  {
   "cell_type": "code",
   "execution_count": 6,
   "id": "23e25efc",
   "metadata": {},
   "outputs": [
    {
     "name": "stdout",
     "output_type": "stream",
     "text": [
      "['P', 'y', 't', 'h', 'o', 'n', 'i', 's', 't', 'a', 's']\n",
      "['P', 'y', 't', 'h', 'o', 'n', 'i', 's', 't', 'a', 's']\n"
     ]
    }
   ],
   "source": [
    "# Se da string-ul \"Pythonistas\", vreau sa returnez lista formata din fiecare caracter al stringului\n",
    "# \"Pythonistas\" => [\"P\", \"y\", \"t\".....\"s\"]\n",
    "my_word = \"Pythonistas\"\n",
    "\n",
    "# v1 - varianta clasica\n",
    "res_list = []  # prima data ne declaram o lista goala\n",
    "for elem in my_word:  # iteram peste string\n",
    "    res_list.append(elem)  # adaugam litera in lista\n",
    "print(res_list)\n",
    "\n",
    "# v2 - list comprehension\n",
    "res_list = [elem for elem in my_word]\n",
    "print(res_list)"
   ]
  },
  {
   "cell_type": "code",
   "execution_count": 12,
   "id": "33a3f903",
   "metadata": {},
   "outputs": [
    {
     "name": "stdout",
     "output_type": "stream",
     "text": [
      "['apple', 'lemon', 'cherry']\n",
      "['apple', 'lemon', 'cherry']\n"
     ]
    }
   ],
   "source": [
    "fruits = [\"apple\", \"banana\", \"lemon\", \"mango\", \"cherry\", \"kiwi\"]\n",
    "# Vrem sa construim lista de fructe care contin litera 'e' in nume\n",
    "\n",
    "# v1 - clasica\n",
    "res_list = []\n",
    "for elem in fruits:\n",
    "    if 'e' in elem:\n",
    "        res_list.append(elem)\n",
    "print(res_list)\n",
    "\n",
    "# v2 - list comprehension\n",
    "res_list = [elem for elem in fruits if 'e' in elem]\n",
    "print(res_list)"
   ]
  },
  {
   "cell_type": "code",
   "execution_count": 10,
   "id": "7adeb03d",
   "metadata": {},
   "outputs": [
    {
     "data": {
      "text/plain": [
       "True"
      ]
     },
     "execution_count": 10,
     "metadata": {},
     "output_type": "execute_result"
    }
   ],
   "source": [
    "s = \"apple\"\n",
    "'e' in s\n",
    "# if 'e' in s:\n",
    "#     print('da, avem e')"
   ]
  },
  {
   "cell_type": "code",
   "execution_count": 15,
   "id": "17545818",
   "metadata": {},
   "outputs": [
    {
     "name": "stdout",
     "output_type": "stream",
     "text": [
      "[3, 6, 9, 12, 15, 18, 21, 24, 27, 30, 33, 36, 39, 42, 45, 48]\n",
      "[3, 6, 9, 12, 15, 18, 21, 24, 27, 30, 33, 36, 39, 42, 45, 48]\n"
     ]
    }
   ],
   "source": [
    "# Returnati lista numerelor naturale divizibile cu 3 din intervalul [1,50]\n",
    "\n",
    "# v1\n",
    "res_list = []\n",
    "for nr in range(1,51):\n",
    "    if nr % 3 == 0:\n",
    "        res_list.append(nr)\n",
    "print(res_list)\n",
    "\n",
    "# v2\n",
    "print([nr for nr in range(1,51) if nr % 3 == 0])\n"
   ]
  },
  {
   "cell_type": "code",
   "execution_count": 33,
   "id": "43ac5ae0",
   "metadata": {},
   "outputs": [
    {
     "name": "stdout",
     "output_type": "stream",
     "text": [
      "[-2, 1, 4, 7, 10, 13, 'jackpot', 19, 22, 25, 28, 31, 34, 'jackpot', 40, 43]\n",
      "[-2, 1, 4, 7, 10, 13, 'jackpot', 19, 22, 25, 28, 31, 34, 'jackpot', 40, 43]\n"
     ]
    }
   ],
   "source": [
    "# daca ar fi sa ne folosit de res_list de mai sus, vreau sa returnam lista cu numerele divizibile cu 7 inlocuite de stringul\n",
    "# \"jackpot\", iar celelalte numere scazute cu 5\n",
    "my_list = [3, 6, 9, 12, 15, 18, 21, 24, 27, 30, 33, 36, 39, 42, 45, 48]\n",
    "\n",
    "# v1\n",
    "res_list = []\n",
    "for nr in my_list:\n",
    "    if not nr % 7:  # divi cu 7\n",
    "        res_list.append('jackpot')\n",
    "    else:\n",
    "        res_list.append(nr - 5)\n",
    "print(res_list)\n",
    "\n",
    "# v2\n",
    "res_list = ['jackpot' if not nr % 7 else nr-5 for nr in my_list]\n",
    "print(res_list)"
   ]
  },
  {
   "cell_type": "code",
   "execution_count": 18,
   "id": "dab288aa",
   "metadata": {},
   "outputs": [
    {
     "name": "stdout",
     "output_type": "stream",
     "text": [
      "divi\n"
     ]
    }
   ],
   "source": [
    "nr = 21\n",
    "if nr % 7 == 0:\n",
    "    print('divi')\n"
   ]
  },
  {
   "cell_type": "code",
   "execution_count": 28,
   "id": "97a6d7e6",
   "metadata": {},
   "outputs": [
    {
     "name": "stdout",
     "output_type": "stream",
     "text": [
      "divi\n"
     ]
    }
   ],
   "source": [
    "nr = 21\n",
    "if not nr % 7:\n",
    "    print('divi')"
   ]
  },
  {
   "cell_type": "code",
   "execution_count": 27,
   "id": "81ddb721",
   "metadata": {},
   "outputs": [
    {
     "data": {
      "text/plain": [
       "2"
      ]
     },
     "execution_count": 27,
     "metadata": {},
     "output_type": "execute_result"
    }
   ],
   "source": [
    "23 % 7"
   ]
  },
  {
   "cell_type": "code",
   "execution_count": 34,
   "id": "438caebd",
   "metadata": {},
   "outputs": [
    {
     "name": "stdout",
     "output_type": "stream",
     "text": [
      "True\n"
     ]
    }
   ],
   "source": [
    "if 2:\n",
    "    print('True')"
   ]
  },
  {
   "cell_type": "code",
   "execution_count": 37,
   "id": "a524e436",
   "metadata": {},
   "outputs": [
    {
     "name": "stdout",
     "output_type": "stream",
     "text": [
      "[2, 20, 200, 4, 40, 400, 6, 60, 600]\n",
      "[2, 20, 200, 4, 40, 400, 6, 60, 600]\n"
     ]
    }
   ],
   "source": [
    "# se pot folosi si for-uri nested\n",
    "# Din nou, sa aveti grija sa nu devina greu de citit codul\n",
    "\n",
    "# v1\n",
    "A = [2,4,6]\n",
    "B = [1,10,100]\n",
    "res_list = []\n",
    "for a in A:\n",
    "    for b in B:\n",
    "        res_list.append(a*b)\n",
    "print(res_list)\n",
    "\n",
    "# v2\n",
    "res_list = [a*b for a in A for b in B]\n",
    "print(res_list)"
   ]
  },
  {
   "cell_type": "code",
   "execution_count": 46,
   "id": "060b25f8",
   "metadata": {},
   "outputs": [
    {
     "name": "stdout",
     "output_type": "stream",
     "text": [
      "{'a': 1, 'b': 2, 'c': 3}\n",
      "{'a': 1, 'b': 2, 'c': 3}\n",
      "{'a': 1, 'b': 2, 'c': 3}\n"
     ]
    }
   ],
   "source": [
    "keys_and_values = [(1, 'a'), (2, 'b'), (3, 'c')]   # lista de tuple\n",
    "# Vrem sa construim dictionarul {'a': 1, 'b': 2, 'c': 3}\n",
    "\n",
    "# v1\n",
    "d = {}\n",
    "for elem in keys_and_values:\n",
    "    d[elem[1]] = elem[0]\n",
    "print(d)\n",
    "\n",
    "# v2 - dict comprehension\n",
    "d = {elem[1]: elem[0] for elem in keys_and_values}\n",
    "print(d)\n",
    "\n",
    "d = {letter: number for (number, letter) in keys_and_values}\n",
    "print(d)"
   ]
  },
  {
   "cell_type": "code",
   "execution_count": 47,
   "id": "c8d6411f",
   "metadata": {},
   "outputs": [
    {
     "name": "stdout",
     "output_type": "stream",
     "text": [
      "{'a': 1}\n"
     ]
    }
   ],
   "source": [
    "d = {}\n",
    "# adaug cheia 'a' cu valoarea 1 in d:\n",
    "d['a'] = 1\n",
    "print(d)"
   ]
  },
  {
   "cell_type": "markdown",
   "id": "005b3f57",
   "metadata": {},
   "source": [
    "# Map"
   ]
  },
  {
   "cell_type": "code",
   "execution_count": 49,
   "id": "28d5fdec",
   "metadata": {},
   "outputs": [],
   "source": [
    "map?"
   ]
  },
  {
   "cell_type": "code",
   "execution_count": 52,
   "id": "32ca8d3f",
   "metadata": {},
   "outputs": [
    {
     "name": "stdout",
     "output_type": "stream",
     "text": [
      "[1, 8, 27, 64, 125, 216]\n",
      "[1, 8, 27, 64, 125, 216]\n"
     ]
    }
   ],
   "source": [
    "def cube(nr):\n",
    "    return nr**3\n",
    "\n",
    "# v1 - varianta clasica\n",
    "numbers = [1,2,3,4,5,6]\n",
    "res_list = []\n",
    "for nr in numbers:\n",
    "    res_list.append(nr**3)\n",
    "print(res_list)\n",
    "\n",
    "# v2 - map\n",
    "res_list = list(map(cube, numbers))\n",
    "print(res_list)"
   ]
  },
  {
   "cell_type": "code",
   "execution_count": 60,
   "id": "c3b9c21d",
   "metadata": {},
   "outputs": [
    {
     "name": "stdout",
     "output_type": "stream",
     "text": [
      "['A', 'B', 'a', 'i']\n"
     ]
    }
   ],
   "source": [
    "# Avand o lista de nume, vreau sa returnez prima litera pt numele de lungime para\n",
    "# respectiv litera din mijloc pentru numele de lungime impara \n",
    "#  [\"Andrei\", \"Bianca\", \"Catalin\", \"Doina\"] => [\"A\", \"B\", \"a\", \"i\"]\n",
    "names = [\"Andrei\", \"Bianca\", \"Catalin\", \"Doina\"]\n",
    "\n",
    "def get_letter(name):\n",
    "    if len(name) % 2 == 0:\n",
    "        return name[0]\n",
    "    else:\n",
    "        return name[len(name)//2]\n",
    "\n",
    "res_list = list(map(get_letter, names))\n",
    "print(res_list)"
   ]
  },
  {
   "cell_type": "code",
   "execution_count": 58,
   "id": "8861177b",
   "metadata": {},
   "outputs": [
    {
     "data": {
      "text/plain": [
       "2"
      ]
     },
     "execution_count": 58,
     "metadata": {},
     "output_type": "execute_result"
    }
   ],
   "source": [
    "len(\"Doina\")//2"
   ]
  },
  {
   "cell_type": "code",
   "execution_count": 61,
   "id": "f64683b3",
   "metadata": {},
   "outputs": [
    {
     "data": {
      "text/plain": [
       "'i'"
      ]
     },
     "execution_count": 61,
     "metadata": {},
     "output_type": "execute_result"
    }
   ],
   "source": [
    "\"Doina\"[2]"
   ]
  },
  {
   "cell_type": "markdown",
   "id": "03542761",
   "metadata": {},
   "source": [
    "# Filter"
   ]
  },
  {
   "cell_type": "code",
   "execution_count": 62,
   "id": "414ce4ca",
   "metadata": {},
   "outputs": [],
   "source": [
    "filter?"
   ]
  },
  {
   "cell_type": "code",
   "execution_count": 67,
   "id": "374cb51d",
   "metadata": {},
   "outputs": [
    {
     "name": "stdout",
     "output_type": "stream",
     "text": [
      "[2, 4, 6]\n"
     ]
    }
   ],
   "source": [
    "numbers = [1,2,3,4,5,6]\n",
    "# Vrem sa filtram lista, astfel incat sa ramana doar numerele pare\n",
    "\n",
    "def is_even(nr):\n",
    "    if nr % 2 == 0:\n",
    "        return True\n",
    "    else:\n",
    "        return False\n",
    "\n",
    "def is_even_v2(nr):\n",
    "    return nr % 2 == 0\n",
    "\n",
    "def is_even_v3(nr):\n",
    "    return not nr % 2\n",
    "\n",
    "\n",
    "res_list = list(filter(is_even, numbers))\n",
    "print(res_list)"
   ]
  },
  {
   "cell_type": "markdown",
   "id": "4e342e1d",
   "metadata": {},
   "source": [
    "# Reduce"
   ]
  },
  {
   "cell_type": "code",
   "execution_count": 69,
   "id": "6863418b",
   "metadata": {},
   "outputs": [],
   "source": [
    "from functools import reduce"
   ]
  },
  {
   "cell_type": "code",
   "execution_count": 70,
   "id": "0bf7486f",
   "metadata": {},
   "outputs": [],
   "source": [
    "reduce?"
   ]
  },
  {
   "cell_type": "code",
   "execution_count": 73,
   "id": "e8b5171f",
   "metadata": {},
   "outputs": [
    {
     "name": "stdout",
     "output_type": "stream",
     "text": [
      "21\n"
     ]
    }
   ],
   "source": [
    "numbers = [1,2,3,4,5,6]\n",
    "# vrem sa adunam toate numerele din lista cu reduce\n",
    "\n",
    "def add(a,b):\n",
    "    return a+b\n",
    "\n",
    "res_list = reduce(add, numbers)\n",
    "print(res_list)"
   ]
  },
  {
   "cell_type": "code",
   "execution_count": 77,
   "id": "2ad8441b",
   "metadata": {},
   "outputs": [
    {
     "name": "stdout",
     "output_type": "stream",
     "text": [
      "91\n",
      "91\n"
     ]
    }
   ],
   "source": [
    "numbers = [1,2,3,4,5,6]\n",
    "# vrem sa calulam suma patratelor numerelor din numbers cu ajutorul map si reduce\n",
    "def square(nr):\n",
    "    return nr*nr # sau nr**2\n",
    "\n",
    "squared_numbers = list(map(square, numbers))\n",
    "sum_of_squared_numbers = reduce(add, squared_numbers)\n",
    "print(sum_of_squared_numbers)\n",
    "\n",
    "# sau one-liner\n",
    "print(reduce(add, map(square, numbers)))"
   ]
  },
  {
   "cell_type": "markdown",
   "id": "f3564a50",
   "metadata": {},
   "source": [
    "# Lambda"
   ]
  },
  {
   "cell_type": "code",
   "execution_count": 78,
   "id": "96412082",
   "metadata": {},
   "outputs": [],
   "source": [
    "def cube(nr):\n",
    "    return nr**3"
   ]
  },
  {
   "cell_type": "code",
   "execution_count": 79,
   "id": "44aba7d1",
   "metadata": {},
   "outputs": [
    {
     "data": {
      "text/plain": [
       "27"
      ]
     },
     "execution_count": 79,
     "metadata": {},
     "output_type": "execute_result"
    }
   ],
   "source": [
    "cube(3)"
   ]
  },
  {
   "cell_type": "code",
   "execution_count": 80,
   "id": "97a24748",
   "metadata": {},
   "outputs": [],
   "source": [
    "def cube(nr): return nr**3  # se poate scrie si asa"
   ]
  },
  {
   "cell_type": "code",
   "execution_count": 81,
   "id": "8e0d6f0b",
   "metadata": {},
   "outputs": [
    {
     "data": {
      "text/plain": [
       "27"
      ]
     },
     "execution_count": 81,
     "metadata": {},
     "output_type": "execute_result"
    }
   ],
   "source": [
    "cube(3)"
   ]
  },
  {
   "cell_type": "code",
   "execution_count": 82,
   "id": "b533083d",
   "metadata": {},
   "outputs": [],
   "source": [
    "# ajungem la ...\n",
    "cube = lambda nr: nr**3"
   ]
  },
  {
   "cell_type": "code",
   "execution_count": 83,
   "id": "83208a32",
   "metadata": {},
   "outputs": [
    {
     "data": {
      "text/plain": [
       "27"
      ]
     },
     "execution_count": 83,
     "metadata": {},
     "output_type": "execute_result"
    }
   ],
   "source": [
    "cube(3) # nu se prea foloseste asa"
   ]
  },
  {
   "cell_type": "code",
   "execution_count": 84,
   "id": "33ca3633",
   "metadata": {},
   "outputs": [],
   "source": [
    "# dar mai degraba ..."
   ]
  },
  {
   "cell_type": "code",
   "execution_count": 87,
   "id": "686b9f4f",
   "metadata": {},
   "outputs": [
    {
     "name": "stdout",
     "output_type": "stream",
     "text": [
      "[1, 8, 27, 64, 125, 216]\n",
      "[1, 8, 27, 64, 125, 216]\n"
     ]
    }
   ],
   "source": [
    "numbers = [1,2,3,4,5,6]\n",
    "\n",
    "# lista de cubur:\n",
    "print(list(map(cube, numbers)))\n",
    "print(list(map(lambda nr: nr**3, numbers)))"
   ]
  },
  {
   "cell_type": "code",
   "execution_count": 90,
   "id": "e78015b3",
   "metadata": {},
   "outputs": [
    {
     "name": "stdout",
     "output_type": "stream",
     "text": [
      "[2, 4, 6]\n",
      "[2, 4, 6]\n"
     ]
    }
   ],
   "source": [
    "# lista filtrata de numere pare\n",
    "print(list(filter(is_even, numbers)))\n",
    "print(list(filter(lambda nr: nr % 2 == 0, numbers)))"
   ]
  },
  {
   "cell_type": "code",
   "execution_count": 93,
   "id": "fff74a1e",
   "metadata": {},
   "outputs": [
    {
     "name": "stdout",
     "output_type": "stream",
     "text": [
      "21\n",
      "21\n"
     ]
    }
   ],
   "source": [
    "# suma numerelor din lista\n",
    "print(reduce(add, numbers))\n",
    "print(reduce(lambda nr1,nr2: nr1+nr2, numbers))"
   ]
  },
  {
   "cell_type": "code",
   "execution_count": 94,
   "id": "fff1900e",
   "metadata": {},
   "outputs": [],
   "source": [
    "# sidenote: iterable vs sequence: iterabila permite sa iteram peste cu un for de exemplu, dar nu trebuie sa aiba neaparat indecsi sau sa ii stim lunimea fata de secventa\n",
    "# sequence: list, tuple, str\n",
    "# iterable (but not sequence): dict "
   ]
  },
  {
   "cell_type": "markdown",
   "id": "6849cb72",
   "metadata": {},
   "source": [
    "# Sorting"
   ]
  },
  {
   "cell_type": "code",
   "execution_count": 98,
   "id": "0e69bcd6",
   "metadata": {},
   "outputs": [
    {
     "name": "stdout",
     "output_type": "stream",
     "text": [
      "[1, 2, 3, 4, 5]\n",
      "[1, 2, 3, 4, 5]\n"
     ]
    }
   ],
   "source": [
    "a_list = [5,1,4,3,2]\n",
    "\n",
    "# vrem sa sortam ascendent (crescator)\n",
    "res_list = sorted(a_list)  # sorted returneaza un nou obiect sortat\n",
    "print(res_list)\n",
    "a_list.sort()  # .sort() modifica a_list\n",
    "print(a_list)"
   ]
  },
  {
   "cell_type": "code",
   "execution_count": 105,
   "id": "53edfa53",
   "metadata": {},
   "outputs": [],
   "source": [
    "sorted?"
   ]
  },
  {
   "cell_type": "code",
   "execution_count": 108,
   "id": "03ab55b2",
   "metadata": {},
   "outputs": [
    {
     "name": "stdout",
     "output_type": "stream",
     "text": [
      "['BB', 'CC', 'aa', 'ff', 'zz']\n",
      "['zz', 'ff', 'aa', 'CC', 'BB']\n",
      "['zz', 'ff', 'CC', 'BB', 'aa']\n"
     ]
    }
   ],
   "source": [
    "# Sortati lista urmatoare in mod descendent non-case sensitive!! \n",
    "# ['ff', 'BB', 'aa', 'CC', 'zz'] => ['zz', 'ff', 'CC', 'BB', 'aa']\n",
    "my_list = ['ff', 'BB', 'aa', 'CC', 'zz']\n",
    "print(sorted(my_list))\n",
    "print(sorted(my_list, reverse=True))\n",
    "print(sorted(my_list, reverse=True, key=lambda x: x.upper()))"
   ]
  },
  {
   "cell_type": "code",
   "execution_count": 101,
   "id": "bbbfd1f7",
   "metadata": {},
   "outputs": [
    {
     "data": {
      "text/plain": [
       "True"
      ]
     },
     "execution_count": 101,
     "metadata": {},
     "output_type": "execute_result"
    }
   ],
   "source": [
    "'A' < 'a' # puteti verifica asta fie intr`un tabel codul ASCII, fie cu ajutorul functiei ord() "
   ]
  },
  {
   "cell_type": "code",
   "execution_count": 103,
   "id": "20a15099",
   "metadata": {},
   "outputs": [
    {
     "data": {
      "text/plain": [
       "65"
      ]
     },
     "execution_count": 103,
     "metadata": {},
     "output_type": "execute_result"
    }
   ],
   "source": [
    "ord('A')"
   ]
  },
  {
   "cell_type": "code",
   "execution_count": 104,
   "id": "5646d831",
   "metadata": {},
   "outputs": [
    {
     "data": {
      "text/plain": [
       "97"
      ]
     },
     "execution_count": 104,
     "metadata": {},
     "output_type": "execute_result"
    }
   ],
   "source": [
    "ord('a')"
   ]
  },
  {
   "cell_type": "code",
   "execution_count": 109,
   "id": "5a8a9986",
   "metadata": {},
   "outputs": [],
   "source": [
    "# Given the csv file student_grades.csv:\n",
    "# 1. List the contents of the file as a list of dicts, a row being a dict of form:\n",
    "# {\"student_name\": <name_of_student>, \"subject\": <name_of_subject>, \"grade\": <grade>}\n",
    "# 2. Sort the contents of the file based on student`s name and saved it back like that\n",
    "# 3. List the student that has the most grades and how many it has\n",
    "# 4. Write a function that returns the overall grade average for every student in a dict of form {student_name1: grade_avg1,..} \n",
    "\n",
    "##student_grades.csv:\n",
    "#Eveline,math,9\n",
    "#Andrew,physics,6\n",
    "#Celine,music,10\n",
    "#Matthew,math,7\n",
    "#Celine,english,10\n",
    "#Matthew,english,10\n",
    "#Celine,chemistry,6"
   ]
  },
  {
   "cell_type": "code",
   "execution_count": 110,
   "id": "bd7ba863",
   "metadata": {},
   "outputs": [],
   "source": [
    "# 2. Sort ascending the contents of the file based on student`s name\n",
    "# hardcodam continutul fisierului...\n",
    "student_grades_list = [[\"Eveline\", \"math\", 9], [\"Andrew\", \"physics\", 6], [\"Celine\", \"music\", 10], [\"Matthew\", \"math\", 7], \n",
    "           [\"Celine\", \"english\", 10], [\"Matthew\", \"english\", 10], [\"Celine\", \"chemistry\", 6]]"
   ]
  },
  {
   "cell_type": "code",
   "execution_count": 112,
   "id": "8839e20b",
   "metadata": {},
   "outputs": [
    {
     "name": "stdout",
     "output_type": "stream",
     "text": [
      "[['Andrew', 'physics', 6], ['Celine', 'chemistry', 6], ['Celine', 'english', 10], ['Celine', 'music', 10], ['Eveline', 'math', 9], ['Matthew', 'english', 10], ['Matthew', 'math', 7]]\n"
     ]
    }
   ],
   "source": [
    "print(sorted(student_grades_list))"
   ]
  },
  {
   "cell_type": "code",
   "execution_count": 114,
   "id": "d3a82f04",
   "metadata": {},
   "outputs": [
    {
     "name": "stdout",
     "output_type": "stream",
     "text": [
      "[['Celine', 'chemistry', 6], ['Celine', 'english', 10], ['Matthew', 'english', 10], ['Eveline', 'math', 9], ['Matthew', 'math', 7], ['Celine', 'music', 10], ['Andrew', 'physics', 6]]\n"
     ]
    }
   ],
   "source": [
    "# acum sa incercam sa sortam crescator in functie de materie\n",
    "print(sorted(student_grades_list, key=lambda x: x[1]))"
   ]
  },
  {
   "cell_type": "code",
   "execution_count": 116,
   "id": "47b0ab19",
   "metadata": {},
   "outputs": [
    {
     "name": "stdout",
     "output_type": "stream",
     "text": [
      "[['Celine', 'music', 10], ['Celine', 'english', 10], ['Matthew', 'english', 10], ['Eveline', 'math', 9], ['Matthew', 'math', 7], ['Andrew', 'physics', 6], ['Celine', 'chemistry', 6]]\n",
      "[['Celine', 'music', 10], ['Celine', 'english', 10], ['Matthew', 'english', 10], ['Eveline', 'math', 9], ['Matthew', 'math', 7], ['Andrew', 'physics', 6], ['Celine', 'chemistry', 6]]\n"
     ]
    }
   ],
   "source": [
    "# descrescator dupa nota?\n",
    "print(sorted(student_grades_list, reverse=True, key=lambda x: x[2]))\n",
    "\n",
    "def get_grade(stud_list):\n",
    "    return stud_list[2]\n",
    "print(sorted(student_grades_list, reverse=True, key=get_grade))\n"
   ]
  },
  {
   "cell_type": "code",
   "execution_count": 119,
   "id": "4b6e7cda",
   "metadata": {},
   "outputs": [
    {
     "name": "stdout",
     "output_type": "stream",
     "text": [
      "[{'student': 'Celine', 'subject': 'music', 'grade': 10}, {'student': 'Celine', 'subject': 'english', 'grade': 10}, {'student': 'Matthew', 'subject': 'english', 'grade': 10}, {'student': 'Eveline', 'subject': 'math', 'grade': 9}, {'student': 'Matthew', 'subject': 'math', 'grade': 7}, {'student': 'Andrew', 'subject': 'physics', 'grade': 6}, {'student': 'Celine', 'subject': 'chemistry', 'grade': 6}]\n"
     ]
    }
   ],
   "source": [
    "# 1. List the contents of the file as a list of dicts, a row being a dict of form:\n",
    "# TODO: Rescrieti exercitiul 1. folosindu`va de dict comprehension\n",
    "\n",
    "list_of_students = [{'student': 'Eveline', 'subject': 'math', 'grade': 9}, {'student': 'Andrew', 'subject': 'physics', 'grade': 6}, \n",
    " {'student': 'Celine', 'subject': 'music', 'grade': 10}, {'student': 'Matthew', 'subject': 'math', 'grade': 7}, \n",
    " {'student': 'Celine', 'subject': 'english', 'grade': 10}, {'student': 'Matthew', 'subject': 'english', 'grade': 10}, \n",
    " {'student': 'Celine', 'subject': 'chemistry', 'grade': 6}]\n",
    "\n",
    "# sortam in functie de grade descrescator\n",
    "print(sorted(list_of_students, reverse=True, key=lambda x: x['grade']))\n"
   ]
  },
  {
   "cell_type": "code",
   "execution_count": 121,
   "id": "48c3cfdd",
   "metadata": {},
   "outputs": [
    {
     "name": "stdout",
     "output_type": "stream",
     "text": [
      "[1, 2, 3, 4, 5]\n"
     ]
    }
   ],
   "source": [
    "# implementare python pentru bubble-sort:\n",
    "my_list = [5,1,3,4,2]\n",
    "##indecsi##0,1,2,3,4\n",
    "# bubble-sort\n",
    "\n",
    "# i = 0 => 1 => 2 => 3\n",
    "# j = 1 => 2 => 3 => 4 => 2 => 3 => 4 => 3 => 4 => 4\n",
    "# my_list = [5,1,3,4,2] > [1,5,3,4,2] > [1,5,3,4,2] > [1,5,3,4,2] > [1,5,3,4,2] >\n",
    "# > [1,3,5,4,2] > [1,3,5,4,2] > [1,2,5,4,3] >\n",
    "# > [1,2,4,5,3] > [1,2,3,5,4] >\n",
    "# > [1,2,3,4,5]\n",
    "\n",
    "\n",
    "for i in range(0, len(my_list) - 1):\n",
    "    for j in range(i+1, len(my_list)):\n",
    "        if my_list[j] < my_list[i]:\n",
    "            my_list[i], my_list[j] = my_list[j], my_list[i]\n",
    "print(my_list)\n",
    "\n",
    "# ca sa determinam eficienta unui algoritm, exista notatia O()\n",
    "# bubble-sort e O(n^2), la fel si insertion-sort, selection-sort\n",
    "# quicksort, merge-sort, timsort sunt O(n*log n)  -> cei mai buni alg de sortare au complexitate O(n*log n)"
   ]
  },
  {
   "cell_type": "code",
   "execution_count": null,
   "id": "3b440fe4",
   "metadata": {},
   "outputs": [],
   "source": []
  }
 ],
 "metadata": {
  "kernelspec": {
   "display_name": "Python 3",
   "language": "python",
   "name": "python3"
  },
  "language_info": {
   "codemirror_mode": {
    "name": "ipython",
    "version": 3
   },
   "file_extension": ".py",
   "mimetype": "text/x-python",
   "name": "python",
   "nbconvert_exporter": "python",
   "pygments_lexer": "ipython3",
   "version": "3.8.8"
  }
 },
 "nbformat": 4,
 "nbformat_minor": 5
}
