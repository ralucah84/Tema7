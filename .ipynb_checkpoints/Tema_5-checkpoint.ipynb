{
 "cells": [
  {
   "cell_type": "code",
   "execution_count": 5,
   "id": "2d1f110b",
   "metadata": {},
   "outputs": [
    {
     "name": "stdout",
     "output_type": "stream",
     "text": [
      "7\n",
      "50\n"
     ]
    }
   ],
   "source": [
    "# 1. Functie care sa calculeze si sa returneze suma a 2 numere\n",
    "\n",
    "def suma(a,b):\n",
    "    return a+b\n",
    "s1 = suma(4,3)\n",
    "s2 = suma (20,30)\n",
    "print (s1)\n",
    "print (s2)"
   ]
  },
  {
   "cell_type": "code",
   "execution_count": 8,
   "id": "31f6e6d9",
   "metadata": {},
   "outputs": [
    {
     "name": "stdout",
     "output_type": "stream",
     "text": [
      "TRUE\n",
      "TRUE\n",
      "FALSE\n",
      "FALSE\n"
     ]
    }
   ],
   "source": [
    "# 2. Functie care sa returneze TRUE daca un numar este par, FALSE pt impar\n",
    "\n",
    "def par(nr):\n",
    "    if nr % 2 == 0:\n",
    "        return 'TRUE'\n",
    "    else:\n",
    "        return 'FALSE'\n",
    "nr1 = par(6)\n",
    "nr2 = par(28)\n",
    "nr3 = par(5)\n",
    "nr4 = par(71)\n",
    "print(nr1)\n",
    "print(nr2)\n",
    "print(nr3)\n",
    "print(nr4)"
   ]
  },
  {
   "cell_type": "code",
   "execution_count": 12,
   "id": "ae770099",
   "metadata": {},
   "outputs": [
    {
     "name": "stdout",
     "output_type": "stream",
     "text": [
      "14\n",
      "11\n",
      "14\n",
      "11\n"
     ]
    }
   ],
   "source": [
    "# 3. Functie care returneaza numarul total de caractere din numele tau complet.\n",
    "# (nume, prenume, nume_mijlociu) \n",
    "\n",
    "#V1\n",
    "def nume1(*args):\n",
    "    nr_caractere = 0\n",
    "    for elem in args:\n",
    "        nr_caractere += len(elem)\n",
    "    return nr_caractere\n",
    "result1 = nume1('Han', 'Raluca', 'Maria')\n",
    "result2 = nume1('Popescu', 'Ioan')\n",
    "print(result1)\n",
    "print(result2)\n",
    "\n",
    "#V2\n",
    "def nume2(name):\n",
    "    numar_caractere = len(name) - name.count(' ')\n",
    "    return numar_caractere\n",
    "result3 = nume2('Han Raluca Maria')\n",
    "result4 = nume2('Popescu Ioan')\n",
    "print(result3)\n",
    "print(result4)"
   ]
  },
  {
   "cell_type": "code",
   "execution_count": 13,
   "id": "891fc6ab",
   "metadata": {},
   "outputs": [
    {
     "name": "stdout",
     "output_type": "stream",
     "text": [
      "50\n",
      "44\n"
     ]
    }
   ],
   "source": [
    "# 4. Functie care returneaza aria dreptunghiului\n",
    "\n",
    "def arie_dreptunghi(lung, lat):\n",
    "    return lung*lat\n",
    "aria1 = arie_dreptunghi(10,5)\n",
    "aria2 = arie_dreptunghi(11,4)\n",
    "print(aria1)\n",
    "print(aria2)"
   ]
  },
  {
   "cell_type": "code",
   "execution_count": 15,
   "id": "4d820b23",
   "metadata": {},
   "outputs": [
    {
     "name": "stdout",
     "output_type": "stream",
     "text": [
      "314.0\n",
      "200.96\n"
     ]
    }
   ],
   "source": [
    "# 5. Functie care returneaza aria cercului\n",
    "\n",
    "def arie_cerc(raza, pi=3.14):\n",
    "    return pi*raza*raza\n",
    "aria3 = arie_cerc(10)\n",
    "aria4 = arie_cerc(8)\n",
    "print(aria3)\n",
    "print(aria4)"
   ]
  },
  {
   "cell_type": "code",
   "execution_count": 50,
   "id": "f67b6492",
   "metadata": {},
   "outputs": [
    {
     "name": "stdout",
     "output_type": "stream",
     "text": [
      "Introduceti un caracter: i\n",
      "True\n",
      "True\n"
     ]
    }
   ],
   "source": [
    "# 6. Functie care returneaza True daca un caracter x se gaseste intr-un string dat. Fasle daca nu\n",
    "\n",
    "x = input('Introduceti un caracter: ')\n",
    "def caracter(propozitie):\n",
    "    if x in propozitie or x.lower() in propozitie or x.upper() in propozitie:\n",
    "        return 'True'\n",
    "    else:\n",
    "        return 'False'\n",
    "car1=caracter('acesta este un string dat')\n",
    "car2=caracter('I don t know what')\n",
    "print(car1)\n",
    "print(car2)"
   ]
  },
  {
   "cell_type": "code",
   "execution_count": 65,
   "id": "a2f99e34",
   "metadata": {},
   "outputs": [
    {
     "name": "stdout",
     "output_type": "stream",
     "text": [
      "Numarul de caractere lower is 14\n",
      "Numarul de caractere upper is 4\n",
      "Numarul de caractere lower is 15\n",
      "Numarul de caractere upper is 6\n"
     ]
    }
   ],
   "source": [
    "# 7. Functie fara return, primeste un string si printeaza pe ecran:\n",
    "# Nr de caractere lower case este x\n",
    "# Nr de caractere upper case exte y \n",
    "\n",
    "def nr_caractere(string):\n",
    "    a=0\n",
    "    b=0\n",
    "    for x in string:\n",
    "        if x.islower():\n",
    "            a+=1\n",
    "        elif x.isupper():\n",
    "            b+=1\n",
    "    print(f'Numarul de caractere lower is {a}')\n",
    "    print(f'Numarul de caractere upper is {b}')\n",
    "    \n",
    "nr_caractere('Acesta Este Un String') \n",
    "nr_caractere('acesta este un alt STRING')"
   ]
  },
  {
   "cell_type": "code",
   "execution_count": 74,
   "id": "1ee3d02c",
   "metadata": {},
   "outputs": [
    {
     "name": "stdout",
     "output_type": "stream",
     "text": [
      "[3, 5, 9]\n",
      "[7, 3, 6]\n"
     ]
    }
   ],
   "source": [
    "# 8. Functie care primeste o LISTA de numere si returneaza o LISTA doar cu numerele pozitive\n",
    "\n",
    "def nr_pozitive(lista):\n",
    "    lista_noua = []\n",
    "    for nr in lista:\n",
    "        if nr>0:\n",
    "            lista_noua.append(nr)\n",
    "    return lista_noua\n",
    "lista_nr_pozitive1 = nr_pozitive([-2, 3, 5, -7, -8, 9])\n",
    "lista_nr_pozitive2 = nr_pozitive([7, 3, 0, -4, -5, 6, -9])\n",
    "print(lista_nr_pozitive1)\n",
    "print(lista_nr_pozitive2)"
   ]
  },
  {
   "cell_type": "code",
   "execution_count": 77,
   "id": "0decf418",
   "metadata": {},
   "outputs": [
    {
     "name": "stdout",
     "output_type": "stream",
     "text": [
      "Numerele sunt egale.\n",
      "Primul numar 7 este mai mare decat al doilea numar 2.\n",
      "Al doilea numar 9 este mai mare decat primul numar 1.\n"
     ]
    }
   ],
   "source": [
    "# 9. Functie care nu retunraza nimic. Primeste 2 numere si PRINTEAZA\n",
    "# Primul numar x este mai mare decat al doilea nr y\n",
    "# Al doilea nr y este mai mare decat primul nr x\n",
    "# Numerele sunt egale. \n",
    "\n",
    "def doua_nr(x,y):\n",
    "    if x > y:\n",
    "        print (f'Primul numar {x} este mai mare decat al doilea numar {y}.')\n",
    "    elif x < y:\n",
    "        print(f'Al doilea numar {y} este mai mare decat primul numar {x}.')\n",
    "    else:\n",
    "        print('Numerele sunt egale.')\n",
    "doua_nr(5,5)\n",
    "doua_nr(7,2)\n",
    "doua_nr(1,9)"
   ]
  },
  {
   "cell_type": "code",
   "execution_count": 88,
   "id": "716a9274",
   "metadata": {},
   "outputs": [
    {
     "name": "stdout",
     "output_type": "stream",
     "text": [
      "Am adaugat numarul nou in set\n",
      "True\n",
      "Nu am adaugat numarul in set. Acesta exista deja\n",
      "False\n"
     ]
    }
   ],
   "source": [
    "# 10. Functie care primeste un numar si un set de numere.\n",
    "# Printeaza ‘am adaugat numarul nou in set’ + returneaza True\n",
    "# Sau Printeaza ‘nu am adaugat numarul in set. Acesta exista deja’ + returneaza False\n",
    "\n",
    "def set_nr(nr, myset):\n",
    "    if nr not in myset:\n",
    "        myset.add(nr)\n",
    "        print ('Am adaugat numarul nou in set')\n",
    "        return 'True'\n",
    "    else:\n",
    "        print('Nu am adaugat numarul in set. Acesta exista deja')\n",
    "        return 'False'\n",
    "result1 = set_nr(4, {1, 5, 7})\n",
    "print(result1)\n",
    "result2 = set_nr(1, {1, 2, 3})\n",
    "print(result2)\n"
   ]
  },
  {
   "cell_type": "code",
   "execution_count": 89,
   "id": "f89b23c0",
   "metadata": {},
   "outputs": [
    {
     "name": "stdout",
     "output_type": "stream",
     "text": [
      "31\n",
      "28\n",
      "30\n"
     ]
    }
   ],
   "source": [
    "# 11. Functie care primeste o luna din an si returneaza cate zile are acea luna\n",
    "\n",
    "def zile_luna(luna):\n",
    "    if luna in ('ianuarie', 'martie', 'mai', 'iulie', 'august', 'octombrie', 'decembrie'):\n",
    "        return 31\n",
    "    elif luna in ('aprilie', 'iunie', 'septembrie', 'noiembrie'):\n",
    "        return 30\n",
    "    else:\n",
    "        return 28\n",
    "luna1 = zile_luna('ianuarie')\n",
    "luna2 = zile_luna('februarie')\n",
    "luna3 = zile_luna('iunie')\n",
    "print(luna1)    \n",
    "print(luna2)\n",
    "print(luna3)\n",
    "    "
   ]
  },
  {
   "cell_type": "code",
   "execution_count": 93,
   "id": "aa10bbf2",
   "metadata": {},
   "outputs": [
    {
     "name": "stdout",
     "output_type": "stream",
     "text": [
      "Suma: 12\n",
      "Diferenta: 8\n",
      "Inmultirea: 20\n",
      "Impartirea: 5.0\n",
      "\n",
      "Suma: 12\n",
      "Diferenta: 6\n",
      "Inmultirea: 27\n",
      "Impartirea: 3.0\n"
     ]
    }
   ],
   "source": [
    "# 12. Functie calculator care sa returneze 4 valori \n",
    "# Suma, diferenta, inmultirea, impartirea a 2 numere\n",
    "\n",
    "# In final vei putea face:\n",
    "# a, b, c, d = calculator(10, 2)\n",
    "# print(\"Suma: \", a)\n",
    "# print(\"Diferenta: \", b)\n",
    "# print(\"Inmultirea: \", c)\n",
    "# print(\"Impartirea: \", d)\n",
    "\n",
    "def calculator(x,y):\n",
    "    return x+y, x-y, x*y, x/y\n",
    "a, b, c, d = calculator(10,2)\n",
    "print(f'Suma: {a}')\n",
    "print(f'Diferenta: {b}')\n",
    "print(f'Inmultirea: {c}')\n",
    "print(f'Impartirea: {d}')\n",
    "print()\n",
    "a, b, c, d = calculator(9,3)\n",
    "print(f'Suma: {a}')\n",
    "print(f'Diferenta: {b}')\n",
    "print(f'Inmultirea: {c}')\n",
    "print(f'Impartirea: {d}')"
   ]
  },
  {
   "cell_type": "code",
   "execution_count": 151,
   "id": "29242017",
   "metadata": {},
   "outputs": [
    {
     "name": "stdout",
     "output_type": "stream",
     "text": [
      "{0: 0, 1: 2, 2: 0, 3: 1, 4: 0, 5: 3, 6: 0, 7: 2, 8: 0, 9: 1}\n"
     ]
    }
   ],
   "source": [
    "# Am reusit sa creez dictionarul, dar nu stiu cum sa printez fiecare cheie si valoarea ei, pe linie noua...\n",
    "\n",
    "# 13. Functie care primeste o lista de cifre (adica doar 0-9)\n",
    "# Ex: [1, 3, 1, 5, 9, 7, 7, 5, 5]\n",
    "# Returneaza un DICT care ne spune de cate ori apare fiecare litera\n",
    "# => dict {\n",
    "# 0: 0\n",
    "# 1 :2\n",
    "# 2: 0\n",
    "# 3: 1\n",
    "# 4: 0\n",
    "# 5: 3\n",
    "# 6: 0\n",
    "# 7: 2\n",
    "# 8: 0\n",
    "# 9: 1\n",
    "# }\n",
    "\n",
    "def cifre(lista):\n",
    "    my_dict = {}\n",
    "    for key in range(0,10):\n",
    "        my_dict[key] = 0\n",
    "        if key in lista:\n",
    "            my_dict[key]= lista.count(key)\n",
    "    return my_dict\n",
    "result = cifre([1, 3, 1, 5, 9, 7, 7, 5, 5])\n",
    "print(result)"
   ]
  },
  {
   "cell_type": "code",
   "execution_count": 155,
   "id": "bb2de5a5",
   "metadata": {},
   "outputs": [
    {
     "name": "stdout",
     "output_type": "stream",
     "text": [
      "Valoare maxima este 7\n",
      "Valoare maxima este 9\n",
      "Valoare maxima este 8\n"
     ]
    }
   ],
   "source": [
    "# 14. Functie care primeste 3 numere\n",
    "# Returneaza valoarea maxima dintre ele\n",
    "\n",
    "def val_max (x,y,z):\n",
    "    if x>y and x>z:\n",
    "        return x\n",
    "    elif y>x and y>z:\n",
    "        return y\n",
    "    else:\n",
    "        return z\n",
    "result1 = val_max(5,7,3)\n",
    "print(f'Valoare maxima este {result1}')\n",
    "result2 = val_max(1,7,9)\n",
    "print(f'Valoare maxima este {result2}')\n",
    "result3 = val_max(8,5,6)\n",
    "print(f'Valoare maxima este {result3}')"
   ]
  },
  {
   "cell_type": "code",
   "execution_count": 157,
   "id": "143adb6b",
   "metadata": {},
   "outputs": [
    {
     "name": "stdout",
     "output_type": "stream",
     "text": [
      "15\n",
      "55\n"
     ]
    }
   ],
   "source": [
    "# 15. Functie care sa primeasca un numar si sa retunreze suma tuturor numerelor de la 0 la acel numar\n",
    "# Ex: daca dam nr 3\n",
    "# Suma va fi 6 (0+1+2+3)\n",
    "\n",
    "def suma_numar(nr):\n",
    "    suma = 0\n",
    "    while nr != 0:\n",
    "        suma = suma + nr\n",
    "        nr -=1\n",
    "    return suma\n",
    "rez1 = suma_numar(5)\n",
    "rez2 = suma_numar(10)\n",
    "print(rez1)\n",
    "print(rez2)   \n"
   ]
  },
  {
   "cell_type": "code",
   "execution_count": 1,
   "id": "a7f293cd",
   "metadata": {},
   "outputs": [
    {
     "name": "stdout",
     "output_type": "stream",
     "text": [
      "Numele este de fata\n",
      "Numele este de baiat\n",
      "Numele este de fata\n"
     ]
    }
   ],
   "source": [
    "# 16. Functie in care sa dai un nume romanesc si sa iti printeze pe ecran\n",
    "# ‘Numele este de baiat’ sau ‘Numele este de fata’\n",
    "\n",
    "nume_de_fete = ['Carmen', 'Miriam', 'Ingrid']\n",
    "def gen_nume(nume):\n",
    "    if (nume[-1] == 'a') or nume in nume_de_fete:\n",
    "        print('Numele este de fata')\n",
    "    else:\n",
    "        print('Numele este de baiat')\n",
    "gen_nume('Raluca')\n",
    "gen_nume('Vlad')\n",
    "gen_nume('Carmen')"
   ]
  },
  {
   "cell_type": "code",
   "execution_count": 160,
   "id": "9f5a42ca",
   "metadata": {},
   "outputs": [
    {
     "name": "stdout",
     "output_type": "stream",
     "text": [
      "{2, 3}\n"
     ]
    }
   ],
   "source": [
    "# 17. Functie care primesete 2 liste de numere (numerele pot fi dublate)\n",
    "# Returnati numerele comune \n",
    "\n",
    "# Ex:\n",
    "# list1 = [1, 1, 2, 3]\n",
    "# list2 = [2, 2, 3, 4]\n",
    "# Raspuns: {2, 3}\n",
    "\n",
    "\n",
    "def numere_comune(list1, list2):\n",
    "    nr_com = set(list1)& set(list2)\n",
    "    return nr_com\n",
    "rezultat = numere_comune([1, 1, 2, 3], [2, 2, 3, 4])\n",
    "print(rezultat)"
   ]
  },
  {
   "cell_type": "code",
   "execution_count": 164,
   "id": "92c6dc68",
   "metadata": {},
   "outputs": [
    {
     "name": "stdout",
     "output_type": "stream",
     "text": [
      "Reducerea este invalida\n",
      "90.0\n",
      "Reducerea este invalida\n",
      "70.0\n"
     ]
    }
   ],
   "source": [
    "# 18. Functie care sa aplice o reducere de pret\n",
    "# Daca produsul costa 100 lei si aplicam reducere de 10%\n",
    "# Pretul va fi 90\n",
    "# Tratati cazurile in care reducerea e invalida. De ex o reducere de 110% e invalida\n",
    "\n",
    "def reducere(pret, procent):\n",
    "    if procent>=100 or procent == 0:\n",
    "        return 'Reducerea este invalida'\n",
    "    else:\n",
    "        pret_redus = pret - pret*procent/100\n",
    "    return pret_redus\n",
    "rezultat1 = reducere(100, 110)\n",
    "rezultat2 = reducere(100, 10)  \n",
    "rezultat3 = reducere(100, 0)\n",
    "rezultat4 = reducere(100, 30)\n",
    "print(rezultat1)\n",
    "print(rezultat2)\n",
    "print(rezultat3)\n",
    "print(rezultat4)"
   ]
  },
  {
   "cell_type": "code",
   "execution_count": 170,
   "id": "a63ae463",
   "metadata": {},
   "outputs": [
    {
     "name": "stdout",
     "output_type": "stream",
     "text": [
      "Data si ora curenta: 2022-03-17 20:13:16.203128\n"
     ]
    }
   ],
   "source": [
    "# 19. Functie care sa afiseze data si ora curenta\n",
    "\n",
    "from datetime import datetime\n",
    "now = datetime.now()\n",
    "print(f'Data si ora curenta: {now}')"
   ]
  },
  {
   "cell_type": "code",
   "execution_count": 4,
   "id": "cba71906",
   "metadata": {},
   "outputs": [
    {
     "name": "stdout",
     "output_type": "stream",
     "text": [
      "Introduceti anul nasterii: 1984\n",
      "Introduceti luna nasterii: 08\n",
      "Introduceti ziua nasterii: 21\n",
      "155\n"
     ]
    }
   ],
   "source": [
    "# 20. Functie care sa afiseze cate zile mai sunt pana la ziua ta / \n",
    "# sau pana la craciun daca nu vrei sa ne zici cand e ziua ta :)\n",
    "\n",
    "from datetime import datetime\n",
    "def zi_de_nastere():\n",
    "    an = int(input('Introduceti anul nasterii: '))\n",
    "    luna = int(input('Introduceti luna nasterii: '))\n",
    "    zi = int(input('Introduceti ziua nasterii: '))\n",
    "    data_nasterii = datetime(an, luna, zi)\n",
    "    return data_nasterii\n",
    "\n",
    "def zile_pana_la_ziua_mea(data_nasterii, now):\n",
    "    zile1 = datetime(now.year, data_nasterii.month, data_nasterii.day)\n",
    "    zile2 = datetime(now.year+1, data_nasterii.month, data_nasterii.day)\n",
    "    if zile1>now:\n",
    "        return (zile1-now).days\n",
    "    else:\n",
    "        return (zile2-now).days\n",
    "birthday = zi_de_nastere()    \n",
    "now = datetime.now()\n",
    "calcul = zile_pana_la_ziua_mea(birthday, now)\n",
    "print(calcul)"
   ]
  },
  {
   "cell_type": "code",
   "execution_count": 5,
   "id": "53f6aeb3",
   "metadata": {},
   "outputs": [
    {
     "name": "stdout",
     "output_type": "stream",
     "text": [
      "True\n",
      "False\n",
      "False\n"
     ]
    }
   ],
   "source": [
    "# 21. Scrieti o functie care verifica daca un numar natural dat ca argument este sau nu prim.\n",
    "# !Un numar e prim daca se imparte exact NUMAI la 1 si la el insusi (nu are niciun alt divizor)!\n",
    "# Ex: is_prime(17) => True\n",
    "#       is_prime(8) => False\n",
    "\n",
    "def is_prime(nr):\n",
    "    if nr <=1:\n",
    "        return False\n",
    "    for x in range (2,nr):\n",
    "        if (nr % x) == 0:\n",
    "            return False\n",
    "    return True\n",
    "\n",
    "prim1 = is_prime(17)\n",
    "prim2 = is_prime(8)\n",
    "prim3 = is_prime(9)\n",
    "print(prim1)\n",
    "print(prim2)\n",
    "print(prim3)"
   ]
  },
  {
   "cell_type": "code",
   "execution_count": 34,
   "id": "8e441d47",
   "metadata": {},
   "outputs": [
    {
     "name": "stdout",
     "output_type": "stream",
     "text": [
      "[3, 5, 7, 11, 13, 17, 19, 23, 29, 31]\n"
     ]
    }
   ],
   "source": [
    "# 22. Creati o functie care are ca parametrii 2 numere naturale  a,b cu a<b si returneaza lista formata din\n",
    "# numerele prime din intervalul [a,b]\n",
    "# Ex: list_of_primes_in_interval(3, 31) =>  [3, 5, 7, 11, 13, 17, 19, 23, 29, 31]\n",
    "\n",
    "lista = []\n",
    "def list_of_primes_in_interval(a,b):\n",
    "    for x in range(a, b+1):\n",
    "        if x <= 1:\n",
    "            break\n",
    "        else:\n",
    "            for j in range (2, x):\n",
    "                if (x % j) == 0:\n",
    "                    break\n",
    "            else:\n",
    "                lista.append(x)\n",
    "    return lista\n",
    "lista_primes1 = list_of_primes_in_interval(3,31)\n",
    "print(lista_primes1)\n",
    "            \n",
    "    "
   ]
  },
  {
   "cell_type": "code",
   "execution_count": null,
   "id": "7e929c17",
   "metadata": {},
   "outputs": [],
   "source": []
  }
 ],
 "metadata": {
  "kernelspec": {
   "display_name": "Python 3 (ipykernel)",
   "language": "python",
   "name": "python3"
  },
  "language_info": {
   "codemirror_mode": {
    "name": "ipython",
    "version": 3
   },
   "file_extension": ".py",
   "mimetype": "text/x-python",
   "name": "python",
   "nbconvert_exporter": "python",
   "pygments_lexer": "ipython3",
   "version": "3.8.10"
  }
 },
 "nbformat": 4,
 "nbformat_minor": 5
}
