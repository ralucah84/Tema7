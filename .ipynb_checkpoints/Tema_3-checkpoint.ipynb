{
 "cells": [
  {
   "cell_type": "code",
   "execution_count": 68,
   "id": "479b4efd",
   "metadata": {},
   "outputs": [
    {
     "name": "stdout",
     "output_type": "stream",
     "text": [
      "['do', 're', 'mi', 'fa', 'sol', 'la', 'si', 'do']\n",
      "['do', 'si', 'la', 'sol', 'fa', 'mi', 're', 'do']\n",
      "['do', 're', 'mi', 'fa', 'sol', 'la', 'si', 'do']\n"
     ]
    }
   ],
   "source": [
    "# Am rezolvat momentan cele mai simple, am ramas un pic in urma, fac tot posibilul sa le fac si pe ultimele 3 cat mai repede...\n",
    "\n",
    "\n",
    "\n",
    "\n",
    "# Ex_1.\n",
    "# Declara o lista note_muzicale in care sa pui do re mi etc pana la do\n",
    "# Afiseaz-o\n",
    "# Inverseaza ordinea folosind slicing si suprascrie aceasta lista\n",
    "# Printeaza varianta actuala (inversata)\n",
    "# Pe aceasta lista, aplica o metoda care banuiesti ca face acelasi lucru, adica sa ii inverseze ordinea. \n",
    "# Nu trebuie sa o suprascrii in acest caz, deoarece metoda face asta automat)\n",
    "# Printeaza varianta actuala a listei. Practic ai ajuns inapoi la varianta initiala\n",
    "\n",
    "# Concluzii: slicing e temporar, daca vrei sa pastrezi noua varianta va trebuie sa suprascrii lista sau sa o salvezi \n",
    "# intr-o lista noua. Metoda gasita de tine, face suprascrierea automat si permanentizeaza aceste modificari. \n",
    "# Ambele variante isi gasesc utilitatea in functie de ce ne dorim in acel moment. \n",
    "\n",
    "note_muzicale = ['do', 're', 'mi', 'fa', 'sol', 'la', 'si', 'do']\n",
    "print(note_muzicale)\n",
    "note_muzicale = note_muzicale[::-1]\n",
    "print(note_muzicale)\n",
    "note_muzicale.reverse()\n",
    "print (note_muzicale)\n"
   ]
  },
  {
   "cell_type": "code",
   "execution_count": 16,
   "id": "058cdd80",
   "metadata": {},
   "outputs": [
    {
     "name": "stdout",
     "output_type": "stream",
     "text": [
      "Nota do apare de 2 ori\n"
     ]
    }
   ],
   "source": [
    "# Ex_2. \n",
    "# De cate ori apare ‘do’?\n",
    "\n",
    "note_muzicale = ['do', 're', 'mi', 'fa', 'sol', 'la', 'si', 'do']\n",
    "print (f'Nota do apare de {note_muzicale.count(\"do\")} ori') "
   ]
  },
  {
   "cell_type": "code",
   "execution_count": 21,
   "id": "c1f328b6",
   "metadata": {},
   "outputs": [
    {
     "name": "stdout",
     "output_type": "stream",
     "text": [
      "[3, 1, 0, 2, 5, 0, 7, 1]\n",
      "[3, 1, 0, 2, 5, 0, 7, 1]\n"
     ]
    }
   ],
   "source": [
    "# Ex_3.\n",
    "# Avand 2 liste, [3, 1, 0, 2] si [6, 5, 4]\n",
    "# Gasiti 2 variante sa le uniti intr-o singura lista.\n",
    "\n",
    "lst_1 = [3, 1, 0, 2]\n",
    "lst_2 = [5, 0, 7, 1]\n",
    "\n",
    "#V1\n",
    "lst_3 = lst_1 + lst_2\n",
    "print (lst_3)\n",
    "\n",
    "# #V2\n",
    "# lst_4 = list(set(lst_1) | set(lst_2))\n",
    "# print (lst_4)\n",
    "\n",
    "#V3\n",
    "lst_5 = [*lst_1, *lst_2]\n",
    "print (lst_5)"
   ]
  },
  {
   "cell_type": "code",
   "execution_count": 36,
   "id": "6f9247f2",
   "metadata": {},
   "outputs": [
    {
     "name": "stdout",
     "output_type": "stream",
     "text": [
      "[0, 1, 2, 3, 4, 5, 6]\n",
      "[1, 2, 3, 4, 5, 6]\n"
     ]
    }
   ],
   "source": [
    "# Ex_4.\n",
    "# Sortati si afisati lista generata la ex anterior\n",
    "# Stergeti numarul 0 folosind o functie\n",
    "# Afisati iar lista\n",
    "\n",
    "lst_1 = [3, 1, 0, 2]\n",
    "lst_2 = [6, 5, 4]\n",
    "lst_3 = lst_1 + lst_2\n",
    "lst_3.sort()\n",
    "print(lst_3)\n",
    "\n",
    "lst_3.remove(0)\n",
    "print (lst_3)"
   ]
  },
  {
   "cell_type": "code",
   "execution_count": 37,
   "id": "dcef4f8b",
   "metadata": {},
   "outputs": [
    {
     "name": "stdout",
     "output_type": "stream",
     "text": [
      "Lista nu este goala\n"
     ]
    }
   ],
   "source": [
    "# Ex_5. \n",
    "# Folosind un if verificati lista generata la ex3 si afisati\n",
    "# Lista este goala\n",
    "# Lista nu este goala\n",
    "\n",
    "lst_1 = [3, 1, 0, 2]\n",
    "lst_2 = [6, 5, 4]\n",
    "lst_3 = lst_1 + lst_2\n",
    "\n",
    "if len(lst_3) == 0:\n",
    "    print ('Lista este goala')\n",
    "else:\n",
    "    print ('Lista nu este goala')"
   ]
  },
  {
   "cell_type": "code",
   "execution_count": 38,
   "id": "8a61268b",
   "metadata": {},
   "outputs": [
    {
     "name": "stdout",
     "output_type": "stream",
     "text": [
      "[]\n"
     ]
    }
   ],
   "source": [
    "# Ex_6. \n",
    "# Folositi o functie care sa stearga lista de la ex3\n",
    "\n",
    "lst_1 = [3, 1, 0, 2]\n",
    "lst_2 = [6, 5, 4]\n",
    "lst_3 = lst_1 + lst_2\n",
    "lst_3.clear()\n",
    "print (lst_3)"
   ]
  },
  {
   "cell_type": "code",
   "execution_count": 39,
   "id": "8aeb102d",
   "metadata": {},
   "outputs": [
    {
     "name": "stdout",
     "output_type": "stream",
     "text": [
      "[]\n",
      "Lista este goala\n"
     ]
    }
   ],
   "source": [
    "# Ex_7. \n",
    "# Copy paste la ex 5. Verificati inca o data.\n",
    "# Acum ar trebui sa se afiseze ca lista e goala\n",
    "\n",
    "lst_1 = [3, 1, 0, 2]\n",
    "lst_2 = [6, 5, 4]\n",
    "lst_3 = lst_1 + lst_2\n",
    "lst_3.clear()\n",
    "print (lst_3)\n",
    "\n",
    "if len(lst_3) == 0:\n",
    "    print ('Lista este goala')\n",
    "else:\n",
    "    print ('Lista nu este goala')"
   ]
  },
  {
   "cell_type": "code",
   "execution_count": 40,
   "id": "b37e3b6f",
   "metadata": {},
   "outputs": [
    {
     "name": "stdout",
     "output_type": "stream",
     "text": [
      "['Ana', 'Gigel', 'Dorel']\n"
     ]
    }
   ],
   "source": [
    "# Ex_8. \n",
    "# Avand dictionarul dict1 = {'Ana' : 8, 'Gigel' : 10, 'Dorel' : 5}\n",
    "# Folositi o functie ca sa afisati Elevii (cheile)\n",
    "\n",
    "dict1 = {'Ana' : 8, 'Gigel' : 10, 'Dorel' : 5}\n",
    "elevi = list(dict1.keys())\n",
    "print(elevi)"
   ]
  },
  {
   "cell_type": "code",
   "execution_count": 44,
   "id": "b2a80633",
   "metadata": {},
   "outputs": [
    {
     "name": "stdout",
     "output_type": "stream",
     "text": [
      "Ana a luat nota 8\n",
      "Gigel a luat nota 10\n",
      "Dorel a luat nota 5\n"
     ]
    }
   ],
   "source": [
    "# Ex_9. \n",
    "# Printati cei 3 elevi si notele lor\n",
    "# Ex: ‘Ana a luat nota {x}’\n",
    "# Doar nota o veti lua folosindu-va de cheie\n",
    "\n",
    "dict1 = {'Ana' : 8, 'Gigel' : 10, 'Dorel' : 5}\n",
    "for elem in dict1:\n",
    "    print (elem, 'a luat nota', dict1[elem])"
   ]
  },
  {
   "cell_type": "code",
   "execution_count": 59,
   "id": "35270ef2",
   "metadata": {},
   "outputs": [
    {
     "name": "stdout",
     "output_type": "stream",
     "text": [
      "{'Ana': 8, 'Gigel': 10, 'Dorel': 6}\n",
      "Dupa contestatie, Dorel a luat nota 6\n"
     ]
    }
   ],
   "source": [
    "# Ex_10.\n",
    "# Dorel a facut contestatie si a primit 6\n",
    "# Modificati nota lui Dorel in 6\n",
    "# Printati nota dupa modificare\n",
    "\n",
    "dict1 = {'Ana' : 8, 'Gigel' : 10, 'Dorel' : 5}\n",
    "dict1 ['Dorel'] = 6\n",
    "print (dict1)\n",
    "print ('Dupa contestatie, Dorel a luat nota', dict1['Dorel'])"
   ]
  },
  {
   "cell_type": "code",
   "execution_count": 61,
   "id": "b41126ba",
   "metadata": {},
   "outputs": [
    {
     "name": "stdout",
     "output_type": "stream",
     "text": [
      "{'Ana': 8, 'Dorel': 5, 'Ionica': 9}\n"
     ]
    }
   ],
   "source": [
    "# Ex_11.\n",
    "# Gigel se transfera din clasa\n",
    "# Cautati o functie care sa il stearga\n",
    "# Vine un coleg nou. Adaugati Ionica, cu nota 9\n",
    "# Printati dictionarul schimbat\n",
    "\n",
    "dict1 = {'Ana' : 8, 'Gigel' : 10, 'Dorel' : 5}\n",
    "dict1.pop('Gigel')\n",
    "dict1['Ionica'] = 9\n",
    "print(dict1)"
   ]
  },
  {
   "cell_type": "code",
   "execution_count": 63,
   "id": "ae19c2bd",
   "metadata": {},
   "outputs": [
    {
     "name": "stdout",
     "output_type": "stream",
     "text": [
      "{'sambata', 'vineri', 'luni', 'duminica', 'joi', 'miercuri', 'marti'}\n"
     ]
    }
   ],
   "source": [
    "# Aici nu prea am inteles cerinta... 'luni' e deja in set si setul nu contine elemente duplicate.\n",
    "# Observ ca trebuie sa adaug 'luni' la setul zilele_sapt care e diferit de zile_sapt, insa nu vad nicio legatura intre cele 2\n",
    "# iar afisarea se cere pt zile_sapt, la care, conform textului, nu i-am facut nicio modificare...\n",
    "# Anyway, banuiesc ca ideea ar fi sa folosim add-ul pt seturi\n",
    "\n",
    "# Ex_12.\n",
    "# Set\n",
    "# zile_sapt = {'luni', 'marti', 'miercuri', 'joi', 'vineri', 'sambata', 'duminica'}\n",
    "# weekend = {'sambata', 'duminica'}\n",
    "# Adaugati in zilele_sapt ‘luni’\n",
    "# Afisati zile_sapt\n",
    "\n",
    "zile_sapt = {'luni', 'marti', 'miercuri', 'joi', 'vineri', 'sambata', 'duminica'}\n",
    "zile_sapt.add('luni')\n",
    "print (zile_sapt)"
   ]
  },
  {
   "cell_type": "code",
   "execution_count": 65,
   "id": "b6c1e76c",
   "metadata": {},
   "outputs": [
    {
     "name": "stdout",
     "output_type": "stream",
     "text": [
      "Weekend este un subset al zilelor din sapt\n"
     ]
    }
   ],
   "source": [
    "# Ex_13.\n",
    "# Folositi un if si verificati daca \n",
    "# Weekend este un subset al zilelor din sapt\n",
    "# Weekend nu este un subset al zilelor din sapt\n",
    "\n",
    "zile_sapt = {'luni', 'marti', 'miercuri', 'joi', 'vineri', 'sambata', 'duminica'}\n",
    "weekend = {'sambata', 'duminica'}\n",
    "if weekend.issubset(zile_sapt):\n",
    "    print('Weekend este un subset al zilelor din sapt')\n",
    "else:\n",
    "    print ('Weekend nu este un subset al zilelor din sapt')"
   ]
  },
  {
   "cell_type": "code",
   "execution_count": 66,
   "id": "61e2ef4e",
   "metadata": {},
   "outputs": [
    {
     "name": "stdout",
     "output_type": "stream",
     "text": [
      "{'vineri', 'luni', 'joi', 'miercuri', 'marti'}\n"
     ]
    }
   ],
   "source": [
    "# Ex_14. \n",
    "# Afisati diferentele dintre aceste 2 seturi (exercitiu 12)\n",
    "\n",
    "zile_sapt = {'luni', 'marti', 'miercuri', 'joi', 'vineri', 'sambata', 'duminica'}\n",
    "weekend = {'sambata', 'duminica'}\n",
    "print (zile_sapt - weekend)"
   ]
  },
  {
   "cell_type": "code",
   "execution_count": 1,
   "id": "78d8823e",
   "metadata": {},
   "outputs": [
    {
     "name": "stdout",
     "output_type": "stream",
     "text": [
      "{'sambata', 'duminica'}\n"
     ]
    }
   ],
   "source": [
    "# Ex_15.\n",
    "# Afisati intersectia elementelor din aceste 2 seturi (exercitiu 12)\n",
    "\n",
    "zile_sapt = {'luni', 'marti', 'miercuri', 'joi', 'vineri', 'sambata', 'duminica'}\n",
    "weekend = {'sambata', 'duminica'}\n",
    "print (zile_sapt & weekend)"
   ]
  },
  {
   "cell_type": "code",
   "execution_count": 17,
   "id": "c4eeeb7b",
   "metadata": {},
   "outputs": [
    {
     "name": "stdout",
     "output_type": "stream",
     "text": [
      "Introduceti nr de schimbari efectuate deja: 2\n",
      "Jucatorul care iese: Draga\n",
      "Nu se poate efectua schimbarea, deoarece jucatorul Draga nu e in teren.\n",
      "Mai aveti 1 schimbari\n"
     ]
    }
   ],
   "source": [
    "# Ex_16.\n",
    "# Ne imaginam o echipa de fotbal pt teren sintetic.\n",
    "# 3 Schimbari maxime admise\n",
    "\n",
    "# Declara o Lista cu 5 jucatori\n",
    "# Schimbari_efectuate = va jucati voi cu valori diferite\n",
    "# Schimbari_max = 3\n",
    "\n",
    "# Daca Jucatorul x e in teren si mai avem schimbari la dispozitie\n",
    "# Efectuam schimbarea \n",
    "# Stergem jucatorul scos din lista\n",
    "# Adaugam jucatorul intrat\n",
    "# Afisam a intra x, a iesit y, mai aveti z schimbari\n",
    "# Daca jucatorul nu e in teren:\n",
    "# Afisati ‘ nu se poate efectua schimbarea deoarece jucatorul x nu e in teren’\n",
    "# Afisati ‘mai aveti z schimbari’-\n",
    "\n",
    "# Testati codul cu diferite valori\n",
    "\n",
    "\n",
    "jucatori = ['Popa', 'Ionescu', 'Hagi', 'Petrescu', 'Popescu']\n",
    "schimbari_efectuate = int(input ('Introduceti nr de schimbari efectuate deja: '))\n",
    "schimbari_max = 3\n",
    "schimbari_disp = schimbari_max - schimbari_efectuate\n",
    "\n",
    "\n",
    "\n",
    "if schimbari_efectuate < schimbari_max:\n",
    "    jucatorul_iesit = input('Jucatorul care iese: ')\n",
    "    if jucatorul_iesit in jucatori:\n",
    "        jucatorul_intrat = input('Jucatorul care intra: ')\n",
    "        jucatori.remove (jucatorul_iesit)\n",
    "        jucatori.append (jucatorul_intrat)\n",
    "        print (f'A intrat {jucatorul_intrat}, a iesit {jucatorul_iesit}, mai aveti {schimbari_disp} schimbari')\n",
    "        print (f'Jucatorii care sunt acum in teren: {jucatori}')\n",
    "    else:\n",
    "        print (f'Nu se poate efectua schimbarea, deoarece jucatorul {jucatorul_iesit} nu e in teren.')\n",
    "        print (f'Mai aveti {schimbari_disp} schimbari')\n",
    "else:\n",
    "    print ('Nu mai aveti schimbari disponibile')\n"
   ]
  },
  {
   "cell_type": "code",
   "execution_count": 22,
   "id": "cd4cc0bc",
   "metadata": {},
   "outputs": [
    {
     "name": "stdout",
     "output_type": "stream",
     "text": [
      "['apple', 'cherry']\n"
     ]
    }
   ],
   "source": [
    "# Ex_ 17. Se da o lista cu nume de fructe: fruits = [\"apple\", \"banana\", \"cherry\", \"kiwi\", \"mango\"] .\n",
    "#     Returnati lista formata doar din fructele care contin litera ‘e’: ['apple', 'cherry'].\n",
    "\n",
    "fruits = [\"apple\", \"banana\", \"cherry\", \"kiwi\", \"mango\"]\n",
    "fruits_e = []\n",
    "\n",
    "for fructe in fruits:\n",
    "    if 'e' in fructe:\n",
    "        fruits_e.append(fructe)\n",
    "print(fruits_e)"
   ]
  },
  {
   "cell_type": "code",
   "execution_count": 7,
   "id": "4d3b4db7",
   "metadata": {},
   "outputs": [
    {
     "name": "stdout",
     "output_type": "stream",
     "text": [
      "['banana', 'cherry']\n"
     ]
    }
   ],
   "source": [
    "# Ex_18. Folosindu`va de lista anterioara (fruits) returnati acele fructe care au exact 6 litere.\n",
    "fruits = [\"apple\", \"banana\", \"cherry\", \"kiwi\", \"mango\"]\n",
    "fruits_6 = []\n",
    "for elem in fruits:\n",
    "    if len(elem) == 6:\n",
    "        fruits_6.append(elem)\n",
    "print (fruits_6)"
   ]
  },
  {
   "cell_type": "code",
   "execution_count": null,
   "id": "478eb5b3",
   "metadata": {},
   "outputs": [],
   "source": []
  }
 ],
 "metadata": {
  "kernelspec": {
   "display_name": "Python 3 (ipykernel)",
   "language": "python",
   "name": "python3"
  },
  "language_info": {
   "codemirror_mode": {
    "name": "ipython",
    "version": 3
   },
   "file_extension": ".py",
   "mimetype": "text/x-python",
   "name": "python",
   "nbconvert_exporter": "python",
   "pygments_lexer": "ipython3",
   "version": "3.8.10"
  }
 },
 "nbformat": 4,
 "nbformat_minor": 5
}
