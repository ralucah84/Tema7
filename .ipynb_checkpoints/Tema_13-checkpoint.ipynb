{
 "cells": [
  {
   "cell_type": "code",
   "execution_count": 1,
   "id": "51fdf6a4",
   "metadata": {},
   "outputs": [],
   "source": [
    "# TODO: creati un decorator de tva care sa returneze pretul cu TVA al produsului pentru cele 2 functii de mai jos!\n",
    "\n",
    "# def get_phone_price(price):\n",
    "#     print(f\"Price of phone is: {price}\")\n",
    "#     return price\n",
    "\n",
    "# def get_laptop_price(price):\n",
    "#     print(f\"Price of laptop is: {price}\")\n",
    "#     return price"
   ]
  },
  {
   "cell_type": "code",
   "execution_count": 5,
   "id": "0263420c",
   "metadata": {},
   "outputs": [],
   "source": [
    "def decorator_tva(original_func):\n",
    "    def wrapper(price):\n",
    "        price_including_tva = price * 1.19\n",
    "        print (f'Price of product including TVA: {price_including_tva}')\n",
    "        return price_including_tva\n",
    "    return wrapper"
   ]
  },
  {
   "cell_type": "code",
   "execution_count": 6,
   "id": "6a3f2df5",
   "metadata": {},
   "outputs": [],
   "source": [
    "@decorator_tva\n",
    "def get_phone_price(price):\n",
    "    print(f\"Price of phone is: {price}\")\n",
    "    return price"
   ]
  },
  {
   "cell_type": "code",
   "execution_count": 7,
   "id": "81ee1b7d",
   "metadata": {},
   "outputs": [],
   "source": [
    "@decorator_tva\n",
    "def get_laptop_price(price):\n",
    "    print(f\"Price of laptop is: {price}\")\n",
    "    return price"
   ]
  },
  {
   "cell_type": "code",
   "execution_count": 8,
   "id": "7f997be7",
   "metadata": {},
   "outputs": [
    {
     "name": "stdout",
     "output_type": "stream",
     "text": [
      "Price of product including TVA: 119.0\n"
     ]
    },
    {
     "data": {
      "text/plain": [
       "119.0"
      ]
     },
     "execution_count": 8,
     "metadata": {},
     "output_type": "execute_result"
    }
   ],
   "source": [
    "get_phone_price(100)"
   ]
  },
  {
   "cell_type": "code",
   "execution_count": 10,
   "id": "43f26283",
   "metadata": {},
   "outputs": [
    {
     "name": "stdout",
     "output_type": "stream",
     "text": [
      "Price of product including TVA: 2380.0\n"
     ]
    },
    {
     "data": {
      "text/plain": [
       "2380.0"
      ]
     },
     "execution_count": 10,
     "metadata": {},
     "output_type": "execute_result"
    }
   ],
   "source": [
    "get_laptop_price(2000)"
   ]
  },
  {
   "cell_type": "code",
   "execution_count": null,
   "id": "f2190382",
   "metadata": {},
   "outputs": [],
   "source": []
  },
  {
   "cell_type": "code",
   "execution_count": 11,
   "id": "a147acc7",
   "metadata": {},
   "outputs": [],
   "source": [
    "import sqlite3"
   ]
  },
  {
   "cell_type": "code",
   "execution_count": 12,
   "id": "7b93780d",
   "metadata": {},
   "outputs": [],
   "source": [
    "conn = sqlite3.connect(\"test.db\")"
   ]
  },
  {
   "cell_type": "code",
   "execution_count": 13,
   "id": "e2e0362a",
   "metadata": {},
   "outputs": [],
   "source": [
    "cur = conn.cursor()"
   ]
  },
  {
   "cell_type": "code",
   "execution_count": 14,
   "id": "3b23a423",
   "metadata": {},
   "outputs": [
    {
     "data": {
      "text/plain": [
       "<sqlite3.Cursor at 0xa16dab0>"
      ]
     },
     "execution_count": 14,
     "metadata": {},
     "output_type": "execute_result"
    }
   ],
   "source": [
    "cur.executescript(\"\"\"\n",
    "CREATE TABLE Students (\n",
    "id INTEGER PRIMARY KEY AUTOINCREMENT,    \n",
    "name TEXT NOT NULL,\n",
    "email TEXT NOT NULL,\n",
    "age INTEGER NOT NULL CHECK (age > 0),\n",
    "class_id INTEGER NOT NULL,\n",
    "FOREIGN KEY(class_id) REFERENCES Classes(id)\n",
    ");\n",
    "\n",
    "\n",
    "CREATE TABLE Grades (\n",
    "id INTEGER PRIMARY KEY AUTOINCREMENT,    \n",
    "topic TEXT NOT NULL,\n",
    "grade REAL NOT NULL CHECK (grade BETWEEN 0.0 AND 10.0),\n",
    "student_id INTEGER NOT NULL,\n",
    "FOREIGN KEY(student_id) REFERENCES Students(id)\n",
    ");\n",
    "\"\"\")"
   ]
  },
  {
   "cell_type": "code",
   "execution_count": 15,
   "id": "ce0055d0",
   "metadata": {},
   "outputs": [
    {
     "data": {
      "text/plain": [
       "<sqlite3.Cursor at 0xa16dab0>"
      ]
     },
     "execution_count": 15,
     "metadata": {},
     "output_type": "execute_result"
    }
   ],
   "source": [
    "cur.execute(\"SELECT * FROM Students;\")"
   ]
  },
  {
   "cell_type": "code",
   "execution_count": 16,
   "id": "7752637b",
   "metadata": {},
   "outputs": [
    {
     "data": {
      "text/plain": [
       "[]"
      ]
     },
     "execution_count": 16,
     "metadata": {},
     "output_type": "execute_result"
    }
   ],
   "source": [
    "cur.fetchall()"
   ]
  },
  {
   "cell_type": "code",
   "execution_count": 17,
   "id": "3c931075",
   "metadata": {},
   "outputs": [
    {
     "data": {
      "text/plain": [
       "<sqlite3.Cursor at 0xa16dab0>"
      ]
     },
     "execution_count": 17,
     "metadata": {},
     "output_type": "execute_result"
    }
   ],
   "source": [
    "cur.execute(\"INSERT INTO Students (name, email, age) VALUES ('Avram Bogdan', 'avram.bogdan@myschool.com', 18);\")\n",
    "cur.execute(\"INSERT INTO Students (name, email, age) VALUES ('Constantinescu Diana', 'constantinescu.diana@myschool.com', 19);\")"
   ]
  },
  {
   "cell_type": "code",
   "execution_count": 18,
   "id": "0a6c8c2a",
   "metadata": {},
   "outputs": [
    {
     "data": {
      "text/plain": [
       "[(1, 'Avram Bogdan', 'avram.bogdan@myschool.com', 18),\n",
       " (2, 'Constantinescu Diana', 'constantinescu.diana@myschool.com', 19)]"
      ]
     },
     "execution_count": 18,
     "metadata": {},
     "output_type": "execute_result"
    }
   ],
   "source": [
    "cur.execute(\"SELECT * FROM Students;\")\n",
    "cur.fetchall()"
   ]
  },
  {
   "cell_type": "code",
   "execution_count": 19,
   "id": "61d55da0",
   "metadata": {},
   "outputs": [],
   "source": [
    "conn.commit()"
   ]
  },
  {
   "cell_type": "code",
   "execution_count": 20,
   "id": "43d58e3a",
   "metadata": {},
   "outputs": [
    {
     "data": {
      "text/plain": [
       "<sqlite3.Cursor at 0xa16dab0>"
      ]
     },
     "execution_count": 20,
     "metadata": {},
     "output_type": "execute_result"
    }
   ],
   "source": [
    "cur.execute(\"INSERT INTO Students (name, email, age) VALUES ('Ene Flavia', 'ene.flavia@myschool.com', 20);\")"
   ]
  },
  {
   "cell_type": "code",
   "execution_count": 21,
   "id": "20dd7394",
   "metadata": {},
   "outputs": [
    {
     "data": {
      "text/plain": [
       "[(1, 'Avram Bogdan', 'avram.bogdan@myschool.com', 18)]"
      ]
     },
     "execution_count": 21,
     "metadata": {},
     "output_type": "execute_result"
    }
   ],
   "source": [
    "cur.execute(\"SELECT * FROM Students WHERE id=1;\")\n",
    "cur.fetchall()"
   ]
  },
  {
   "cell_type": "code",
   "execution_count": 22,
   "id": "74656aa1",
   "metadata": {},
   "outputs": [
    {
     "data": {
      "text/plain": [
       "<sqlite3.Cursor at 0xa16dab0>"
      ]
     },
     "execution_count": 22,
     "metadata": {},
     "output_type": "execute_result"
    }
   ],
   "source": [
    "grades_values = [\n",
    "    (\"Informatica\", 8, 1),\n",
    "    (\"Informatica\", 10, 1),\n",
    "    (\"Matematica\", 9, 1),\n",
    "    (\"Limba Romana\", 10, 2),\n",
    "    (\"Chimie\", 9, 2),\n",
    "    (\"Engleza\", 10, 3),\n",
    "    (\"Engleza\", 6, 1),\n",
    "    (\"Informatica\", 6, 3),\n",
    "    (\"Informatica\", 10, 2)\n",
    "       \n",
    "]\n",
    "\n",
    "sql_query = \"INSERT INTO Grades (topic, grade, student_id) VALUES (?, ?, ?)\"\n",
    "cur.executemany(sql_query, grades_values)"
   ]
  },
  {
   "cell_type": "code",
   "execution_count": 23,
   "id": "25dc67a5",
   "metadata": {},
   "outputs": [
    {
     "data": {
      "text/plain": [
       "<sqlite3.Cursor at 0xa16dab0>"
      ]
     },
     "execution_count": 23,
     "metadata": {},
     "output_type": "execute_result"
    }
   ],
   "source": [
    "cur.execute(\"SELECT * FROM Grades;\")"
   ]
  },
  {
   "cell_type": "code",
   "execution_count": 24,
   "id": "61831ca4",
   "metadata": {},
   "outputs": [
    {
     "data": {
      "text/plain": [
       "[(1, 'Informatica', 8.0, 1),\n",
       " (2, 'Informatica', 10.0, 1),\n",
       " (3, 'Matematica', 9.0, 1),\n",
       " (4, 'Limba Romana', 10.0, 2),\n",
       " (5, 'Chimie', 9.0, 2),\n",
       " (6, 'Engleza', 10.0, 3),\n",
       " (7, 'Engleza', 6.0, 1),\n",
       " (8, 'Informatica', 6.0, 3),\n",
       " (9, 'Informatica', 10.0, 2)]"
      ]
     },
     "execution_count": 24,
     "metadata": {},
     "output_type": "execute_result"
    }
   ],
   "source": [
    "cur.fetchall()"
   ]
  },
  {
   "cell_type": "code",
   "execution_count": 25,
   "id": "8b00391c",
   "metadata": {},
   "outputs": [
    {
     "ename": "IntegrityError",
     "evalue": "CHECK constraint failed: age > 0",
     "output_type": "error",
     "traceback": [
      "\u001b[1;31m---------------------------------------------------------------------------\u001b[0m",
      "\u001b[1;31mIntegrityError\u001b[0m                            Traceback (most recent call last)",
      "Input \u001b[1;32mIn [25]\u001b[0m, in \u001b[0;36m<module>\u001b[1;34m\u001b[0m\n\u001b[1;32m----> 1\u001b[0m \u001b[43mcur\u001b[49m\u001b[38;5;241;43m.\u001b[39;49m\u001b[43mexecute\u001b[49m\u001b[43m(\u001b[49m\u001b[38;5;124;43m\"\u001b[39;49m\u001b[38;5;124;43mINSERT INTO Students (name, email, age) VALUES (\u001b[39;49m\u001b[38;5;124;43m'\u001b[39;49m\u001b[38;5;124;43mGheorghe Hagiu\u001b[39;49m\u001b[38;5;124;43m'\u001b[39;49m\u001b[38;5;124;43m, \u001b[39;49m\u001b[38;5;124;43m'\u001b[39;49m\u001b[38;5;124;43mene.flavia@myschool.com\u001b[39;49m\u001b[38;5;124;43m'\u001b[39;49m\u001b[38;5;124;43m, -1);\u001b[39;49m\u001b[38;5;124;43m\"\u001b[39;49m\u001b[43m)\u001b[49m\n",
      "\u001b[1;31mIntegrityError\u001b[0m: CHECK constraint failed: age > 0"
     ]
    }
   ],
   "source": [
    "cur.execute(\"INSERT INTO Students (name, email, age) VALUES ('Gheorghe Hagiu', 'ene.flavia@myschool.com', -1);\")"
   ]
  },
  {
   "cell_type": "code",
   "execution_count": 28,
   "id": "28dc2971",
   "metadata": {},
   "outputs": [],
   "source": [
    "conn.commit()"
   ]
  },
  {
   "cell_type": "code",
   "execution_count": 31,
   "id": "c40a2a81",
   "metadata": {},
   "outputs": [
    {
     "data": {
      "text/plain": [
       "[(6, 'Engleza', 10.0, 3, 3, 'Ene Flavia', 'ene.flavia@myschool.com', 20),\n",
       " (8, 'Informatica', 6.0, 3, 3, 'Ene Flavia', 'ene.flavia@myschool.com', 20)]"
      ]
     },
     "execution_count": 31,
     "metadata": {},
     "output_type": "execute_result"
    }
   ],
   "source": [
    "# Vrem sa returnam din baza de date toate notele studentei Ene Flavia\n",
    "\n",
    "cur.execute(\"SELECT * FROM Grades g JOIN Students s ON g.student_id=s.id WHERE s.name='Ene Flavia';\")\n",
    "cur.fetchall()\n",
    "\n",
    "# ce vedem aici e o relatie de tip one-to-many, avem un singur student cu mai multe note..."
   ]
  },
  {
   "cell_type": "code",
   "execution_count": 36,
   "id": "b49de77c",
   "metadata": {},
   "outputs": [
    {
     "data": {
      "text/plain": [
       "<sqlite3.Cursor at 0xa16dab0>"
      ]
     },
     "execution_count": 36,
     "metadata": {},
     "output_type": "execute_result"
    }
   ],
   "source": [
    "# acum ne dorim sa adaugam clase (Classes), unde Classes au subject, day_of_week , timeframe \n",
    "# cu precizarea ca un student poate fi inscris la mai multe clase si o clasa poate avea mai multi studenti\n",
    "\n",
    "# TODO: cum am structura baza de date in cazul acesta??\n",
    "\n",
    "\n",
    "cur.executescript(\"\"\"\n",
    "CREATE TABLE Classes (\n",
    "class_id INTEGER PRIMARY KEY AUTOINCREMENT,\n",
    "subject TEXT NOT NULL,\n",
    "day_of_week TEXT NOT NULL,\n",
    "timeframe TEXT NOT NULL,\n",
    "student_id INTEGER NOT NULL,\n",
    "FOREIGN KEY(student_id) REFERENCES Students(id)\n",
    ");\n",
    "\"\"\")\n"
   ]
  },
  {
   "cell_type": "code",
   "execution_count": 46,
   "id": "800af5c3",
   "metadata": {},
   "outputs": [
    {
     "data": {
      "text/plain": [
       "<sqlite3.Cursor at 0xa16dab0>"
      ]
     },
     "execution_count": 46,
     "metadata": {},
     "output_type": "execute_result"
    }
   ],
   "source": [
    "classes_values = [\n",
    "    (\"Informatica\", 'Monday', '09-10', 1),\n",
    "    (\"Informatica\", 'Monday', '09-10', 2),\n",
    "    (\"Informatica\", 'Monday', '09-10', 3),\n",
    "    (\"Matematica\", \"Tuesday\", '10-11',1),\n",
    "    (\"Matematica\", \"Tuesday\", '10-11',2),\n",
    "    (\"Matematica\", \"Tuesday\", '10-11',3),\n",
    "    (\"Chimie\", 'Wednesday', '09-10', 1),\n",
    "    (\"Chimie\", 'Wednesday', '09-10', 2),\n",
    "    (\"Chimie\", 'Wednesday', '09-10', 3),\n",
    "    (\"Engleza\", 'Friday', '11-12', 1),\n",
    "    (\"Engleza\", 'Friday', '11-12', 2),\n",
    "    (\"Engleza\", 'Friday', '11-12', 3)     \n",
    "]\n",
    "\n",
    "sql_query = \"INSERT INTO Classes (subject, day_of_week, timeframe, student_id) VALUES (?, ?, ?, ?)\"\n",
    "cur.executemany(sql_query, classes_values)"
   ]
  },
  {
   "cell_type": "code",
   "execution_count": 40,
   "id": "d002051e",
   "metadata": {},
   "outputs": [],
   "source": [
    "conn.commit()"
   ]
  },
  {
   "cell_type": "code",
   "execution_count": 42,
   "id": "69e6e985",
   "metadata": {},
   "outputs": [
    {
     "data": {
      "text/plain": [
       "<sqlite3.Cursor at 0xa16dab0>"
      ]
     },
     "execution_count": 42,
     "metadata": {},
     "output_type": "execute_result"
    }
   ],
   "source": [
    "cur.execute(\"SELECT * FROM Classes;\")"
   ]
  },
  {
   "cell_type": "code",
   "execution_count": 43,
   "id": "d217e963",
   "metadata": {},
   "outputs": [
    {
     "data": {
      "text/plain": [
       "[(1, 'Informatica', 'Monday', '09-10', 1),\n",
       " (2, 'Informatica', 'Monday', '09-10', 2),\n",
       " (3, 'Informatica', 'Monday', '09-10', 3),\n",
       " (4, 'Matematica', 'Tuesday', '10-11', 1),\n",
       " (5, 'Matematica', 'Tuesday', '10-11', 2),\n",
       " (6, 'Matematica', 'Tuesday', '10-11', 3),\n",
       " (7, 'Chimie', 'Wednesday', '09-10', 1),\n",
       " (8, 'Chimie', 'Wednesday', '09-10', 2),\n",
       " (9, 'Chimie', 'Wednesday', '09-10', 3),\n",
       " (10, 'Engleza', 'Friday', '11-12', 1),\n",
       " (11, 'Engleza', 'Friday', '11-12', 2),\n",
       " (12, 'Engleza', 'Friday', '11-12', 3)]"
      ]
     },
     "execution_count": 43,
     "metadata": {},
     "output_type": "execute_result"
    }
   ],
   "source": [
    "cur.fetchall()"
   ]
  },
  {
   "cell_type": "code",
   "execution_count": 44,
   "id": "d8f6b296",
   "metadata": {},
   "outputs": [],
   "source": [
    "# TODO: testati niste SQL queries de UPDATE, DELETE in functie de o variabila nu de o valoare hardcodata\n",
    "#   si mai incercati sa selectati din baza de date toate notele studentului cu id=1 la topic informatica folosindu`va de \n",
    "# urmatorul dictionar\n",
    "# values_dict = {'id': 1, 'topic': 'Informatica'}\n",
    "\n",
    "# Bonus: Incercati sa structurati query`urile in functii\n"
   ]
  },
  {
   "cell_type": "code",
   "execution_count": null,
   "id": "6d0bfd45",
   "metadata": {},
   "outputs": [],
   "source": [
    "UPDATE "
   ]
  }
 ],
 "metadata": {
  "kernelspec": {
   "display_name": "Python 3 (ipykernel)",
   "language": "python",
   "name": "python3"
  },
  "language_info": {
   "codemirror_mode": {
    "name": "ipython",
    "version": 3
   },
   "file_extension": ".py",
   "mimetype": "text/x-python",
   "name": "python",
   "nbconvert_exporter": "python",
   "pygments_lexer": "ipython3",
   "version": "3.8.10"
  }
 },
 "nbformat": 4,
 "nbformat_minor": 5
}
