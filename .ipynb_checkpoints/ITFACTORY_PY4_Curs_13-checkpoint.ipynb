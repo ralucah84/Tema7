{
 "cells": [
  {
   "cell_type": "markdown",
   "id": "8f2665e0",
   "metadata": {},
   "source": [
    "# Decorators"
   ]
  },
  {
   "cell_type": "code",
   "execution_count": 1,
   "id": "4daa0611",
   "metadata": {},
   "outputs": [],
   "source": [
    "def hello():\n",
    "    print(\"hello, pythonistas\")"
   ]
  },
  {
   "cell_type": "code",
   "execution_count": 2,
   "id": "600a4477",
   "metadata": {},
   "outputs": [
    {
     "name": "stdout",
     "output_type": "stream",
     "text": [
      "hello, pythonistas\n"
     ]
    }
   ],
   "source": [
    "hello()"
   ]
  },
  {
   "cell_type": "code",
   "execution_count": 3,
   "id": "1e633d2a",
   "metadata": {},
   "outputs": [],
   "source": [
    "def greet():\n",
    "    print(\"Greetings to you!\")"
   ]
  },
  {
   "cell_type": "code",
   "execution_count": 5,
   "id": "c77331ee",
   "metadata": {},
   "outputs": [
    {
     "data": {
      "text/plain": [
       "<function __main__.hello()>"
      ]
     },
     "execution_count": 5,
     "metadata": {},
     "output_type": "execute_result"
    }
   ],
   "source": [
    "hello"
   ]
  },
  {
   "cell_type": "code",
   "execution_count": 6,
   "id": "75cc5ba2",
   "metadata": {},
   "outputs": [],
   "source": [
    "my_func = hello"
   ]
  },
  {
   "cell_type": "code",
   "execution_count": 7,
   "id": "103aed5b",
   "metadata": {},
   "outputs": [
    {
     "name": "stdout",
     "output_type": "stream",
     "text": [
      "hello, pythonistas\n"
     ]
    }
   ],
   "source": [
    "my_func()"
   ]
  },
  {
   "cell_type": "code",
   "execution_count": 8,
   "id": "e1608e1a",
   "metadata": {},
   "outputs": [],
   "source": [
    "del hello"
   ]
  },
  {
   "cell_type": "code",
   "execution_count": 9,
   "id": "212f5396",
   "metadata": {},
   "outputs": [
    {
     "name": "stdout",
     "output_type": "stream",
     "text": [
      "hello, pythonistas\n"
     ]
    }
   ],
   "source": [
    "my_func()"
   ]
  },
  {
   "cell_type": "code",
   "execution_count": 19,
   "id": "16da7a6d",
   "metadata": {},
   "outputs": [],
   "source": [
    "def cool():  # create_user\n",
    "    def super_cool():  # is_valid_email\n",
    "        return \"This is super cool!!\"\n",
    "    \n",
    "    return super_cool()\n",
    "    "
   ]
  },
  {
   "cell_type": "code",
   "execution_count": 20,
   "id": "8037bd0a",
   "metadata": {},
   "outputs": [
    {
     "data": {
      "text/plain": [
       "'This is super cool!!'"
      ]
     },
     "execution_count": 20,
     "metadata": {},
     "output_type": "execute_result"
    }
   ],
   "source": [
    "cool()"
   ]
  },
  {
   "cell_type": "code",
   "execution_count": 21,
   "id": "11bd127d",
   "metadata": {},
   "outputs": [],
   "source": [
    "def cool():  \n",
    "    def super_cool():\n",
    "        return \"This is super cool!!\"\n",
    "    \n",
    "    return super_cool\n",
    "    "
   ]
  },
  {
   "cell_type": "code",
   "execution_count": 23,
   "id": "7e848801",
   "metadata": {},
   "outputs": [
    {
     "data": {
      "text/plain": [
       "<function __main__.cool.<locals>.super_cool()>"
      ]
     },
     "execution_count": 23,
     "metadata": {},
     "output_type": "execute_result"
    }
   ],
   "source": [
    "cool()"
   ]
  },
  {
   "cell_type": "code",
   "execution_count": 24,
   "id": "9c51317c",
   "metadata": {},
   "outputs": [],
   "source": [
    "my_new_func = cool()"
   ]
  },
  {
   "cell_type": "code",
   "execution_count": 25,
   "id": "98ed4cfb",
   "metadata": {},
   "outputs": [
    {
     "data": {
      "text/plain": [
       "'This is super cool!!'"
      ]
     },
     "execution_count": 25,
     "metadata": {},
     "output_type": "execute_result"
    }
   ],
   "source": [
    "my_new_func()"
   ]
  },
  {
   "cell_type": "code",
   "execution_count": 35,
   "id": "bcd7f278",
   "metadata": {},
   "outputs": [],
   "source": [
    "def hello():\n",
    "    print(\"hello, pythonistas\")"
   ]
  },
  {
   "cell_type": "code",
   "execution_count": 36,
   "id": "0c782020",
   "metadata": {},
   "outputs": [],
   "source": [
    "# hello students\n",
    "# hello pythonistas"
   ]
  },
  {
   "cell_type": "code",
   "execution_count": 37,
   "id": "d5ce29a6",
   "metadata": {},
   "outputs": [],
   "source": [
    "def decorator_hello(a_function_definition):  \n",
    "    print(\"Hello students\")\n",
    "    \n",
    "    a_function_definition()\n"
   ]
  },
  {
   "cell_type": "code",
   "execution_count": 38,
   "id": "df38d946",
   "metadata": {},
   "outputs": [
    {
     "name": "stdout",
     "output_type": "stream",
     "text": [
      "Hello students\n",
      "hello, pythonistas\n"
     ]
    }
   ],
   "source": [
    "decorator_hello(hello)"
   ]
  },
  {
   "cell_type": "code",
   "execution_count": 39,
   "id": "8ce7a83c",
   "metadata": {},
   "outputs": [
    {
     "name": "stdout",
     "output_type": "stream",
     "text": [
      "hello, pythonistas\n"
     ]
    }
   ],
   "source": [
    "hello()"
   ]
  },
  {
   "cell_type": "code",
   "execution_count": 45,
   "id": "8aaddbc5",
   "metadata": {},
   "outputs": [],
   "source": [
    "def func_needs_decoration():\n",
    "    print(\"I wanna be decorated\")"
   ]
  },
  {
   "cell_type": "code",
   "execution_count": 46,
   "id": "80978f37",
   "metadata": {},
   "outputs": [
    {
     "name": "stdout",
     "output_type": "stream",
     "text": [
      "I wanna be decorated\n"
     ]
    }
   ],
   "source": [
    "func_needs_decoration()"
   ]
  },
  {
   "cell_type": "code",
   "execution_count": 47,
   "id": "29d47985",
   "metadata": {},
   "outputs": [],
   "source": [
    "def new_decorator(original_func):\n",
    "    def wrapper_func():\n",
    "        print(\"Some code before original func\")\n",
    "        \n",
    "        original_func()\n",
    "        \n",
    "        print(\"Some code after original func\")\n",
    "    \n",
    "    return wrapper_func"
   ]
  },
  {
   "cell_type": "code",
   "execution_count": 52,
   "id": "6490c0e3",
   "metadata": {},
   "outputs": [],
   "source": [
    "@new_decorator\n",
    "def func_needs_decoration():\n",
    "    print(\"I wanna be decorated\")"
   ]
  },
  {
   "cell_type": "code",
   "execution_count": 53,
   "id": "ecf94ec1",
   "metadata": {},
   "outputs": [
    {
     "name": "stdout",
     "output_type": "stream",
     "text": [
      "Some code before original func\n",
      "I wanna be decorated\n",
      "Some code after original func\n"
     ]
    }
   ],
   "source": [
    "func_needs_decoration()"
   ]
  },
  {
   "cell_type": "code",
   "execution_count": 75,
   "id": "e272057e",
   "metadata": {},
   "outputs": [],
   "source": [
    "@decorator_greeting\n",
    "def greet():\n",
    "    print(\"Greetings to you!\")"
   ]
  },
  {
   "cell_type": "code",
   "execution_count": 76,
   "id": "3caccd92",
   "metadata": {},
   "outputs": [],
   "source": [
    "@decorator_greeting\n",
    "def hello():\n",
    "    print(\"hello, pythonistas\")\n"
   ]
  },
  {
   "cell_type": "code",
   "execution_count": 77,
   "id": "a1a2e613",
   "metadata": {},
   "outputs": [],
   "source": [
    "@decorator_greeting\n",
    "def salut_name(name):\n",
    "    print(f\"Salut, {name}\")"
   ]
  },
  {
   "cell_type": "code",
   "execution_count": 74,
   "id": "8e9c21c1",
   "metadata": {},
   "outputs": [],
   "source": [
    "def decorator_greeting(original_func):\n",
    "    def wrapper(*args, **kwargs):\n",
    "        print(f\"Entering function: {original_func.__name__}\")\n",
    "    \n",
    "        original_func(*args, **kwargs)\n",
    "    \n",
    "        print(\"Leaving function...\")\n",
    "        \n",
    "    return wrapper"
   ]
  },
  {
   "cell_type": "code",
   "execution_count": 78,
   "id": "8d382d87",
   "metadata": {},
   "outputs": [
    {
     "name": "stdout",
     "output_type": "stream",
     "text": [
      "Entering function: greet\n",
      "Greetings to you!\n",
      "Leaving function...\n"
     ]
    }
   ],
   "source": [
    "greet()"
   ]
  },
  {
   "cell_type": "code",
   "execution_count": 79,
   "id": "1120e08d",
   "metadata": {},
   "outputs": [
    {
     "name": "stdout",
     "output_type": "stream",
     "text": [
      "Entering function: hello\n",
      "hello, pythonistas\n",
      "Leaving function...\n"
     ]
    }
   ],
   "source": [
    "hello()"
   ]
  },
  {
   "cell_type": "code",
   "execution_count": 80,
   "id": "abde1cb0",
   "metadata": {},
   "outputs": [
    {
     "name": "stdout",
     "output_type": "stream",
     "text": [
      "Entering function: salut_name\n",
      "Salut, Aladin\n",
      "Leaving function...\n"
     ]
    }
   ],
   "source": [
    "salut_name(\"Aladin\")"
   ]
  },
  {
   "cell_type": "code",
   "execution_count": 81,
   "id": "79d89f29",
   "metadata": {},
   "outputs": [],
   "source": [
    "def add(*args):\n",
    "    res = 0\n",
    "    for arg in args:\n",
    "        res += arg\n",
    "    return res"
   ]
  },
  {
   "cell_type": "code",
   "execution_count": 82,
   "id": "42904474",
   "metadata": {},
   "outputs": [
    {
     "data": {
      "text/plain": [
       "11"
      ]
     },
     "execution_count": 82,
     "metadata": {},
     "output_type": "execute_result"
    }
   ],
   "source": [
    "add(5,6)"
   ]
  },
  {
   "cell_type": "code",
   "execution_count": 83,
   "id": "cfc13aa8",
   "metadata": {},
   "outputs": [
    {
     "data": {
      "text/plain": [
       "121"
      ]
     },
     "execution_count": 83,
     "metadata": {},
     "output_type": "execute_result"
    }
   ],
   "source": [
    "add(5,6,10,100)"
   ]
  },
  {
   "cell_type": "code",
   "execution_count": 87,
   "id": "edc29d95",
   "metadata": {},
   "outputs": [],
   "source": [
    "def test_kwargs(**kwargs):\n",
    "    print(kwargs['hello'])\n",
    "\n"
   ]
  },
  {
   "cell_type": "code",
   "execution_count": 88,
   "id": "ad1db9d7",
   "metadata": {},
   "outputs": [
    {
     "name": "stdout",
     "output_type": "stream",
     "text": [
      "hi\n"
     ]
    }
   ],
   "source": [
    "test_kwargs(**{\"greet\": \"greetings\", \"hello\": \"hi\", \"salut\": \"salutare\"})"
   ]
  },
  {
   "cell_type": "code",
   "execution_count": 89,
   "id": "13b8fbcc",
   "metadata": {},
   "outputs": [
    {
     "name": "stdout",
     "output_type": "stream",
     "text": [
      "hi\n"
     ]
    }
   ],
   "source": [
    "test_kwargs(greet=\"greetings\", hello=\"hi\", salut=\"salutare\")"
   ]
  },
  {
   "cell_type": "code",
   "execution_count": 90,
   "id": "ca534d7c",
   "metadata": {},
   "outputs": [],
   "source": [
    "def get_phone_price(price):\n",
    "    print(f\"Price of phone is: {price}\")\n",
    "    return price"
   ]
  },
  {
   "cell_type": "code",
   "execution_count": 92,
   "id": "3f8ba10c",
   "metadata": {},
   "outputs": [],
   "source": [
    "def get_laptop_price(price):\n",
    "    print(f\"Price of laptop is: {price}\")\n",
    "    return price\n",
    "\n",
    "# asta ar fi pretul fara tva... si eu vreau sa returnez pretul cu tva"
   ]
  },
  {
   "cell_type": "code",
   "execution_count": 93,
   "id": "f7dfd94f",
   "metadata": {},
   "outputs": [],
   "source": [
    "# TODO: creati un decorator de tva care sa returneze pretul cu TVA al produsului pentru cele 2 functii de mai sus!"
   ]
  },
  {
   "cell_type": "code",
   "execution_count": 94,
   "id": "780734de",
   "metadata": {},
   "outputs": [],
   "source": [
    "import sqlite3"
   ]
  },
  {
   "cell_type": "code",
   "execution_count": 95,
   "id": "c83c806a",
   "metadata": {},
   "outputs": [],
   "source": [
    "# sqlite, PostegreSQL, MySQL, etc sunt baze de date relationale (exista relatii intre entitati/tabele)\n",
    "# sqlite fata de restul e un DB care salveaza datele inte`un singur fisier pe disk!\n",
    "# in timp ce restul sunt deployate in general pe un server"
   ]
  },
  {
   "cell_type": "code",
   "execution_count": 96,
   "id": "3e528dc0",
   "metadata": {},
   "outputs": [],
   "source": [
    "# conn = sqlite3.connect(\"/path/catre/fisieru/db-ului\")\n",
    "conn = sqlite3.connect(\"test.db\")"
   ]
  },
  {
   "cell_type": "code",
   "execution_count": 97,
   "id": "9273d8a2",
   "metadata": {},
   "outputs": [],
   "source": [
    "cur = conn.cursor()"
   ]
  },
  {
   "cell_type": "code",
   "execution_count": 98,
   "id": "21bfdc57",
   "metadata": {},
   "outputs": [],
   "source": [
    "# Se presupunem ca avem nevoie de o baza de date care sa stocheze niste date despre studenti (Students) si notele (Grades) lor,\n",
    "# students ar trebui sa aiba: name, email, age\n",
    "# grades au topic si grade\n",
    "# sa incerca sa design-uim o astfel de baza de date"
   ]
  },
  {
   "cell_type": "code",
   "execution_count": 101,
   "id": "e762c4ae",
   "metadata": {},
   "outputs": [
    {
     "data": {
      "text/plain": [
       "<sqlite3.Cursor at 0x1932695ace0>"
      ]
     },
     "execution_count": 101,
     "metadata": {},
     "output_type": "execute_result"
    }
   ],
   "source": [
    "cur.executescript(\"\"\"\n",
    "CREATE TABLE Students (\n",
    "id INTEGER PRIMARY KEY AUTOINCREMENT,    \n",
    "name TEXT NOT NULL,\n",
    "email TEXT NOT NULL,\n",
    "age INTEGER NOT NULL CHECK (age > 0)\n",
    ");\n",
    "\n",
    "\n",
    "CREATE TABLE Grades (\n",
    "id INTEGER PRIMARY KEY AUTOINCREMENT,    \n",
    "topic TEXT NOT NULL,\n",
    "grade REAL NOT NULL CHECK (grade BETWEEN 0.0 AND 10.0),\n",
    "student_id INTEGER NOT NULL,\n",
    "FOREIGN KEY(student_id) REFERENCES Students(id)\n",
    ");\n",
    "\"\"\")"
   ]
  },
  {
   "cell_type": "code",
   "execution_count": 100,
   "id": "3a253806",
   "metadata": {},
   "outputs": [],
   "source": [
    "# Primary Key (PK): e un field (o coloana) care identifica in mod unic fiecare rand dintr`o tabela\n",
    "#    o astfel de coloana nu poate avea valori duplicate sau valori nule\n",
    "\n",
    "# Foreign Key (FK): e un field (o coloana) al unei tabel care face legatura (relatia) cu o alta tabela,\n",
    "#    identifican astfel o relatie parinte-copil, unde tabela care tine FK este copilul\n",
    "#    in general in tabela copil, coloana FK referentiaza id-ul din tabela parinte"
   ]
  },
  {
   "cell_type": "code",
   "execution_count": 102,
   "id": "73b72b33",
   "metadata": {},
   "outputs": [
    {
     "data": {
      "text/plain": [
       "<sqlite3.Cursor at 0x1932695ace0>"
      ]
     },
     "execution_count": 102,
     "metadata": {},
     "output_type": "execute_result"
    }
   ],
   "source": [
    "cur.execute(\"SELECT * FROM Students;\")"
   ]
  },
  {
   "cell_type": "code",
   "execution_count": 104,
   "id": "6d375701",
   "metadata": {},
   "outputs": [
    {
     "data": {
      "text/plain": [
       "[]"
      ]
     },
     "execution_count": 104,
     "metadata": {},
     "output_type": "execute_result"
    }
   ],
   "source": [
    "cur.fetchall()"
   ]
  },
  {
   "cell_type": "code",
   "execution_count": 105,
   "id": "85514f54",
   "metadata": {},
   "outputs": [
    {
     "data": {
      "text/plain": [
       "<sqlite3.Cursor at 0x1932695ace0>"
      ]
     },
     "execution_count": 105,
     "metadata": {},
     "output_type": "execute_result"
    }
   ],
   "source": [
    "cur.execute(\"INSERT INTO Students (name, email, age) VALUES ('Avram Bogdan', 'avram.bogdan@myschool.com', 18);\")\n",
    "cur.execute(\"INSERT INTO Students (name, email, age) VALUES ('Constantinescu Diana', 'constantinescu.diana@myschool.com', 19);\")\n"
   ]
  },
  {
   "cell_type": "code",
   "execution_count": 107,
   "id": "aaaf482d",
   "metadata": {},
   "outputs": [
    {
     "data": {
      "text/plain": [
       "[(1, 'Avram Bogdan', 'avram.bogdan@myschool.com', 18),\n",
       " (2, 'Constantinescu Diana', 'constantinescu.diana@myschool.com', 19)]"
      ]
     },
     "execution_count": 107,
     "metadata": {},
     "output_type": "execute_result"
    }
   ],
   "source": [
    "cur.execute(\"SELECT * FROM Students;\")\n",
    "cur.fetchall()"
   ]
  },
  {
   "cell_type": "code",
   "execution_count": 117,
   "id": "84d44b57",
   "metadata": {},
   "outputs": [],
   "source": [
    "conn.commit()"
   ]
  },
  {
   "cell_type": "code",
   "execution_count": 109,
   "id": "a6e6f84d",
   "metadata": {},
   "outputs": [
    {
     "data": {
      "text/plain": [
       "<sqlite3.Cursor at 0x1932695ace0>"
      ]
     },
     "execution_count": 109,
     "metadata": {},
     "output_type": "execute_result"
    }
   ],
   "source": [
    "cur.execute(\"INSERT INTO Students (name, email, age) VALUES ('Ene Flavia', 'ene.flavia@myschool.com', 20);\")\n"
   ]
  },
  {
   "cell_type": "code",
   "execution_count": 112,
   "id": "51961029",
   "metadata": {},
   "outputs": [
    {
     "data": {
      "text/plain": [
       "[(1, 'Avram Bogdan', 'avram.bogdan@myschool.com', 18)]"
      ]
     },
     "execution_count": 112,
     "metadata": {},
     "output_type": "execute_result"
    }
   ],
   "source": [
    "cur.execute(\"SELECT * FROM Students WHERE id=1;\")\n",
    "cur.fetchall()"
   ]
  },
  {
   "cell_type": "code",
   "execution_count": 113,
   "id": "799f9152",
   "metadata": {},
   "outputs": [
    {
     "data": {
      "text/plain": [
       "<sqlite3.Cursor at 0x1932695ace0>"
      ]
     },
     "execution_count": 113,
     "metadata": {},
     "output_type": "execute_result"
    }
   ],
   "source": [
    "grades_values = [\n",
    "    (\"Informatica\", 8, 1),\n",
    "    (\"Informatica\", 10, 1),\n",
    "    (\"Matematica\", 9, 1),\n",
    "    (\"Limba Romana\", 10, 2),\n",
    "    (\"Chimie\", 9, 2),\n",
    "    (\"Engleza\", 10, 3),\n",
    "    (\"Engleza\", 6, 1),\n",
    "    (\"Informatica\", 6, 3),\n",
    "    (\"Informatica\", 10, 2)\n",
    "       \n",
    "]\n",
    "\n",
    "sql_query = \"INSERT INTO Grades (topic, grade, student_id) VALUES (?, ?, ?)\"\n",
    "cur.executemany(sql_query, grades_values)"
   ]
  },
  {
   "cell_type": "code",
   "execution_count": 114,
   "id": "f1f53704",
   "metadata": {},
   "outputs": [
    {
     "data": {
      "text/plain": [
       "<sqlite3.Cursor at 0x1932695ace0>"
      ]
     },
     "execution_count": 114,
     "metadata": {},
     "output_type": "execute_result"
    }
   ],
   "source": [
    "cur.execute(\"SELECT * FROM Grades;\")\n"
   ]
  },
  {
   "cell_type": "code",
   "execution_count": 115,
   "id": "3690a65d",
   "metadata": {},
   "outputs": [
    {
     "data": {
      "text/plain": [
       "[(1, 'Informatica', 8.0, 1),\n",
       " (2, 'Informatica', 10.0, 1),\n",
       " (3, 'Matematica', 9.0, 1),\n",
       " (4, 'Limba Romana', 10.0, 2),\n",
       " (5, 'Chimie', 9.0, 2),\n",
       " (6, 'Engleza', 10.0, 3),\n",
       " (7, 'Engleza', 6.0, 1),\n",
       " (8, 'Informatica', 6.0, 3),\n",
       " (9, 'Informatica', 10.0, 2)]"
      ]
     },
     "execution_count": 115,
     "metadata": {},
     "output_type": "execute_result"
    }
   ],
   "source": [
    "cur.fetchall()"
   ]
  },
  {
   "cell_type": "code",
   "execution_count": 116,
   "id": "adbb52bd",
   "metadata": {},
   "outputs": [
    {
     "ename": "IntegrityError",
     "evalue": "CHECK constraint failed: age > 0",
     "output_type": "error",
     "traceback": [
      "\u001b[1;31m---------------------------------------------------------------------------\u001b[0m",
      "\u001b[1;31mIntegrityError\u001b[0m                            Traceback (most recent call last)",
      "\u001b[1;32m~\\AppData\\Local\\Temp/ipykernel_604/1325377158.py\u001b[0m in \u001b[0;36m<module>\u001b[1;34m\u001b[0m\n\u001b[1;32m----> 1\u001b[1;33m \u001b[0mcur\u001b[0m\u001b[1;33m.\u001b[0m\u001b[0mexecute\u001b[0m\u001b[1;33m(\u001b[0m\u001b[1;34m\"INSERT INTO Students (name, email, age) VALUES ('Gheorghe Hagiu', 'ene.flavia@myschool.com', -1);\"\u001b[0m\u001b[1;33m)\u001b[0m\u001b[1;33m\u001b[0m\u001b[1;33m\u001b[0m\u001b[0m\n\u001b[0m",
      "\u001b[1;31mIntegrityError\u001b[0m: CHECK constraint failed: age > 0"
     ]
    }
   ],
   "source": [
    "cur.execute(\"INSERT INTO Students (name, email, age) VALUES ('Gheorghe Hagiu', 'ene.flavia@myschool.com', -1);\")\n"
   ]
  },
  {
   "cell_type": "code",
   "execution_count": 118,
   "id": "42e29d47",
   "metadata": {},
   "outputs": [],
   "source": [
    "conn.commit()"
   ]
  },
  {
   "cell_type": "code",
   "execution_count": 119,
   "id": "840171db",
   "metadata": {},
   "outputs": [
    {
     "data": {
      "text/plain": [
       "[(6, 'Engleza', 10.0, 3, 3, 'Ene Flavia', 'ene.flavia@myschool.com', 20),\n",
       " (8, 'Informatica', 6.0, 3, 3, 'Ene Flavia', 'ene.flavia@myschool.com', 20)]"
      ]
     },
     "execution_count": 119,
     "metadata": {},
     "output_type": "execute_result"
    }
   ],
   "source": [
    "# Vrem sa returnam din baza de date toate notele studentei Ene Flavia\n",
    "\n",
    "cur.execute(\"SELECT * FROM Grades g JOIN Students s ON g.student_id=s.id WHERE s.name=;\")\n",
    "cur.fetchall()\n",
    "\n",
    "# ce vedem aici e o relatie de tip one-to-many, avem un singur student cu mai multe note..."
   ]
  },
  {
   "cell_type": "code",
   "execution_count": 120,
   "id": "b41fb9d6",
   "metadata": {},
   "outputs": [],
   "source": [
    "# acum ne dorim sa adaugam clase (Classes), unde Classes au subject, day_of_week , timeframe \n",
    "# cu precizarea ca un student poate fi inscris la mai multe clase si o clasa poate avea mai multi studenti\n",
    "\n",
    "# TODO: cum am structura baza de date in cazul acesta??"
   ]
  },
  {
   "cell_type": "code",
   "execution_count": null,
   "id": "8c6594c2",
   "metadata": {},
   "outputs": [],
   "source": [
    "# TODO: testati niste SQL queries de UPDATE, DELETE in functie de o variabila nu de o valoare hardcodata\n",
    "#   si mai incercati sa selectati din baza de date toate notele studentului cu id=1 la topic informatica folosindu`va de urmatorul dictionar\n",
    "values_dict = {'id': 1, 'topic': 'Informatica'}\n",
    "\n",
    "# Bonus: Incercati sa structurati query`urile in functii"
   ]
  }
 ],
 "metadata": {
  "kernelspec": {
   "display_name": "Python 3 (ipykernel)",
   "language": "python",
   "name": "python3"
  },
  "language_info": {
   "codemirror_mode": {
    "name": "ipython",
    "version": 3
   },
   "file_extension": ".py",
   "mimetype": "text/x-python",
   "name": "python",
   "nbconvert_exporter": "python",
   "pygments_lexer": "ipython3",
   "version": "3.8.10"
  }
 },
 "nbformat": 4,
 "nbformat_minor": 5
}
