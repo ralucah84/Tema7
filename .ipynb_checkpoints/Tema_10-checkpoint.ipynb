{
 "cells": [
  {
   "cell_type": "code",
   "execution_count": 4,
   "id": "5ea078dd",
   "metadata": {},
   "outputs": [
    {
     "name": "stdout",
     "output_type": "stream",
     "text": [
      "{'Alex': 39, 'Bob': 43, 'Carol': 1, 'Dave': 49, 'Eugen': 90}\n"
     ]
    }
   ],
   "source": [
    "# 1. Avand o lista de clienti, folosindu`va de dict comprehension implementati un giveaway unde fiecare client \n",
    "# primeste un discount aleatoriu (intre 1 - 100%)\n",
    "# customers = [\"Alex\",\"Bob\",\"Carol\",\"Dave\",\"Eugen\"]\n",
    "# examplu output: {'Alex': 15, 'Bob': 23, 'Carol': 90, 'Dave': 78, 'Eugen': 51}\n",
    "\n",
    "import random\n",
    "customers = [\"Alex\",\"Bob\",\"Carol\",\"Dave\",\"Eugen\"]\n",
    "discount = {}\n",
    "\n",
    "discount = {elem: random.randint(1,100) for elem in customers}\n",
    "print(discount)\n"
   ]
  },
  {
   "cell_type": "code",
   "execution_count": 12,
   "id": "429ed8b1",
   "metadata": {},
   "outputs": [
    {
     "name": "stdout",
     "output_type": "stream",
     "text": [
      "[11, 13, 17, 19, 23, 29, 31, 37, 41, 43, 47, 53, 59, 61, 67, 71, 73, 79, 83, 89, 97]\n",
      "10978895066407230594062391177770267\n"
     ]
    }
   ],
   "source": [
    "# 2. Calculati produsul numerelor prime de 2 cifre cu ajutorul filter si reduce\n",
    "\n",
    "numbers = [*range(10,99)]\n",
    "def is_prime(nr):\n",
    "    if nr <=1:\n",
    "        return False\n",
    "    for x in range (2,nr):\n",
    "        if (nr % x) == 0:\n",
    "            return False\n",
    "    return True\n",
    "\n",
    "\n",
    "from functools import reduce\n",
    "\n",
    "def multiply(x,y):\n",
    "    return x*y\n",
    "    \n",
    "    \n",
    "res_list_prime = list(filter(is_prime, numbers))\n",
    "res_list = reduce(multiply, res_list_prime)  \n",
    "print (res_list_prime)\n",
    "print (res_list)\n"
   ]
  },
  {
   "cell_type": "code",
   "execution_count": 20,
   "id": "2e005c5f",
   "metadata": {},
   "outputs": [
    {
     "name": "stdout",
     "output_type": "stream",
     "text": [
      "[7, 14, 21, 28, 35, 42, 49, 56, 63, 70, 77, 84, 91, 98]\n",
      "735\n"
     ]
    }
   ],
   "source": [
    "# 3. Folosindu`va de lambda impreuna cu map/filter/reduce calulati suma numerelor \n",
    "# divizibile cu 7 dintre primele 100 numere naturale\n",
    "\n",
    "from functools import reduce\n",
    "numbers = [*range(1,100)]\n",
    "\n",
    "def add(x,y):\n",
    "    return x+y\n",
    "\n",
    "numbers_div_7=list(filter(lambda nr: nr % 7 == 0, numbers))\n",
    "res_list = reduce(add, numbers_div_7)\n",
    "print(numbers_div_7)\n",
    "print(res_list)\n"
   ]
  },
  {
   "cell_type": "code",
   "execution_count": null,
   "id": "4eb61cf8",
   "metadata": {},
   "outputs": [],
   "source": []
  }
 ],
 "metadata": {
  "kernelspec": {
   "display_name": "Python 3 (ipykernel)",
   "language": "python",
   "name": "python3"
  },
  "language_info": {
   "codemirror_mode": {
    "name": "ipython",
    "version": 3
   },
   "file_extension": ".py",
   "mimetype": "text/x-python",
   "name": "python",
   "nbconvert_exporter": "python",
   "pygments_lexer": "ipython3",
   "version": "3.8.10"
  }
 },
 "nbformat": 4,
 "nbformat_minor": 5
}
