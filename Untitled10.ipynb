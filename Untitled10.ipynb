{
 "cells": [
  {
   "cell_type": "code",
   "execution_count": 2,
   "id": "5af523c5",
   "metadata": {},
   "outputs": [
    {
     "name": "stdout",
     "output_type": "stream",
     "text": [
      "['zz', 'ff', 'CC', 'BB', 'aa']\n",
      "['zz', 'ff', 'CC', 'BB', 'aa']\n"
     ]
    }
   ],
   "source": [
    "# Sortati lista urmatoare in mod descendent non-case sensitive!! \n",
    "# ['ff', 'BB', 'aa', 'CC', 'zz'] => ['zz', 'ff', 'CC', 'BB', 'aa']\n",
    "\n",
    "#V1\n",
    "my_list = ['ff', 'BB', 'aa', 'CC', 'zz']\n",
    "sorted_list = sorted(my_list, key =str.casefold, reverse = True)\n",
    "print (sorted_list)\n",
    "\n",
    "#V2\n",
    "my_list = ['ff', 'BB', 'aa', 'CC', 'zz']\n",
    "sorted_list = sorted(my_list, key=lambda s: s.lower(), reverse = True)\n",
    "print (sorted_list)"
   ]
  },
  {
   "cell_type": "code",
   "execution_count": null,
   "id": "52abb6cd",
   "metadata": {},
   "outputs": [],
   "source": []
  }
 ],
 "metadata": {
  "kernelspec": {
   "display_name": "Python 3 (ipykernel)",
   "language": "python",
   "name": "python3"
  },
  "language_info": {
   "codemirror_mode": {
    "name": "ipython",
    "version": 3
   },
   "file_extension": ".py",
   "mimetype": "text/x-python",
   "name": "python",
   "nbconvert_exporter": "python",
   "pygments_lexer": "ipython3",
   "version": "3.8.10"
  }
 },
 "nbformat": 4,
 "nbformat_minor": 5
}
